{
 "cells": [
  {
   "cell_type": "markdown",
   "metadata": {},
   "source": [
    "## **0. Importar archivos** df_users_review_curado_sentiments"
   ]
  },
  {
   "cell_type": "code",
   "execution_count": null,
   "metadata": {},
   "outputs": [],
   "source": [
    "import pandas as pd\n",
    "import os\n",
    "from typing import List\n",
    "import pandas as pd"
   ]
  },
  {
   "cell_type": "code",
   "execution_count": null,
   "metadata": {},
   "outputs": [],
   "source": [
    "# Directorio de entrada\n",
    "directorio_entrada = \"bases/\"\n",
    "\n",
    "# Rutas completas de los archivos Parquet\n",
    "ruta_archivo_parquet_f1 = os.path.join(directorio_entrada, \"df_f1.parquet\")\n",
    "ruta_archivo_parquet_f2_f3 = os.path.join(directorio_entrada, \"df_f2_f3.parquet\")\n",
    "ruta_archivo_parquet_f4_f5 = os.path.join(directorio_entrada, \"df_f4_f5.parquet\")\n",
    "\n",
    "# Importar los DataFrames desde archivos Parquet\n",
    "df_f1 = pd.read_parquet(ruta_archivo_parquet_f1)\n",
    "df_f2_f3 = pd.read_parquet(ruta_archivo_parquet_f2_f3)\n",
    "df_f4_f5 = pd.read_parquet(ruta_archivo_parquet_f4_f5)\n",
    "\n",
    "# Mostrar información sobre los DataFrames recién importados\n",
    "print(\"Información del DataFrame df_f1:\")\n",
    "print(df_f1.info())\n",
    "\n",
    "print(\"\\nInformación del DataFrame df_f2_f3:\")\n",
    "print(df_f2_f3.info())\n",
    "\n",
    "print(\"\\nInformación del DataFrame df_f4_f5:\")\n",
    "print(df_f4_f5.info())"
   ]
  },
  {
   "cell_type": "markdown",
   "metadata": {},
   "source": [
    "## **1. Función PlayTimeGenre**"
   ]
  },
  {
   "cell_type": "code",
   "execution_count": null,
   "metadata": {},
   "outputs": [],
   "source": [
    "\n",
    "def playtime_genre(genero: str):\n",
    "    # Filtra el DataFrame por el género específico\n",
    "    filtered_df = df_f1[df_f1['genres'] == genero]\n",
    "\n",
    "    # Agrupa por año y calcula las horas jugadas sumando\n",
    "    grouped_df = filtered_df.groupby('year_release')['playtime_forever'].sum().reset_index()\n",
    "\n",
    "    # Encuentra el año con más horas jugadas\n",
    "    max_year = grouped_df.loc[grouped_df['playtime_forever'].idxmax()]['year_release']\n",
    "\n",
    "    return {\"Año de lanzamiento con más horas jugadas para {}: {}\".format(genero, max_year)}"
   ]
  },
  {
   "cell_type": "markdown",
   "metadata": {},
   "source": [
    "## **2. Función UserForGenre (FUNCIONA. REVISADO)**"
   ]
  },
  {
   "cell_type": "code",
   "execution_count": null,
   "metadata": {},
   "outputs": [],
   "source": [
    "def UserForGenre(genero: str):\n",
    "    # Filtrar el DataFrame por el género específico\n",
    "    df_genre = df_f2_f3[df_f2_f3['genres'] == genero]\n",
    "\n",
    "    # Agrupar por usuario y año, sumar las horas jugadas\n",
    "    grouped_df = df_genre.groupby(['user_id', 'year_release'])['playtime_forever'].sum().reset_index()\n",
    "\n",
    "    # Encontrar al usuario con más horas jugadas\n",
    "    max_user = grouped_df.loc[grouped_df['playtime_forever'].idxmax()]['user_id']\n",
    "\n",
    "    # Filtrar el DataFrame original para obtener las horas jugadas por año del usuario máximo\n",
    "    max_user_df = df_f2_f3[df_f2_f3['user_id'] == max_user]\n",
    "    max_user_hours_by_year = max_user_df.groupby('year_release')['playtime_forever'].sum().reset_index()\n",
    "\n",
    "    # Crear la lista de la acumulación de horas jugadas por año\n",
    "    horas_jugadas_por_anio = [{\"Año\": int(anio), \"Horas\": int(horas)} for anio, horas in zip(max_user_hours_by_year['year_release'], max_user_hours_by_year['playtime_forever'])]\n",
    "\n",
    "    # Crear el diccionario de retorno\n",
    "    resultado = {\"Usuario con más horas jugadas para Género \" + genero: max_user, \"Horas jugadas\": horas_jugadas_por_anio}\n",
    "\n",
    "    return resultado\n",
    "\n",
    "\n"
   ]
  },
  {
   "cell_type": "markdown",
   "metadata": {},
   "source": [
    "## **3. Función users recommend** (FUNCIONA)"
   ]
  },
  {
   "cell_type": "code",
   "execution_count": null,
   "metadata": {},
   "outputs": [],
   "source": [
    "def UsersRecommend(year):\n",
    "    # Filtrar por año\n",
    "    df_filtered = df_f2_f3[df_f2_f3['year_review'] == year]\n",
    "\n",
    "    # Filtrar por recomendaciones positivas/neutrales\n",
    "    df_filtered = df_filtered[(df_filtered['recommend'] == True) & (df_filtered['Sentiment_Score'].isin([1, 2]))]\n",
    "\n",
    "    # Obtener el top 3 de juegos más recomendados\n",
    "    top_games = df_filtered.groupby('item_name')['recommend'].count().sort_values(ascending=False).head(3)\n",
    "\n",
    "    return top_games\n"
   ]
  },
  {
   "cell_type": "markdown",
   "metadata": {},
   "source": [
    "## **4. Función UsersWorstDeveloper**\n"
   ]
  },
  {
   "cell_type": "code",
   "execution_count": null,
   "metadata": {},
   "outputs": [],
   "source": [
    "def UsersWorstDeveloper(year:int):\n",
    "    # Filtrar por el año deseado en la columna 'year_review'\n",
    "    df_year = df_f4_f5[df_f4_f5['year_review'] == year]\n",
    "\n",
    "    # Agrupar por desarrolladora y calcular las estadísticas\n",
    "    grouped_stats = df_year.groupby('developer').agg({\n",
    "        'recommend': lambda x: (x == False).sum(),\n",
    "        'Sentiment_Score': lambda x: (x == 0).sum()\n",
    "    }).reset_index()\n",
    "\n",
    "    # Ordenar por la suma de juegos no recomendados en orden descendente\n",
    "    sorted_stats = grouped_stats.sort_values(by=['recommend'], ascending=[False])\n",
    "\n",
    "    # Seleccionar las top 3 desarrolladoras\n",
    "    top3_developers = sorted_stats.head(3)\n",
    "\n",
    "    # Crear el formato de retorno\n",
    "    result = []\n",
    "    for i, row in enumerate(top3_developers.iterrows(), 1):\n",
    "        developer = row[1]['developer']\n",
    "        result.append({f\"Puesto {i}\": developer})\n",
    "\n",
    "    return result\n",
    "\n"
   ]
  },
  {
   "cell_type": "markdown",
   "metadata": {},
   "source": [
    "## **5. FUNCION SENTIMENT_ANALYSIS**"
   ]
  },
  {
   "cell_type": "code",
   "execution_count": null,
   "metadata": {},
   "outputs": [],
   "source": [
    "def sentiment_analysis(developer):\n",
    "    # Filtrar el dataframe por la desarrolladora especificada\n",
    "    developer_df = df_f4_f5[df_f4_f5['developer'] == developer]\n",
    "\n",
    "    # Sumar los valores de Sentiment_Score para cada categoría\n",
    "    negative_sum = developer_df[developer_df['Sentiment_Score'] == 0].shape[0]\n",
    "    neutral_sum = developer_df[developer_df['Sentiment_Score'] == 1].shape[0]\n",
    "    positive_sum = developer_df[developer_df['Sentiment_Score'] == 2].shape[0]\n",
    "\n",
    "    # Crear el diccionario de salida\n",
    "    result_dict = {\n",
    "        developer: {\n",
    "            'Negative': negative_sum,\n",
    "            'Neutral': neutral_sum,\n",
    "            'Positive': positive_sum\n",
    "        }\n",
    "    }\n",
    "\n",
    "    return result_dict"
   ]
  }
 ],
 "metadata": {
  "kernelspec": {
   "display_name": "Python 3",
   "language": "python",
   "name": "python3"
  },
  "language_info": {
   "codemirror_mode": {
    "name": "ipython",
    "version": 3
   },
   "file_extension": ".py",
   "mimetype": "text/x-python",
   "name": "python",
   "nbconvert_exporter": "python",
   "pygments_lexer": "ipython3",
   "version": "3.9.18"
  }
 },
 "nbformat": 4,
 "nbformat_minor": 2
}
