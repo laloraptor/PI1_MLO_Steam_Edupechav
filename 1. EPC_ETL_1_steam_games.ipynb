{
  "cells": [
    {
      "cell_type": "markdown",
      "metadata": {
        "id": "EJTgBHFz9qlN"
      },
      "source": [
        "# **EDUARDO PEREZ CHAVARRIA. FT17**\n",
        "## Proyecto individual\n",
        "### ETL 1. Archivo a analizar Steam_games"
      ]
    },
    {
      "cell_type": "markdown",
      "metadata": {},
      "source": [
        "## **Cargamos librerías**"
      ]
    },
    {
      "cell_type": "code",
      "execution_count": 40,
      "metadata": {},
      "outputs": [],
      "source": [
        "import pandas as pd\n",
        "import numpy as np\n",
        "\n",
        "import gzip\n",
        "import json\n",
        "import re"
      ]
    },
    {
      "cell_type": "markdown",
      "metadata": {
        "id": "hZ_zJKTD-v0j"
      },
      "source": [
        "## **1. Importar La base de datos**"
      ]
    },
    {
      "cell_type": "code",
      "execution_count": 41,
      "metadata": {
        "colab": {
          "base_uri": "https://localhost:8080/",
          "height": 756
        },
        "id": "eGbRXdaN1xxz",
        "outputId": "0f39e931-9aa5-43e7-eacb-5ef0b386f06c"
      },
      "outputs": [
        {
          "data": {
            "text/html": [
              "<div>\n",
              "<style scoped>\n",
              "    .dataframe tbody tr th:only-of-type {\n",
              "        vertical-align: middle;\n",
              "    }\n",
              "\n",
              "    .dataframe tbody tr th {\n",
              "        vertical-align: top;\n",
              "    }\n",
              "\n",
              "    .dataframe thead th {\n",
              "        text-align: right;\n",
              "    }\n",
              "</style>\n",
              "<table border=\"1\" class=\"dataframe\">\n",
              "  <thead>\n",
              "    <tr style=\"text-align: right;\">\n",
              "      <th></th>\n",
              "      <th>publisher</th>\n",
              "      <th>genres</th>\n",
              "      <th>app_name</th>\n",
              "      <th>title</th>\n",
              "      <th>url</th>\n",
              "      <th>release_date</th>\n",
              "      <th>tags</th>\n",
              "      <th>reviews_url</th>\n",
              "      <th>specs</th>\n",
              "      <th>price</th>\n",
              "      <th>early_access</th>\n",
              "      <th>id</th>\n",
              "      <th>developer</th>\n",
              "    </tr>\n",
              "  </thead>\n",
              "  <tbody>\n",
              "    <tr>\n",
              "      <th>0</th>\n",
              "      <td>NaN</td>\n",
              "      <td>NaN</td>\n",
              "      <td>NaN</td>\n",
              "      <td>NaN</td>\n",
              "      <td>NaN</td>\n",
              "      <td>NaN</td>\n",
              "      <td>NaN</td>\n",
              "      <td>NaN</td>\n",
              "      <td>NaN</td>\n",
              "      <td>NaN</td>\n",
              "      <td>NaN</td>\n",
              "      <td>NaN</td>\n",
              "      <td>NaN</td>\n",
              "    </tr>\n",
              "    <tr>\n",
              "      <th>1</th>\n",
              "      <td>NaN</td>\n",
              "      <td>NaN</td>\n",
              "      <td>NaN</td>\n",
              "      <td>NaN</td>\n",
              "      <td>NaN</td>\n",
              "      <td>NaN</td>\n",
              "      <td>NaN</td>\n",
              "      <td>NaN</td>\n",
              "      <td>NaN</td>\n",
              "      <td>NaN</td>\n",
              "      <td>NaN</td>\n",
              "      <td>NaN</td>\n",
              "      <td>NaN</td>\n",
              "    </tr>\n",
              "    <tr>\n",
              "      <th>2</th>\n",
              "      <td>NaN</td>\n",
              "      <td>NaN</td>\n",
              "      <td>NaN</td>\n",
              "      <td>NaN</td>\n",
              "      <td>NaN</td>\n",
              "      <td>NaN</td>\n",
              "      <td>NaN</td>\n",
              "      <td>NaN</td>\n",
              "      <td>NaN</td>\n",
              "      <td>NaN</td>\n",
              "      <td>NaN</td>\n",
              "      <td>NaN</td>\n",
              "      <td>NaN</td>\n",
              "    </tr>\n",
              "    <tr>\n",
              "      <th>3</th>\n",
              "      <td>NaN</td>\n",
              "      <td>NaN</td>\n",
              "      <td>NaN</td>\n",
              "      <td>NaN</td>\n",
              "      <td>NaN</td>\n",
              "      <td>NaN</td>\n",
              "      <td>NaN</td>\n",
              "      <td>NaN</td>\n",
              "      <td>NaN</td>\n",
              "      <td>NaN</td>\n",
              "      <td>NaN</td>\n",
              "      <td>NaN</td>\n",
              "      <td>NaN</td>\n",
              "    </tr>\n",
              "    <tr>\n",
              "      <th>4</th>\n",
              "      <td>NaN</td>\n",
              "      <td>NaN</td>\n",
              "      <td>NaN</td>\n",
              "      <td>NaN</td>\n",
              "      <td>NaN</td>\n",
              "      <td>NaN</td>\n",
              "      <td>NaN</td>\n",
              "      <td>NaN</td>\n",
              "      <td>NaN</td>\n",
              "      <td>NaN</td>\n",
              "      <td>NaN</td>\n",
              "      <td>NaN</td>\n",
              "      <td>NaN</td>\n",
              "    </tr>\n",
              "    <tr>\n",
              "      <th>...</th>\n",
              "      <td>...</td>\n",
              "      <td>...</td>\n",
              "      <td>...</td>\n",
              "      <td>...</td>\n",
              "      <td>...</td>\n",
              "      <td>...</td>\n",
              "      <td>...</td>\n",
              "      <td>...</td>\n",
              "      <td>...</td>\n",
              "      <td>...</td>\n",
              "      <td>...</td>\n",
              "      <td>...</td>\n",
              "      <td>...</td>\n",
              "    </tr>\n",
              "    <tr>\n",
              "      <th>120440</th>\n",
              "      <td>Ghost_RUS Games</td>\n",
              "      <td>[Casual, Indie, Simulation, Strategy]</td>\n",
              "      <td>Colony On Mars</td>\n",
              "      <td>Colony On Mars</td>\n",
              "      <td>http://store.steampowered.com/app/773640/Colon...</td>\n",
              "      <td>2018-01-04</td>\n",
              "      <td>[Strategy, Indie, Casual, Simulation]</td>\n",
              "      <td>http://steamcommunity.com/app/773640/reviews/?...</td>\n",
              "      <td>[Single-player, Steam Achievements]</td>\n",
              "      <td>1.99</td>\n",
              "      <td>False</td>\n",
              "      <td>773640</td>\n",
              "      <td>Nikita \"Ghost_RUS\"</td>\n",
              "    </tr>\n",
              "    <tr>\n",
              "      <th>120441</th>\n",
              "      <td>Sacada</td>\n",
              "      <td>[Casual, Indie, Strategy]</td>\n",
              "      <td>LOGistICAL: South Africa</td>\n",
              "      <td>LOGistICAL: South Africa</td>\n",
              "      <td>http://store.steampowered.com/app/733530/LOGis...</td>\n",
              "      <td>2018-01-04</td>\n",
              "      <td>[Strategy, Indie, Casual]</td>\n",
              "      <td>http://steamcommunity.com/app/733530/reviews/?...</td>\n",
              "      <td>[Single-player, Steam Achievements, Steam Clou...</td>\n",
              "      <td>4.99</td>\n",
              "      <td>False</td>\n",
              "      <td>733530</td>\n",
              "      <td>Sacada</td>\n",
              "    </tr>\n",
              "    <tr>\n",
              "      <th>120442</th>\n",
              "      <td>Laush Studio</td>\n",
              "      <td>[Indie, Racing, Simulation]</td>\n",
              "      <td>Russian Roads</td>\n",
              "      <td>Russian Roads</td>\n",
              "      <td>http://store.steampowered.com/app/610660/Russi...</td>\n",
              "      <td>2018-01-04</td>\n",
              "      <td>[Indie, Simulation, Racing]</td>\n",
              "      <td>http://steamcommunity.com/app/610660/reviews/?...</td>\n",
              "      <td>[Single-player, Steam Achievements, Steam Trad...</td>\n",
              "      <td>1.99</td>\n",
              "      <td>False</td>\n",
              "      <td>610660</td>\n",
              "      <td>Laush Dmitriy Sergeevich</td>\n",
              "    </tr>\n",
              "    <tr>\n",
              "      <th>120443</th>\n",
              "      <td>SIXNAILS</td>\n",
              "      <td>[Casual, Indie]</td>\n",
              "      <td>EXIT 2 - Directions</td>\n",
              "      <td>EXIT 2 - Directions</td>\n",
              "      <td>http://store.steampowered.com/app/658870/EXIT_...</td>\n",
              "      <td>2017-09-02</td>\n",
              "      <td>[Indie, Casual, Puzzle, Singleplayer, Atmosphe...</td>\n",
              "      <td>http://steamcommunity.com/app/658870/reviews/?...</td>\n",
              "      <td>[Single-player, Steam Achievements, Steam Cloud]</td>\n",
              "      <td>4.99</td>\n",
              "      <td>False</td>\n",
              "      <td>658870</td>\n",
              "      <td>xropi,stev3ns</td>\n",
              "    </tr>\n",
              "    <tr>\n",
              "      <th>120444</th>\n",
              "      <td>NaN</td>\n",
              "      <td>NaN</td>\n",
              "      <td>Maze Run VR</td>\n",
              "      <td>NaN</td>\n",
              "      <td>http://store.steampowered.com/app/681550/Maze_...</td>\n",
              "      <td>NaN</td>\n",
              "      <td>[Early Access, Adventure, Indie, Action, Simul...</td>\n",
              "      <td>http://steamcommunity.com/app/681550/reviews/?...</td>\n",
              "      <td>[Single-player, Stats, Steam Leaderboards, HTC...</td>\n",
              "      <td>4.99</td>\n",
              "      <td>True</td>\n",
              "      <td>681550</td>\n",
              "      <td>NaN</td>\n",
              "    </tr>\n",
              "  </tbody>\n",
              "</table>\n",
              "<p>120445 rows × 13 columns</p>\n",
              "</div>"
            ],
            "text/plain": [
              "              publisher                                 genres  \\\n",
              "0                   NaN                                    NaN   \n",
              "1                   NaN                                    NaN   \n",
              "2                   NaN                                    NaN   \n",
              "3                   NaN                                    NaN   \n",
              "4                   NaN                                    NaN   \n",
              "...                 ...                                    ...   \n",
              "120440  Ghost_RUS Games  [Casual, Indie, Simulation, Strategy]   \n",
              "120441           Sacada              [Casual, Indie, Strategy]   \n",
              "120442     Laush Studio            [Indie, Racing, Simulation]   \n",
              "120443         SIXNAILS                        [Casual, Indie]   \n",
              "120444              NaN                                    NaN   \n",
              "\n",
              "                        app_name                     title  \\\n",
              "0                            NaN                       NaN   \n",
              "1                            NaN                       NaN   \n",
              "2                            NaN                       NaN   \n",
              "3                            NaN                       NaN   \n",
              "4                            NaN                       NaN   \n",
              "...                          ...                       ...   \n",
              "120440            Colony On Mars            Colony On Mars   \n",
              "120441  LOGistICAL: South Africa  LOGistICAL: South Africa   \n",
              "120442             Russian Roads             Russian Roads   \n",
              "120443       EXIT 2 - Directions       EXIT 2 - Directions   \n",
              "120444               Maze Run VR                       NaN   \n",
              "\n",
              "                                                      url release_date  \\\n",
              "0                                                     NaN          NaN   \n",
              "1                                                     NaN          NaN   \n",
              "2                                                     NaN          NaN   \n",
              "3                                                     NaN          NaN   \n",
              "4                                                     NaN          NaN   \n",
              "...                                                   ...          ...   \n",
              "120440  http://store.steampowered.com/app/773640/Colon...   2018-01-04   \n",
              "120441  http://store.steampowered.com/app/733530/LOGis...   2018-01-04   \n",
              "120442  http://store.steampowered.com/app/610660/Russi...   2018-01-04   \n",
              "120443  http://store.steampowered.com/app/658870/EXIT_...   2017-09-02   \n",
              "120444  http://store.steampowered.com/app/681550/Maze_...          NaN   \n",
              "\n",
              "                                                     tags  \\\n",
              "0                                                     NaN   \n",
              "1                                                     NaN   \n",
              "2                                                     NaN   \n",
              "3                                                     NaN   \n",
              "4                                                     NaN   \n",
              "...                                                   ...   \n",
              "120440              [Strategy, Indie, Casual, Simulation]   \n",
              "120441                          [Strategy, Indie, Casual]   \n",
              "120442                        [Indie, Simulation, Racing]   \n",
              "120443  [Indie, Casual, Puzzle, Singleplayer, Atmosphe...   \n",
              "120444  [Early Access, Adventure, Indie, Action, Simul...   \n",
              "\n",
              "                                              reviews_url  \\\n",
              "0                                                     NaN   \n",
              "1                                                     NaN   \n",
              "2                                                     NaN   \n",
              "3                                                     NaN   \n",
              "4                                                     NaN   \n",
              "...                                                   ...   \n",
              "120440  http://steamcommunity.com/app/773640/reviews/?...   \n",
              "120441  http://steamcommunity.com/app/733530/reviews/?...   \n",
              "120442  http://steamcommunity.com/app/610660/reviews/?...   \n",
              "120443  http://steamcommunity.com/app/658870/reviews/?...   \n",
              "120444  http://steamcommunity.com/app/681550/reviews/?...   \n",
              "\n",
              "                                                    specs price early_access  \\\n",
              "0                                                     NaN   NaN          NaN   \n",
              "1                                                     NaN   NaN          NaN   \n",
              "2                                                     NaN   NaN          NaN   \n",
              "3                                                     NaN   NaN          NaN   \n",
              "4                                                     NaN   NaN          NaN   \n",
              "...                                                   ...   ...          ...   \n",
              "120440                [Single-player, Steam Achievements]  1.99        False   \n",
              "120441  [Single-player, Steam Achievements, Steam Clou...  4.99        False   \n",
              "120442  [Single-player, Steam Achievements, Steam Trad...  1.99        False   \n",
              "120443   [Single-player, Steam Achievements, Steam Cloud]  4.99        False   \n",
              "120444  [Single-player, Stats, Steam Leaderboards, HTC...  4.99         True   \n",
              "\n",
              "            id                 developer  \n",
              "0          NaN                       NaN  \n",
              "1          NaN                       NaN  \n",
              "2          NaN                       NaN  \n",
              "3          NaN                       NaN  \n",
              "4          NaN                       NaN  \n",
              "...        ...                       ...  \n",
              "120440  773640        Nikita \"Ghost_RUS\"  \n",
              "120441  733530                    Sacada  \n",
              "120442  610660  Laush Dmitriy Sergeevich  \n",
              "120443  658870             xropi,stev3ns  \n",
              "120444  681550                       NaN  \n",
              "\n",
              "[120445 rows x 13 columns]"
            ]
          },
          "execution_count": 41,
          "metadata": {},
          "output_type": "execute_result"
        }
      ],
      "source": [
        "#señalamos donde está la base de datos.\n",
        "ruta = \"bases/steam_games.json.gz\"\n",
        "\n",
        "# creamos una lista para almacenar los diccionarios, ya que vamos a trabajar con json\n",
        "lista_datos = []\n",
        "\n",
        "#La base tiene formato gz, entonces descomprimimos primero con gzip y vamos cargando los datos en diccionario\n",
        "with gzip.open(ruta, \"rt\", encoding=\"utf-8\") as file:\n",
        "    for line in file:\n",
        "        data = json.loads(line)\n",
        "        lista_datos.append(data)\n",
        "\n",
        "# convertimos la lista de datos en DF\n",
        "df_juegos = pd.DataFrame(lista_datos)\n",
        "\n",
        "# Visualizamos el df. No usamos print porque es más práctico \n",
        "df_juegos\n"
      ]
    },
    {
      "cell_type": "markdown",
      "metadata": {
        "id": "47QKOOop_E6z"
      },
      "source": [
        "## **2. Eliminar columnas innecesarias**"
      ]
    },
    {
      "cell_type": "markdown",
      "metadata": {
        "id": "SGgnh1bjld6t"
      },
      "source": [
        "eliminamos las columnas que no se necesitan para el modelo ni para las consultas"
      ]
    },
    {
      "cell_type": "code",
      "execution_count": 42,
      "metadata": {
        "colab": {
          "base_uri": "https://localhost:8080/"
        },
        "id": "BzkiISYVliXc",
        "outputId": "0c00c473-b9b9-4a96-aaf7-25ab2803a166"
      },
      "outputs": [
        {
          "name": "stdout",
          "output_type": "stream",
          "text": [
            "(120445, 8)\n"
          ]
        }
      ],
      "source": [
        "df_juegos = df_juegos.drop([\"title\", \"specs\", \"tags\", \"url\", \"reviews_url\"], axis=1)\n",
        "df_juegos.columns\n",
        "print(df_juegos.shape)\n"
      ]
    },
    {
      "cell_type": "markdown",
      "metadata": {},
      "source": [
        "## **3. Eliminando valores nulos en todo DF**"
      ]
    },
    {
      "cell_type": "markdown",
      "metadata": {
        "id": "aDppVEUm0QEX"
      },
      "source": [
        "Necesitamos empezar a limpiar quitando valores nulos. dropear na puede hacerse con el argumento any por defecto o solo para las filas que son todas na y conservar la mayor cantidad de datos. Para tomar esta decisión observaremos primero el porcentaje de nas por columna\n"
      ]
    },
    {
      "cell_type": "code",
      "execution_count": 43,
      "metadata": {
        "colab": {
          "base_uri": "https://localhost:8080/"
        },
        "id": "4fDQGBsExdKQ",
        "outputId": "c1d6b5d0-0d06-4ced-fd32-34ec04a4fc81"
      },
      "outputs": [
        {
          "name": "stdout",
          "output_type": "stream",
          "text": [
            "publisher       80.004982\n",
            "genres          76.045498\n",
            "app_name        73.321433\n",
            "release_date    75.035909\n",
            "price           74.463033\n",
            "early_access    73.319773\n",
            "id              73.321433\n",
            "developer       76.058782\n",
            "dtype: float64\n"
          ]
        }
      ],
      "source": [
        "porcentaje_nulos = df_juegos.isna().mean() * 100\n",
        "print(porcentaje_nulos)"
      ]
    },
    {
      "cell_type": "markdown",
      "metadata": {
        "id": "EWD7lzzcz8Fp"
      },
      "source": [
        "Debido a que el porcentaje de nulos no es homogeneo en todas las columnas se infiere que en algunas filas a veces hay solo 1 na, en otras más de 2, etc. Por lo anterior, y con el fin de mantener la mayor cantidad de datos, solo haremos dropna a las filas donde todos sus valores sean NA.\n",
        "\n"
      ]
    },
    {
      "cell_type": "code",
      "execution_count": 44,
      "metadata": {
        "colab": {
          "base_uri": "https://localhost:8080/"
        },
        "id": "YzuVe36UEgz_",
        "outputId": "e145f6a7-0d4d-4d85-f8dc-666e808566f9"
      },
      "outputs": [
        {
          "data": {
            "text/plain": [
              "(32135, 8)"
            ]
          },
          "execution_count": 44,
          "metadata": {},
          "output_type": "execute_result"
        }
      ],
      "source": [
        "# especificando \"all\" dropea Nas solo allí donde toda la fila tiene NA\n",
        "df_juegos = df_juegos.dropna(how=\"all\").reset_index(drop=True)\n",
        "df_juegos.shape\n",
        "#notamos que la base ha disminuido casi al 25%"
      ]
    },
    {
      "cell_type": "markdown",
      "metadata": {
        "id": "fXCN6C2E3c1v"
      },
      "source": [
        "Exploramos cómo han cambiado las cantidades de nulos\n"
      ]
    },
    {
      "cell_type": "code",
      "execution_count": 45,
      "metadata": {
        "colab": {
          "base_uri": "https://localhost:8080/"
        },
        "id": "k73K-T6g3ZKh",
        "outputId": "4dda1e15-5a7f-4476-ba4a-2d599f94f2e1"
      },
      "outputs": [
        {
          "name": "stdout",
          "output_type": "stream",
          "text": [
            "publisher       25.056792\n",
            "genres          10.216275\n",
            "app_name         0.006224\n",
            "release_date     6.432239\n",
            "price            4.285047\n",
            "early_access     0.000000\n",
            "id               0.006224\n",
            "developer       10.266065\n",
            "dtype: float64\n"
          ]
        }
      ],
      "source": [
        "porcentaje_nulos = df_juegos.isna().mean() * 100\n",
        "print(porcentaje_nulos)"
      ]
    },
    {
      "cell_type": "markdown",
      "metadata": {
        "id": "wNXsBb73_pCy"
      },
      "source": [
        "## **4. Exploramos el resumen de tipo de datos por columna**"
      ]
    },
    {
      "cell_type": "markdown",
      "metadata": {
        "id": "_Fvh8n71imcr"
      },
      "source": [
        "Vamos a ver un resumen del tipo de datos que contiene cada columna. Notamos que varias tienen listas en las filas, Pensaremos si después debemos desagregar estos valores. En este momento es claro que debemos hacerlo para el género, de manera que, en los casos donde un registro tiene una lista de géneros, habrá que hacer que cada registro se guarde con cada uno de los géneros por separado. Después trataremos cada columna, allí haremos dropeo de NAs de manera más específica"
      ]
    },
    {
      "cell_type": "code",
      "execution_count": 46,
      "metadata": {
        "colab": {
          "base_uri": "https://localhost:8080/"
        },
        "id": "RoNRolneEj0f",
        "outputId": "89286ed7-4237-41e9-b3a2-16b7b51be209"
      },
      "outputs": [
        {
          "name": "stdout",
          "output_type": "stream",
          "text": [
            "Columna: publisher\n",
            "Tipo de dato: <class 'str'>\n",
            "Primeros valores: ['Kotoshiro', 'Making Fun, Inc.', 'Poolians.com', '彼岸领域', nan]\n",
            "\n",
            "\n",
            "Columna: genres\n",
            "Tipo de dato: <class 'list'>\n",
            "Primeros valores: [['Action', 'Casual', 'Indie', 'Simulation', 'Strategy'], ['Free to Play', 'Indie', 'RPG', 'Strategy'], ['Casual', 'Free to Play', 'Indie', 'Simulation', 'Sports'], ['Action', 'Adventure', 'Casual'], nan]\n",
            "\n",
            "\n",
            "Columna: app_name\n",
            "Tipo de dato: <class 'str'>\n",
            "Primeros valores: ['Lost Summoner Kitty', 'Ironbound', 'Real Pool 3D - Poolians', '弹炸人2222', 'Log Challenge']\n",
            "\n",
            "\n",
            "Columna: release_date\n",
            "Tipo de dato: <class 'str'>\n",
            "Primeros valores: ['2018-01-04', '2018-01-04', '2017-07-24', '2017-12-07', nan]\n",
            "\n",
            "\n",
            "Columna: price\n",
            "Tipo de dato: <class 'float'>\n",
            "Primeros valores: [4.99, 'Free To Play', 'Free to Play', 0.99, 2.99]\n",
            "\n",
            "\n",
            "Columna: early_access\n",
            "Tipo de dato: <class 'bool'>\n",
            "Primeros valores: [False, False, False, False, False]\n",
            "\n",
            "\n",
            "Columna: id\n",
            "Tipo de dato: <class 'str'>\n",
            "Primeros valores: ['761140', '643980', '670290', '767400', '773570']\n",
            "\n",
            "\n",
            "Columna: developer\n",
            "Tipo de dato: <class 'str'>\n",
            "Primeros valores: ['Kotoshiro', 'Secret Level SRL', 'Poolians.com', '彼岸领域', nan]\n",
            "\n",
            "\n"
          ]
        }
      ],
      "source": [
        "resumen_tipos_columnas = df_juegos.apply(lambda x: {\"tipo_dato\": type(x.iloc[0]), \"primeros_valores\": x.iloc[:5].tolist()})\n",
        "\n",
        "# Mostrar el resumen\n",
        "for columna, resumen in resumen_tipos_columnas.items():\n",
        "    print(f\"Columna: {columna}\")\n",
        "    print(f\"Tipo de dato: {resumen['tipo_dato']}\")\n",
        "    print(f\"Primeros valores: {resumen['primeros_valores']}\")\n",
        "    print(\"\\n\")\n"
      ]
    },
    {
      "cell_type": "markdown",
      "metadata": {
        "id": "cpwBsZ5jYIzb"
      },
      "source": [
        "**Exploremos los valores unicos en las columnas para darnos una idea de cómo hacer después la limpieza**"
      ]
    },
    {
      "cell_type": "code",
      "execution_count": 47,
      "metadata": {
        "colab": {
          "base_uri": "https://localhost:8080/"
        },
        "id": "fbUp04nfExXn",
        "outputId": "f0eaa6c1-9042-48b3-d2fb-4d3a814651d8"
      },
      "outputs": [
        {
          "name": "stdout",
          "output_type": "stream",
          "text": [
            "Valores únicos en la columna 'publisher':\n",
            "['Kotoshiro' 'Making Fun, Inc.' 'Poolians.com' ... 'OrtiGames/OrtiSoft'\n",
            " 'INGAME' 'Bidoniera Games']\n",
            "\n",
            "Valores únicos en la columna 'genres':\n",
            "['Action' 'Casual' 'Indie' 'Simulation' 'Strategy' 'Free to Play' 'RPG'\n",
            " 'Sports' 'Adventure' nan 'Racing' 'Early Access' 'Massively Multiplayer'\n",
            " 'Animation &amp; Modeling' 'Video Production' 'Utilities'\n",
            " 'Web Publishing' 'Education' 'Software Training'\n",
            " 'Design &amp; Illustration' 'Audio Production' 'Photo Editing'\n",
            " 'Accounting']\n",
            "\n",
            "Valores únicos en la columna 'app_name':\n",
            "['Lost Summoner Kitty' 'Ironbound' 'Real Pool 3D - Poolians' ...\n",
            " 'Russian Roads' 'EXIT 2 - Directions' 'Maze Run VR']\n",
            "\n",
            "Valores únicos en la columna 'release_date':\n",
            "['2018-01-04' '2017-07-24' '2017-12-07' ... '2016-11-19' 'January 2018'\n",
            " '2018-10-01']\n",
            "\n",
            "Valores únicos en la columna 'price':\n",
            "[4.99 'Free To Play' 'Free to Play' 0.99 2.99 3.99 9.99 18.99 29.99 nan\n",
            " 'Free' 10.99 1.59 14.99 1.99 59.99 8.99 6.99 7.99 39.99 19.99 7.49 12.99\n",
            " 5.99 2.49 15.99 1.25 24.99 17.99 61.99 3.49 11.99 13.99 'Free Demo'\n",
            " 'Play for Free!' 34.99 74.76 1.49 32.99 99.99 14.95 69.99 16.99 79.99\n",
            " 49.99 5.0 44.99 13.98 29.96 119.99 109.99 149.99 771.71 'Install Now'\n",
            " 21.99 89.99 'Play WARMACHINE: Tactics Demo' 0.98 139.92 4.29 64.99\n",
            " 'Free Mod' 54.99 74.99 'Install Theme' 0.89 'Third-party' 0.5 'Play Now'\n",
            " 299.99 1.29 3.0 15.0 5.49 23.99 49.0 20.99 10.93 1.39\n",
            " 'Free HITMAN™ Holiday Pack' 36.99 4.49 2.0 4.0 9.0 234.99 1.95 1.5 199.0\n",
            " 189.0 6.66 27.99 10.49 129.99 179.0 26.99 399.99 31.99 399.0 20.0 40.0\n",
            " 3.33 199.99 22.99 320.0 38.85 71.7 59.95 995.0 27.49 3.39 6.0 19.95\n",
            " 499.99 16.06 4.68 131.4 44.98 202.76 1.0 2.3 0.95 172.24 249.99 2.97\n",
            " 10.96 10.0 30.0 2.66 6.48 19.29 11.15 18.9 2.89 'Play the Demo' 99.0\n",
            " 87.94 599.0 8.98 9.69 0.49 9.98 9.95 7.0 'Starting at $499.00'\n",
            " 'Starting at $449.00' 12.89 6.49 1.87 42.99 41.99 289.99 'Free to Try'\n",
            " 23.96 5.65 12.0 13.37 189.96 124.99 'Free Movie' 19.98 160.91\n",
            " 'Free to Use']\n",
            "\n",
            "Valores únicos en la columna 'early_access':\n",
            "[False True]\n",
            "\n",
            "Valores únicos en la columna 'id':\n",
            "['761140' '643980' '670290' ... '610660' '658870' '681550']\n",
            "\n",
            "Valores únicos en la columna 'developer':\n",
            "['Kotoshiro' 'Secret Level SRL' 'Poolians.com' ...\n",
            " 'Oscar Ortigueira López,OrtiGames/OrtiSoft' 'INGAME' 'Bidoniera Games']\n",
            "\n"
          ]
        }
      ],
      "source": [
        "for columna in df_juegos.columns:\n",
        "    if df_juegos[columna].dtype == \"O\":  \n",
        "        valores_unicos = df_juegos[columna].explode().unique()\n",
        "    else:\n",
        "        valores_unicos = df_juegos[columna].unique()\n",
        "    print(f\"Valores únicos en la columna '{columna}':\\n{valores_unicos}\\n\")\n"
      ]
    },
    {
      "cell_type": "markdown",
      "metadata": {
        "id": "SCYMbbRzDTyw"
      },
      "source": [
        "**Vamos a poner la columna id al principio para ayudar a visualizar en lo posterior**"
      ]
    },
    {
      "cell_type": "code",
      "execution_count": 48,
      "metadata": {
        "id": "xdr8Gz5jDW6v"
      },
      "outputs": [],
      "source": [
        "column_order = [\"id\", \"publisher\", \"genres\", \"app_name\", \"release_date\", \"price\", \"early_access\", \"developer\"]\n",
        "df_juegos = df_juegos[column_order]\n"
      ]
    },
    {
      "cell_type": "markdown",
      "metadata": {
        "id": "e6fz6W7c_vM7"
      },
      "source": [
        "## **5. Eliminar duplicados**"
      ]
    },
    {
      "cell_type": "markdown",
      "metadata": {
        "id": "PxXfE_iBCs1P"
      },
      "source": [
        "**Explorar la existencia de duplicados**"
      ]
    },
    {
      "cell_type": "code",
      "execution_count": 49,
      "metadata": {
        "colab": {
          "base_uri": "https://localhost:8080/",
          "height": 262
        },
        "id": "8EeAsGwzCtzX",
        "outputId": "5b0690b6-e47e-4c4c-e079-a62012c4689e"
      },
      "outputs": [
        {
          "name": "stdout",
          "output_type": "stream",
          "text": [
            "filas duplicadas por id\n"
          ]
        },
        {
          "data": {
            "text/html": [
              "<div>\n",
              "<style scoped>\n",
              "    .dataframe tbody tr th:only-of-type {\n",
              "        vertical-align: middle;\n",
              "    }\n",
              "\n",
              "    .dataframe tbody tr th {\n",
              "        vertical-align: top;\n",
              "    }\n",
              "\n",
              "    .dataframe thead th {\n",
              "        text-align: right;\n",
              "    }\n",
              "</style>\n",
              "<table border=\"1\" class=\"dataframe\">\n",
              "  <thead>\n",
              "    <tr style=\"text-align: right;\">\n",
              "      <th></th>\n",
              "      <th>id</th>\n",
              "      <th>publisher</th>\n",
              "      <th>genres</th>\n",
              "      <th>app_name</th>\n",
              "      <th>release_date</th>\n",
              "      <th>price</th>\n",
              "      <th>early_access</th>\n",
              "      <th>developer</th>\n",
              "    </tr>\n",
              "  </thead>\n",
              "  <tbody>\n",
              "    <tr>\n",
              "      <th>74</th>\n",
              "      <td>NaN</td>\n",
              "      <td>NaN</td>\n",
              "      <td>NaN</td>\n",
              "      <td>NaN</td>\n",
              "      <td>NaN</td>\n",
              "      <td>19.99</td>\n",
              "      <td>False</td>\n",
              "      <td>NaN</td>\n",
              "    </tr>\n",
              "    <tr>\n",
              "      <th>13894</th>\n",
              "      <td>612880</td>\n",
              "      <td>Bethesda Softworks</td>\n",
              "      <td>[Action]</td>\n",
              "      <td>Wolfenstein II: The New Colossus</td>\n",
              "      <td>2017-10-26</td>\n",
              "      <td>59.99</td>\n",
              "      <td>False</td>\n",
              "      <td>Machine Games</td>\n",
              "    </tr>\n",
              "    <tr>\n",
              "      <th>14573</th>\n",
              "      <td>612880</td>\n",
              "      <td>Bethesda Softworks</td>\n",
              "      <td>[Action]</td>\n",
              "      <td>Wolfenstein II: The New Colossus</td>\n",
              "      <td>2017-10-26</td>\n",
              "      <td>59.99</td>\n",
              "      <td>False</td>\n",
              "      <td>Machine Games</td>\n",
              "    </tr>\n",
              "    <tr>\n",
              "      <th>30961</th>\n",
              "      <td>NaN</td>\n",
              "      <td>Warner Bros. Interactive Entertainment, Feral ...</td>\n",
              "      <td>[Action, Adventure]</td>\n",
              "      <td>Batman: Arkham City - Game of the Year Edition</td>\n",
              "      <td>2012-09-07</td>\n",
              "      <td>19.99</td>\n",
              "      <td>False</td>\n",
              "      <td>Rocksteady Studios,Feral Interactive (Mac)</td>\n",
              "    </tr>\n",
              "  </tbody>\n",
              "</table>\n",
              "</div>"
            ],
            "text/plain": [
              "           id                                          publisher  \\\n",
              "74        NaN                                                NaN   \n",
              "13894  612880                                 Bethesda Softworks   \n",
              "14573  612880                                 Bethesda Softworks   \n",
              "30961     NaN  Warner Bros. Interactive Entertainment, Feral ...   \n",
              "\n",
              "                    genres                                        app_name  \\\n",
              "74                     NaN                                             NaN   \n",
              "13894             [Action]                Wolfenstein II: The New Colossus   \n",
              "14573             [Action]                Wolfenstein II: The New Colossus   \n",
              "30961  [Action, Adventure]  Batman: Arkham City - Game of the Year Edition   \n",
              "\n",
              "      release_date  price early_access  \\\n",
              "74             NaN  19.99        False   \n",
              "13894   2017-10-26  59.99        False   \n",
              "14573   2017-10-26  59.99        False   \n",
              "30961   2012-09-07  19.99        False   \n",
              "\n",
              "                                        developer  \n",
              "74                                            NaN  \n",
              "13894                               Machine Games  \n",
              "14573                               Machine Games  \n",
              "30961  Rocksteady Studios,Feral Interactive (Mac)  "
            ]
          },
          "execution_count": 49,
          "metadata": {},
          "output_type": "execute_result"
        }
      ],
      "source": [
        "# utilizamos el id para explorar la presencia de duplicados en este campo\n",
        "duplicados_por_id = (lambda df, columna: df[df.duplicated(subset=columna, keep=False)])(df_juegos, \"id\")\n",
        "\n",
        "print(\"filas duplicadas por id\")\n",
        "duplicados_por_id\n"
      ]
    },
    {
      "cell_type": "markdown",
      "metadata": {
        "id": "09FcCGruTPPy"
      },
      "source": [
        "**procedemos a eliminar el registro 74, que es el que no tiene casi datos y cualquiera de los dos registros duplicados que no son NaN**"
      ]
    },
    {
      "cell_type": "code",
      "execution_count": 50,
      "metadata": {
        "id": "qU-efnERSrkc"
      },
      "outputs": [],
      "source": [
        "df_juegos = df_juegos.drop([74, 14573])\n"
      ]
    },
    {
      "cell_type": "markdown",
      "metadata": {
        "id": "XcWIQFvMUF_1"
      },
      "source": [
        "**Comprobamos que ya no hay registros duplicados**"
      ]
    },
    {
      "cell_type": "code",
      "execution_count": 51,
      "metadata": {
        "colab": {
          "base_uri": "https://localhost:8080/",
          "height": 71
        },
        "id": "2rK8mh-TUEP0",
        "outputId": "b3133fe4-0981-46ee-f4e1-422f34ebf8f1"
      },
      "outputs": [
        {
          "name": "stdout",
          "output_type": "stream",
          "text": [
            "filas duplicadas por id\n"
          ]
        },
        {
          "data": {
            "text/html": [
              "<div>\n",
              "<style scoped>\n",
              "    .dataframe tbody tr th:only-of-type {\n",
              "        vertical-align: middle;\n",
              "    }\n",
              "\n",
              "    .dataframe tbody tr th {\n",
              "        vertical-align: top;\n",
              "    }\n",
              "\n",
              "    .dataframe thead th {\n",
              "        text-align: right;\n",
              "    }\n",
              "</style>\n",
              "<table border=\"1\" class=\"dataframe\">\n",
              "  <thead>\n",
              "    <tr style=\"text-align: right;\">\n",
              "      <th></th>\n",
              "      <th>id</th>\n",
              "      <th>publisher</th>\n",
              "      <th>genres</th>\n",
              "      <th>app_name</th>\n",
              "      <th>release_date</th>\n",
              "      <th>price</th>\n",
              "      <th>early_access</th>\n",
              "      <th>developer</th>\n",
              "    </tr>\n",
              "  </thead>\n",
              "  <tbody>\n",
              "  </tbody>\n",
              "</table>\n",
              "</div>"
            ],
            "text/plain": [
              "Empty DataFrame\n",
              "Columns: [id, publisher, genres, app_name, release_date, price, early_access, developer]\n",
              "Index: []"
            ]
          },
          "execution_count": 51,
          "metadata": {},
          "output_type": "execute_result"
        }
      ],
      "source": [
        "duplicados_por_id = (lambda df, columna: df[df.duplicated(subset=columna, keep=False)])(df_juegos, \"id\")\n",
        "\n",
        "# Mostrar resultados\n",
        "print(\"filas duplicadas por id\")\n",
        "duplicados_por_id"
      ]
    },
    {
      "cell_type": "markdown",
      "metadata": {
        "id": "ALwo33CR_y9a"
      },
      "source": [
        "## **6. Tratamiento de la columna  \"release_date\"**"
      ]
    },
    {
      "cell_type": "markdown",
      "metadata": {
        "id": "ISCDZ9CxUiRU"
      },
      "source": [
        "Crearemos una columna conviertiendo los valores a fechas. Después veremos los valores que no pudieron ser convertidos e intentaremos obtener igual el año si es posible para dejarlo en esa columna"
      ]
    },
    {
      "cell_type": "code",
      "execution_count": 52,
      "metadata": {
        "colab": {
          "base_uri": "https://localhost:8080/"
        },
        "id": "ibrxCVSwUh-0",
        "outputId": "0bd8e780-a3e3-4aa1-c91d-82888a5ceee2"
      },
      "outputs": [
        {
          "name": "stdout",
          "output_type": "stream",
          "text": [
            "Valores no convertidos a 'aaaa-mm-dd':\n",
            "[nan 'Soon..' '2017' 'Beta测试已开启' 'Jun 2009' 'Oct 2010' 'Feb 2011'\n",
            " 'Aug 2014' 'Sep 2014' 'Apr 2015' 'Apr 2016' 'Jul 2016' 'June 2016'\n",
            " 'Coming Soon' 'Q2 2017' 'TBA' \"When it's done\" 'coming soon' 'Q2 2018'\n",
            " '2018' 'Winter 2017' 'soon' 'Mar 2018' '14 July' 'Jul 2017' 'Summer 2017'\n",
            " 'Spring 2018' 'Winter 2018' 'To be Announced' 'October 2017' 'TBD'\n",
            " 'Fall 2017' 'Nov 2017' 'Q1 2018' 'Dec 2017' 'Январь 2018' 'Soon'\n",
            " 'First quarter of 2018' 'H2 2018' '21 Jun, 2017' '2018年初頭発売予定'\n",
            " 'Please wait warmly' 'early access' 'SOON' 'Feb 2018'\n",
            " 'Coming Soon/Próximamente' 'August 2017' '2018 [Now get free Pre Alpha]'\n",
            " '1st Quarter 2018' 'Jan 2018' '预热群52756441' '2018年1月' 'Coming soon'\n",
            " 'Fall 2018'\n",
            " '0̵1̴0̵0̶1̷0̶0̵0̴ ̴0̶0̶1̶1̶0̷0̶1̵1̴ ̸0̶0̶1̶1̵0̶1̷0̴0̵ ̴0̶1̷0̸1̵0̷0̴1̶0̴ ̴0̷0̴1̷1̶0̶1̵1̷1̵ ̵'\n",
            " '\"\"\"Soon\"\"\"' 'Spring 2017' 'Demo coming soon.' 'Coming 2017'\n",
            " 'Not yet available' \"C'est bientôt...                    (ou pas)\"\n",
            " 'January 2019' 'Q4 2017' 'Early 2018'\n",
            " 'Datachunks conflicted. Be vigiliant.' 'Q2 2018 (Tentative)'\n",
            " 'Demo is available now!' 'Oct 2017' 'Play Beta in demo!' '2017 Q4'\n",
            " 'August 2018' 'Coming Soon!' 'Early Spring 2018' 'TBA 2017'\n",
            " 'To be announced' 'When it is finished' 'Aug 2017' 'Release Date TBA'\n",
            " 'Coming Q1 2018' 'When it is ready' 'Early Access Starting Soon!'\n",
            " 'December 2017' 'Comming Soon' 'Early Access soon' 'To Be Announced'\n",
            " 'Apr 2017' 'Coming Q3 2017' 'Coming soon..' 'Early 2017' 'End 2017'\n",
            " '2017 Q1' 'Q1 2017' 'Jan 2017' 'January 2017' \"When it's done (2017)\"\n",
            " 'Q1 (ish), 2017' 'Nov 2016' 'Oct 2016' 'Soon™' 'Jun 2016' 'Aug 2015'\n",
            " \"When it's done!\" 'Jun 2015' 'May 2015' 'Feb 2015' 'Jan 2015' 'Nov 2014'\n",
            " 'Jul 2014' 'May 2014' 'Feb 2013' 'Dec 2012' 'Jul 2010' 'Mar 2010'\n",
            " 'Jan 2010' 'Oct 2009' 'Sep 2009' 'Late 2016 - Early 2017'\n",
            " 'Coming Fall 2017' 'Coming late 2017' 'Hitting Early Access in 2017'\n",
            " 'SOON™' '2018 early' '15.01.2018' 'Q1, 2018' '2016' 'January 2018']\n"
          ]
        }
      ],
      "source": [
        "# a partir de release_date creamos una nueva columna con formato de fecha llamada \"fecha convertida\"\n",
        "df_juegos[\"fecha_convertida\"] = pd.to_datetime(df_juegos[\"release_date\"], errors=\"coerce\", format=\"%Y-%m-%d\")\n",
        "\n",
        "# Obtener los valores que no se pudieron convertir\n",
        "valores_no_convertidos = df_juegos[df_juegos[\"fecha_convertida\"].isna()][\"release_date\"].unique()\n",
        "\n",
        "# Mostrar los valores no convertidos\n",
        "print(\"Valores no convertidos a 'aaaa-mm-dd':\")\n",
        "print(valores_no_convertidos)\n"
      ]
    },
    {
      "cell_type": "markdown",
      "metadata": {
        "id": "YZ4c5a7zYWEh"
      },
      "source": [
        "Podemos notar que hay varios valores que tienen datos de fecha que no fueron convertidos en automático. Intentaremoss extraer el año de los valores no convertidos, como sólo nos interesa el año para analisis posteriores a estos valores les asumiremos como mm y dd 01-01 respectivamente."
      ]
    },
    {
      "cell_type": "code",
      "execution_count": 53,
      "metadata": {
        "id": "Zbw2HGdVYeVb"
      },
      "outputs": [],
      "source": [
        "# Función para extraer año y formatear como \"aaaa-mm-dd\"\n",
        "def extraer_anio_y_formatear(valor):\n",
        "    match = re.search(r'\\b(?:19|20)\\d{2}\\b', str(valor))\n",
        "    if match:\n",
        "        anio = match.group()\n",
        "        return f\"{anio}-01-01\"\n",
        "    else:\n",
        "        return None\n",
        "\n",
        "# aplicamos la función para extraer año y formatear a la columna \"release_date\"\n",
        "df_juegos[\"fecha_convertida\"] = df_juegos[\"release_date\"].apply(extraer_anio_y_formatear)\n"
      ]
    },
    {
      "cell_type": "markdown",
      "metadata": {
        "id": "r8_N_jHur-jK"
      },
      "source": [
        "Comprobamos los valores unicos para \"fecha_convertida\""
      ]
    },
    {
      "cell_type": "code",
      "execution_count": 54,
      "metadata": {
        "colab": {
          "base_uri": "https://localhost:8080/"
        },
        "id": "V1ehRv7ErMMM",
        "outputId": "5dc025a4-76d4-4018-93a9-e15eae2d68f7"
      },
      "outputs": [
        {
          "name": "stdout",
          "output_type": "stream",
          "text": [
            "['2018-01-01' '2017-01-01' None '1997-01-01' '1998-01-01' '2016-01-01'\n",
            " '2006-01-01' '2005-01-01' '2003-01-01' '2007-01-01' '2002-01-01'\n",
            " '2000-01-01' '1995-01-01' '1996-01-01' '1994-01-01' '2001-01-01'\n",
            " '1993-01-01' '2004-01-01' '1999-01-01' '2008-01-01' '2009-01-01'\n",
            " '1992-01-01' '1989-01-01' '2010-01-01' '2011-01-01' '2013-01-01'\n",
            " '2012-01-01' '2014-01-01' '1983-01-01' '1984-01-01' '2015-01-01'\n",
            " '1990-01-01' '1988-01-01' '1991-01-01' '1985-01-01' '1982-01-01'\n",
            " '1987-01-01' '1981-01-01' '1986-01-01' '2021-01-01' '2019-01-01'\n",
            " '1975-01-01' '1970-01-01' '1980-01-01']\n"
          ]
        }
      ],
      "source": [
        "valores_unicos = df_juegos[\"fecha_convertida\"].unique()\n",
        "print(valores_unicos)"
      ]
    },
    {
      "cell_type": "markdown",
      "metadata": {},
      "source": [
        "Una vez hecho lo anterior podemos convertir lo que no tiene formato de fecha a valores perdidos y extraer el año para crear \"annio lanzamiento\". Eliminamos después la columna \"release_date\" ya que no nos va a ser útil después."
      ]
    },
    {
      "cell_type": "code",
      "execution_count": 55,
      "metadata": {
        "colab": {
          "base_uri": "https://localhost:8080/",
          "height": 527
        },
        "id": "QXjIVMDRZgS7",
        "outputId": "7830775a-7c00-46ab-9f0d-87b1676b0ade"
      },
      "outputs": [
        {
          "data": {
            "text/html": [
              "<div>\n",
              "<style scoped>\n",
              "    .dataframe tbody tr th:only-of-type {\n",
              "        vertical-align: middle;\n",
              "    }\n",
              "\n",
              "    .dataframe tbody tr th {\n",
              "        vertical-align: top;\n",
              "    }\n",
              "\n",
              "    .dataframe thead th {\n",
              "        text-align: right;\n",
              "    }\n",
              "</style>\n",
              "<table border=\"1\" class=\"dataframe\">\n",
              "  <thead>\n",
              "    <tr style=\"text-align: right;\">\n",
              "      <th></th>\n",
              "      <th>id</th>\n",
              "      <th>publisher</th>\n",
              "      <th>genres</th>\n",
              "      <th>app_name</th>\n",
              "      <th>price</th>\n",
              "      <th>early_access</th>\n",
              "      <th>developer</th>\n",
              "      <th>annio_lanzamiento</th>\n",
              "    </tr>\n",
              "  </thead>\n",
              "  <tbody>\n",
              "    <tr>\n",
              "      <th>0</th>\n",
              "      <td>761140</td>\n",
              "      <td>Kotoshiro</td>\n",
              "      <td>[Action, Casual, Indie, Simulation, Strategy]</td>\n",
              "      <td>Lost Summoner Kitty</td>\n",
              "      <td>4.99</td>\n",
              "      <td>False</td>\n",
              "      <td>Kotoshiro</td>\n",
              "      <td>2018.0</td>\n",
              "    </tr>\n",
              "    <tr>\n",
              "      <th>1</th>\n",
              "      <td>643980</td>\n",
              "      <td>Making Fun, Inc.</td>\n",
              "      <td>[Free to Play, Indie, RPG, Strategy]</td>\n",
              "      <td>Ironbound</td>\n",
              "      <td>Free To Play</td>\n",
              "      <td>False</td>\n",
              "      <td>Secret Level SRL</td>\n",
              "      <td>2018.0</td>\n",
              "    </tr>\n",
              "    <tr>\n",
              "      <th>2</th>\n",
              "      <td>670290</td>\n",
              "      <td>Poolians.com</td>\n",
              "      <td>[Casual, Free to Play, Indie, Simulation, Sports]</td>\n",
              "      <td>Real Pool 3D - Poolians</td>\n",
              "      <td>Free to Play</td>\n",
              "      <td>False</td>\n",
              "      <td>Poolians.com</td>\n",
              "      <td>2017.0</td>\n",
              "    </tr>\n",
              "    <tr>\n",
              "      <th>3</th>\n",
              "      <td>767400</td>\n",
              "      <td>彼岸领域</td>\n",
              "      <td>[Action, Adventure, Casual]</td>\n",
              "      <td>弹炸人2222</td>\n",
              "      <td>0.99</td>\n",
              "      <td>False</td>\n",
              "      <td>彼岸领域</td>\n",
              "      <td>2017.0</td>\n",
              "    </tr>\n",
              "    <tr>\n",
              "      <th>4</th>\n",
              "      <td>773570</td>\n",
              "      <td>NaN</td>\n",
              "      <td>NaN</td>\n",
              "      <td>Log Challenge</td>\n",
              "      <td>2.99</td>\n",
              "      <td>False</td>\n",
              "      <td>NaN</td>\n",
              "      <td>NaN</td>\n",
              "    </tr>\n",
              "    <tr>\n",
              "      <th>...</th>\n",
              "      <td>...</td>\n",
              "      <td>...</td>\n",
              "      <td>...</td>\n",
              "      <td>...</td>\n",
              "      <td>...</td>\n",
              "      <td>...</td>\n",
              "      <td>...</td>\n",
              "      <td>...</td>\n",
              "    </tr>\n",
              "    <tr>\n",
              "      <th>32130</th>\n",
              "      <td>773640</td>\n",
              "      <td>Ghost_RUS Games</td>\n",
              "      <td>[Casual, Indie, Simulation, Strategy]</td>\n",
              "      <td>Colony On Mars</td>\n",
              "      <td>1.99</td>\n",
              "      <td>False</td>\n",
              "      <td>Nikita \"Ghost_RUS\"</td>\n",
              "      <td>2018.0</td>\n",
              "    </tr>\n",
              "    <tr>\n",
              "      <th>32131</th>\n",
              "      <td>733530</td>\n",
              "      <td>Sacada</td>\n",
              "      <td>[Casual, Indie, Strategy]</td>\n",
              "      <td>LOGistICAL: South Africa</td>\n",
              "      <td>4.99</td>\n",
              "      <td>False</td>\n",
              "      <td>Sacada</td>\n",
              "      <td>2018.0</td>\n",
              "    </tr>\n",
              "    <tr>\n",
              "      <th>32132</th>\n",
              "      <td>610660</td>\n",
              "      <td>Laush Studio</td>\n",
              "      <td>[Indie, Racing, Simulation]</td>\n",
              "      <td>Russian Roads</td>\n",
              "      <td>1.99</td>\n",
              "      <td>False</td>\n",
              "      <td>Laush Dmitriy Sergeevich</td>\n",
              "      <td>2018.0</td>\n",
              "    </tr>\n",
              "    <tr>\n",
              "      <th>32133</th>\n",
              "      <td>658870</td>\n",
              "      <td>SIXNAILS</td>\n",
              "      <td>[Casual, Indie]</td>\n",
              "      <td>EXIT 2 - Directions</td>\n",
              "      <td>4.99</td>\n",
              "      <td>False</td>\n",
              "      <td>xropi,stev3ns</td>\n",
              "      <td>2017.0</td>\n",
              "    </tr>\n",
              "    <tr>\n",
              "      <th>32134</th>\n",
              "      <td>681550</td>\n",
              "      <td>NaN</td>\n",
              "      <td>NaN</td>\n",
              "      <td>Maze Run VR</td>\n",
              "      <td>4.99</td>\n",
              "      <td>True</td>\n",
              "      <td>NaN</td>\n",
              "      <td>NaN</td>\n",
              "    </tr>\n",
              "  </tbody>\n",
              "</table>\n",
              "<p>32133 rows × 8 columns</p>\n",
              "</div>"
            ],
            "text/plain": [
              "           id         publisher  \\\n",
              "0      761140         Kotoshiro   \n",
              "1      643980  Making Fun, Inc.   \n",
              "2      670290      Poolians.com   \n",
              "3      767400              彼岸领域   \n",
              "4      773570               NaN   \n",
              "...       ...               ...   \n",
              "32130  773640   Ghost_RUS Games   \n",
              "32131  733530            Sacada   \n",
              "32132  610660      Laush Studio   \n",
              "32133  658870          SIXNAILS   \n",
              "32134  681550               NaN   \n",
              "\n",
              "                                                  genres  \\\n",
              "0          [Action, Casual, Indie, Simulation, Strategy]   \n",
              "1                   [Free to Play, Indie, RPG, Strategy]   \n",
              "2      [Casual, Free to Play, Indie, Simulation, Sports]   \n",
              "3                            [Action, Adventure, Casual]   \n",
              "4                                                    NaN   \n",
              "...                                                  ...   \n",
              "32130              [Casual, Indie, Simulation, Strategy]   \n",
              "32131                          [Casual, Indie, Strategy]   \n",
              "32132                        [Indie, Racing, Simulation]   \n",
              "32133                                    [Casual, Indie]   \n",
              "32134                                                NaN   \n",
              "\n",
              "                       app_name         price early_access  \\\n",
              "0           Lost Summoner Kitty          4.99        False   \n",
              "1                     Ironbound  Free To Play        False   \n",
              "2       Real Pool 3D - Poolians  Free to Play        False   \n",
              "3                       弹炸人2222          0.99        False   \n",
              "4                 Log Challenge          2.99        False   \n",
              "...                         ...           ...          ...   \n",
              "32130            Colony On Mars          1.99        False   \n",
              "32131  LOGistICAL: South Africa          4.99        False   \n",
              "32132             Russian Roads          1.99        False   \n",
              "32133       EXIT 2 - Directions          4.99        False   \n",
              "32134               Maze Run VR          4.99         True   \n",
              "\n",
              "                      developer  annio_lanzamiento  \n",
              "0                     Kotoshiro             2018.0  \n",
              "1              Secret Level SRL             2018.0  \n",
              "2                  Poolians.com             2017.0  \n",
              "3                          彼岸领域             2017.0  \n",
              "4                           NaN                NaN  \n",
              "...                         ...                ...  \n",
              "32130        Nikita \"Ghost_RUS\"             2018.0  \n",
              "32131                    Sacada             2018.0  \n",
              "32132  Laush Dmitriy Sergeevich             2018.0  \n",
              "32133             xropi,stev3ns             2017.0  \n",
              "32134                       NaN                NaN  \n",
              "\n",
              "[32133 rows x 8 columns]"
            ]
          },
          "execution_count": 55,
          "metadata": {},
          "output_type": "execute_result"
        }
      ],
      "source": [
        "# convertimos la columna \"fecha_convertida\" a datetime con errores o nones convertidos a NaN\n",
        "df_juegos[\"fecha_convertida\"] = pd.to_datetime(df_juegos[\"fecha_convertida\"], errors=\"coerce\")\n",
        "\n",
        "# creamos la columna \"annio_lanzamiento\" con el año extraído unicamente de \"fecha convertida\"\n",
        "df_juegos[\"annio_lanzamiento\"] = df_juegos[\"fecha_convertida\"].dt.year\n",
        "\n",
        "# eliminamos las columnas \"release_date\" y \"fecha_convertida\"\n",
        "df_juegos = df_juegos.drop([\"release_date\", \"fecha_convertida\"], axis=1)\n",
        "df_juegos\n"
      ]
    },
    {
      "cell_type": "markdown",
      "metadata": {},
      "source": [
        "observamos los valores unicos de annio_lanzamiento"
      ]
    },
    {
      "cell_type": "code",
      "execution_count": 56,
      "metadata": {},
      "outputs": [
        {
          "name": "stdout",
          "output_type": "stream",
          "text": [
            "[2018. 2017.   nan 1997. 1998. 2016. 2006. 2005. 2003. 2007. 2002. 2000.\n",
            " 1995. 1996. 1994. 2001. 1993. 2004. 1999. 2008. 2009. 1992. 1989. 2010.\n",
            " 2011. 2013. 2012. 2014. 1983. 1984. 2015. 1990. 1988. 1991. 1985. 1982.\n",
            " 1987. 1981. 1986. 2021. 2019. 1975. 1970. 1980.]\n"
          ]
        }
      ],
      "source": [
        "valores_unicos_year = df_juegos[\"annio_lanzamiento\"].unique()\n",
        "print(valores_unicos_year)\n"
      ]
    },
    {
      "cell_type": "markdown",
      "metadata": {
        "id": "noBkHboeb93L"
      },
      "source": [
        "convertimos los valores de annio_lanzamiento de float a INT"
      ]
    },
    {
      "cell_type": "code",
      "execution_count": 57,
      "metadata": {
        "colab": {
          "base_uri": "https://localhost:8080/",
          "height": 527
        },
        "id": "bf_GnncHbmr1",
        "outputId": "ded8fd24-fc98-4342-b48e-b2ef5cabd451"
      },
      "outputs": [
        {
          "data": {
            "text/html": [
              "<div>\n",
              "<style scoped>\n",
              "    .dataframe tbody tr th:only-of-type {\n",
              "        vertical-align: middle;\n",
              "    }\n",
              "\n",
              "    .dataframe tbody tr th {\n",
              "        vertical-align: top;\n",
              "    }\n",
              "\n",
              "    .dataframe thead th {\n",
              "        text-align: right;\n",
              "    }\n",
              "</style>\n",
              "<table border=\"1\" class=\"dataframe\">\n",
              "  <thead>\n",
              "    <tr style=\"text-align: right;\">\n",
              "      <th></th>\n",
              "      <th>id</th>\n",
              "      <th>publisher</th>\n",
              "      <th>genres</th>\n",
              "      <th>app_name</th>\n",
              "      <th>price</th>\n",
              "      <th>early_access</th>\n",
              "      <th>developer</th>\n",
              "      <th>annio_lanzamiento</th>\n",
              "    </tr>\n",
              "  </thead>\n",
              "  <tbody>\n",
              "    <tr>\n",
              "      <th>0</th>\n",
              "      <td>761140</td>\n",
              "      <td>Kotoshiro</td>\n",
              "      <td>[Action, Casual, Indie, Simulation, Strategy]</td>\n",
              "      <td>Lost Summoner Kitty</td>\n",
              "      <td>4.99</td>\n",
              "      <td>False</td>\n",
              "      <td>Kotoshiro</td>\n",
              "      <td>2018</td>\n",
              "    </tr>\n",
              "    <tr>\n",
              "      <th>1</th>\n",
              "      <td>643980</td>\n",
              "      <td>Making Fun, Inc.</td>\n",
              "      <td>[Free to Play, Indie, RPG, Strategy]</td>\n",
              "      <td>Ironbound</td>\n",
              "      <td>Free To Play</td>\n",
              "      <td>False</td>\n",
              "      <td>Secret Level SRL</td>\n",
              "      <td>2018</td>\n",
              "    </tr>\n",
              "    <tr>\n",
              "      <th>2</th>\n",
              "      <td>670290</td>\n",
              "      <td>Poolians.com</td>\n",
              "      <td>[Casual, Free to Play, Indie, Simulation, Sports]</td>\n",
              "      <td>Real Pool 3D - Poolians</td>\n",
              "      <td>Free to Play</td>\n",
              "      <td>False</td>\n",
              "      <td>Poolians.com</td>\n",
              "      <td>2017</td>\n",
              "    </tr>\n",
              "    <tr>\n",
              "      <th>3</th>\n",
              "      <td>767400</td>\n",
              "      <td>彼岸领域</td>\n",
              "      <td>[Action, Adventure, Casual]</td>\n",
              "      <td>弹炸人2222</td>\n",
              "      <td>0.99</td>\n",
              "      <td>False</td>\n",
              "      <td>彼岸领域</td>\n",
              "      <td>2017</td>\n",
              "    </tr>\n",
              "    <tr>\n",
              "      <th>4</th>\n",
              "      <td>773570</td>\n",
              "      <td>NaN</td>\n",
              "      <td>NaN</td>\n",
              "      <td>Log Challenge</td>\n",
              "      <td>2.99</td>\n",
              "      <td>False</td>\n",
              "      <td>NaN</td>\n",
              "      <td>&lt;NA&gt;</td>\n",
              "    </tr>\n",
              "    <tr>\n",
              "      <th>...</th>\n",
              "      <td>...</td>\n",
              "      <td>...</td>\n",
              "      <td>...</td>\n",
              "      <td>...</td>\n",
              "      <td>...</td>\n",
              "      <td>...</td>\n",
              "      <td>...</td>\n",
              "      <td>...</td>\n",
              "    </tr>\n",
              "    <tr>\n",
              "      <th>32130</th>\n",
              "      <td>773640</td>\n",
              "      <td>Ghost_RUS Games</td>\n",
              "      <td>[Casual, Indie, Simulation, Strategy]</td>\n",
              "      <td>Colony On Mars</td>\n",
              "      <td>1.99</td>\n",
              "      <td>False</td>\n",
              "      <td>Nikita \"Ghost_RUS\"</td>\n",
              "      <td>2018</td>\n",
              "    </tr>\n",
              "    <tr>\n",
              "      <th>32131</th>\n",
              "      <td>733530</td>\n",
              "      <td>Sacada</td>\n",
              "      <td>[Casual, Indie, Strategy]</td>\n",
              "      <td>LOGistICAL: South Africa</td>\n",
              "      <td>4.99</td>\n",
              "      <td>False</td>\n",
              "      <td>Sacada</td>\n",
              "      <td>2018</td>\n",
              "    </tr>\n",
              "    <tr>\n",
              "      <th>32132</th>\n",
              "      <td>610660</td>\n",
              "      <td>Laush Studio</td>\n",
              "      <td>[Indie, Racing, Simulation]</td>\n",
              "      <td>Russian Roads</td>\n",
              "      <td>1.99</td>\n",
              "      <td>False</td>\n",
              "      <td>Laush Dmitriy Sergeevich</td>\n",
              "      <td>2018</td>\n",
              "    </tr>\n",
              "    <tr>\n",
              "      <th>32133</th>\n",
              "      <td>658870</td>\n",
              "      <td>SIXNAILS</td>\n",
              "      <td>[Casual, Indie]</td>\n",
              "      <td>EXIT 2 - Directions</td>\n",
              "      <td>4.99</td>\n",
              "      <td>False</td>\n",
              "      <td>xropi,stev3ns</td>\n",
              "      <td>2017</td>\n",
              "    </tr>\n",
              "    <tr>\n",
              "      <th>32134</th>\n",
              "      <td>681550</td>\n",
              "      <td>NaN</td>\n",
              "      <td>NaN</td>\n",
              "      <td>Maze Run VR</td>\n",
              "      <td>4.99</td>\n",
              "      <td>True</td>\n",
              "      <td>NaN</td>\n",
              "      <td>&lt;NA&gt;</td>\n",
              "    </tr>\n",
              "  </tbody>\n",
              "</table>\n",
              "<p>32133 rows × 8 columns</p>\n",
              "</div>"
            ],
            "text/plain": [
              "           id         publisher  \\\n",
              "0      761140         Kotoshiro   \n",
              "1      643980  Making Fun, Inc.   \n",
              "2      670290      Poolians.com   \n",
              "3      767400              彼岸领域   \n",
              "4      773570               NaN   \n",
              "...       ...               ...   \n",
              "32130  773640   Ghost_RUS Games   \n",
              "32131  733530            Sacada   \n",
              "32132  610660      Laush Studio   \n",
              "32133  658870          SIXNAILS   \n",
              "32134  681550               NaN   \n",
              "\n",
              "                                                  genres  \\\n",
              "0          [Action, Casual, Indie, Simulation, Strategy]   \n",
              "1                   [Free to Play, Indie, RPG, Strategy]   \n",
              "2      [Casual, Free to Play, Indie, Simulation, Sports]   \n",
              "3                            [Action, Adventure, Casual]   \n",
              "4                                                    NaN   \n",
              "...                                                  ...   \n",
              "32130              [Casual, Indie, Simulation, Strategy]   \n",
              "32131                          [Casual, Indie, Strategy]   \n",
              "32132                        [Indie, Racing, Simulation]   \n",
              "32133                                    [Casual, Indie]   \n",
              "32134                                                NaN   \n",
              "\n",
              "                       app_name         price early_access  \\\n",
              "0           Lost Summoner Kitty          4.99        False   \n",
              "1                     Ironbound  Free To Play        False   \n",
              "2       Real Pool 3D - Poolians  Free to Play        False   \n",
              "3                       弹炸人2222          0.99        False   \n",
              "4                 Log Challenge          2.99        False   \n",
              "...                         ...           ...          ...   \n",
              "32130            Colony On Mars          1.99        False   \n",
              "32131  LOGistICAL: South Africa          4.99        False   \n",
              "32132             Russian Roads          1.99        False   \n",
              "32133       EXIT 2 - Directions          4.99        False   \n",
              "32134               Maze Run VR          4.99         True   \n",
              "\n",
              "                      developer  annio_lanzamiento  \n",
              "0                     Kotoshiro               2018  \n",
              "1              Secret Level SRL               2018  \n",
              "2                  Poolians.com               2017  \n",
              "3                          彼岸领域               2017  \n",
              "4                           NaN               <NA>  \n",
              "...                         ...                ...  \n",
              "32130        Nikita \"Ghost_RUS\"               2018  \n",
              "32131                    Sacada               2018  \n",
              "32132  Laush Dmitriy Sergeevich               2018  \n",
              "32133             xropi,stev3ns               2017  \n",
              "32134                       NaN               <NA>  \n",
              "\n",
              "[32133 rows x 8 columns]"
            ]
          },
          "execution_count": 57,
          "metadata": {},
          "output_type": "execute_result"
        }
      ],
      "source": [
        "df_juegos[\"annio_lanzamiento\"] = pd.to_numeric(df_juegos[\"annio_lanzamiento\"], errors=\"coerce\").astype(\"Int64\")\n",
        "\n",
        "df_juegos"
      ]
    },
    {
      "cell_type": "markdown",
      "metadata": {},
      "source": [
        "observamos que lo que no pudo coercionar se conviertio a NA con una nomenclatura específica por el valor de la columna. Luego veremos cómo tratar esto"
      ]
    },
    {
      "cell_type": "markdown",
      "metadata": {
        "id": "V0Nd_EhFcHZ1"
      },
      "source": [
        "vamos a observar ahora los valores unicos para annio_lanzamiento. No debe haber valores que no sean años y NAs"
      ]
    },
    {
      "cell_type": "code",
      "execution_count": 58,
      "metadata": {
        "colab": {
          "base_uri": "https://localhost:8080/"
        },
        "id": "FM6wOZT0cGZD",
        "outputId": "ba478739-160f-48f7-9686-eac68ac17596"
      },
      "outputs": [
        {
          "data": {
            "text/plain": [
              "<IntegerArray>\n",
              "[2018, 2017, <NA>, 1997, 1998, 2016, 2006, 2005, 2003, 2007, 2002, 2000, 1995,\n",
              " 1996, 1994, 2001, 1993, 2004, 1999, 2008, 2009, 1992, 1989, 2010, 2011, 2013,\n",
              " 2012, 2014, 1983, 1984, 2015, 1990, 1988, 1991, 1985, 1982, 1987, 1981, 1986,\n",
              " 2021, 2019, 1975, 1970, 1980]\n",
              "Length: 44, dtype: Int64"
            ]
          },
          "execution_count": 58,
          "metadata": {},
          "output_type": "execute_result"
        }
      ],
      "source": [
        "df_juegos[\"annio_lanzamiento\"].unique()"
      ]
    },
    {
      "cell_type": "markdown",
      "metadata": {},
      "source": [
        "## **7. Tratamiento de la columna \"price\"**"
      ]
    },
    {
      "cell_type": "markdown",
      "metadata": {
        "id": "WQEbhpX6aUIm"
      },
      "source": [
        "Vamos a explorar los valores unicos de precio para ver qué tipo de datos hay. Para luego quitar las cadenas (que no son precios) y  cambiarlas por 0."
      ]
    },
    {
      "cell_type": "code",
      "execution_count": 59,
      "metadata": {
        "colab": {
          "base_uri": "https://localhost:8080/"
        },
        "id": "aL9uaqELcb8y",
        "outputId": "7e6c5813-35e0-4124-a397-5e83076d03c9"
      },
      "outputs": [
        {
          "data": {
            "text/plain": [
              "array([4.99, 'Free To Play', 'Free to Play', 0.99, 2.99, 3.99, 9.99,\n",
              "       18.99, 29.99, nan, 'Free', 10.99, 1.59, 14.99, 1.99, 59.99, 8.99,\n",
              "       6.99, 7.99, 39.99, 19.99, 7.49, 12.99, 5.99, 2.49, 15.99, 1.25,\n",
              "       24.99, 17.99, 61.99, 3.49, 11.99, 13.99, 'Free Demo',\n",
              "       'Play for Free!', 34.99, 74.76, 1.49, 32.99, 99.99, 14.95, 69.99,\n",
              "       16.99, 79.99, 49.99, 5.0, 44.99, 13.98, 29.96, 119.99, 109.99,\n",
              "       149.99, 771.71, 'Install Now', 21.99, 89.99,\n",
              "       'Play WARMACHINE: Tactics Demo', 0.98, 139.92, 4.29, 64.99,\n",
              "       'Free Mod', 54.99, 74.99, 'Install Theme', 0.89, 'Third-party',\n",
              "       0.5, 'Play Now', 299.99, 1.29, 3.0, 15.0, 5.49, 23.99, 49.0, 20.99,\n",
              "       10.93, 1.39, 'Free HITMAN™ Holiday Pack', 36.99, 4.49, 2.0, 4.0,\n",
              "       9.0, 234.99, 1.95, 1.5, 199.0, 189.0, 6.66, 27.99, 10.49, 129.99,\n",
              "       179.0, 26.99, 399.99, 31.99, 399.0, 20.0, 40.0, 3.33, 199.99,\n",
              "       22.99, 320.0, 38.85, 71.7, 59.95, 995.0, 27.49, 3.39, 6.0, 19.95,\n",
              "       499.99, 16.06, 4.68, 131.4, 44.98, 202.76, 1.0, 2.3, 0.95, 172.24,\n",
              "       249.99, 2.97, 10.96, 10.0, 30.0, 2.66, 6.48, 19.29, 11.15, 18.9,\n",
              "       2.89, 'Play the Demo', 99.0, 87.94, 599.0, 8.98, 9.69, 0.49, 9.98,\n",
              "       9.95, 7.0, 'Starting at $499.00', 'Starting at $449.00', 12.89,\n",
              "       6.49, 1.87, 42.99, 41.99, 289.99, 'Free to Try', 23.96, 5.65, 12.0,\n",
              "       13.37, 189.96, 124.99, 'Free Movie', 19.98, 160.91, 'Free to Use'],\n",
              "      dtype=object)"
            ]
          },
          "execution_count": 59,
          "metadata": {},
          "output_type": "execute_result"
        }
      ],
      "source": [
        "df_juegos[\"price\"].unique()"
      ]
    },
    {
      "cell_type": "markdown",
      "metadata": {
        "id": "mUMZYDxJc-SM"
      },
      "source": [
        "convertimos los valores no numericos a Na y luego los cambiamos a 0, asumiendo que la info que dan en la cadena puede implicar que es un juego gratuito. Lo anterior excenta a los valores que podemos ver que no serían free games"
      ]
    },
    {
      "cell_type": "code",
      "execution_count": 60,
      "metadata": {
        "colab": {
          "base_uri": "https://localhost:8080/",
          "height": 527
        },
        "id": "yURf-febc9zk",
        "outputId": "be3e69a5-7a4c-4cf5-c6fb-ca555b85b178"
      },
      "outputs": [
        {
          "data": {
            "text/html": [
              "<div>\n",
              "<style scoped>\n",
              "    .dataframe tbody tr th:only-of-type {\n",
              "        vertical-align: middle;\n",
              "    }\n",
              "\n",
              "    .dataframe tbody tr th {\n",
              "        vertical-align: top;\n",
              "    }\n",
              "\n",
              "    .dataframe thead th {\n",
              "        text-align: right;\n",
              "    }\n",
              "</style>\n",
              "<table border=\"1\" class=\"dataframe\">\n",
              "  <thead>\n",
              "    <tr style=\"text-align: right;\">\n",
              "      <th></th>\n",
              "      <th>id</th>\n",
              "      <th>publisher</th>\n",
              "      <th>genres</th>\n",
              "      <th>app_name</th>\n",
              "      <th>price</th>\n",
              "      <th>early_access</th>\n",
              "      <th>developer</th>\n",
              "      <th>annio_lanzamiento</th>\n",
              "    </tr>\n",
              "  </thead>\n",
              "  <tbody>\n",
              "    <tr>\n",
              "      <th>0</th>\n",
              "      <td>761140</td>\n",
              "      <td>Kotoshiro</td>\n",
              "      <td>[Action, Casual, Indie, Simulation, Strategy]</td>\n",
              "      <td>Lost Summoner Kitty</td>\n",
              "      <td>4.99</td>\n",
              "      <td>False</td>\n",
              "      <td>Kotoshiro</td>\n",
              "      <td>2018</td>\n",
              "    </tr>\n",
              "    <tr>\n",
              "      <th>1</th>\n",
              "      <td>643980</td>\n",
              "      <td>Making Fun, Inc.</td>\n",
              "      <td>[Free to Play, Indie, RPG, Strategy]</td>\n",
              "      <td>Ironbound</td>\n",
              "      <td>0.00</td>\n",
              "      <td>False</td>\n",
              "      <td>Secret Level SRL</td>\n",
              "      <td>2018</td>\n",
              "    </tr>\n",
              "    <tr>\n",
              "      <th>2</th>\n",
              "      <td>670290</td>\n",
              "      <td>Poolians.com</td>\n",
              "      <td>[Casual, Free to Play, Indie, Simulation, Sports]</td>\n",
              "      <td>Real Pool 3D - Poolians</td>\n",
              "      <td>0.00</td>\n",
              "      <td>False</td>\n",
              "      <td>Poolians.com</td>\n",
              "      <td>2017</td>\n",
              "    </tr>\n",
              "    <tr>\n",
              "      <th>3</th>\n",
              "      <td>767400</td>\n",
              "      <td>彼岸领域</td>\n",
              "      <td>[Action, Adventure, Casual]</td>\n",
              "      <td>弹炸人2222</td>\n",
              "      <td>0.99</td>\n",
              "      <td>False</td>\n",
              "      <td>彼岸领域</td>\n",
              "      <td>2017</td>\n",
              "    </tr>\n",
              "    <tr>\n",
              "      <th>4</th>\n",
              "      <td>773570</td>\n",
              "      <td>NaN</td>\n",
              "      <td>NaN</td>\n",
              "      <td>Log Challenge</td>\n",
              "      <td>2.99</td>\n",
              "      <td>False</td>\n",
              "      <td>NaN</td>\n",
              "      <td>&lt;NA&gt;</td>\n",
              "    </tr>\n",
              "    <tr>\n",
              "      <th>...</th>\n",
              "      <td>...</td>\n",
              "      <td>...</td>\n",
              "      <td>...</td>\n",
              "      <td>...</td>\n",
              "      <td>...</td>\n",
              "      <td>...</td>\n",
              "      <td>...</td>\n",
              "      <td>...</td>\n",
              "    </tr>\n",
              "    <tr>\n",
              "      <th>32130</th>\n",
              "      <td>773640</td>\n",
              "      <td>Ghost_RUS Games</td>\n",
              "      <td>[Casual, Indie, Simulation, Strategy]</td>\n",
              "      <td>Colony On Mars</td>\n",
              "      <td>1.99</td>\n",
              "      <td>False</td>\n",
              "      <td>Nikita \"Ghost_RUS\"</td>\n",
              "      <td>2018</td>\n",
              "    </tr>\n",
              "    <tr>\n",
              "      <th>32131</th>\n",
              "      <td>733530</td>\n",
              "      <td>Sacada</td>\n",
              "      <td>[Casual, Indie, Strategy]</td>\n",
              "      <td>LOGistICAL: South Africa</td>\n",
              "      <td>4.99</td>\n",
              "      <td>False</td>\n",
              "      <td>Sacada</td>\n",
              "      <td>2018</td>\n",
              "    </tr>\n",
              "    <tr>\n",
              "      <th>32132</th>\n",
              "      <td>610660</td>\n",
              "      <td>Laush Studio</td>\n",
              "      <td>[Indie, Racing, Simulation]</td>\n",
              "      <td>Russian Roads</td>\n",
              "      <td>1.99</td>\n",
              "      <td>False</td>\n",
              "      <td>Laush Dmitriy Sergeevich</td>\n",
              "      <td>2018</td>\n",
              "    </tr>\n",
              "    <tr>\n",
              "      <th>32133</th>\n",
              "      <td>658870</td>\n",
              "      <td>SIXNAILS</td>\n",
              "      <td>[Casual, Indie]</td>\n",
              "      <td>EXIT 2 - Directions</td>\n",
              "      <td>4.99</td>\n",
              "      <td>False</td>\n",
              "      <td>xropi,stev3ns</td>\n",
              "      <td>2017</td>\n",
              "    </tr>\n",
              "    <tr>\n",
              "      <th>32134</th>\n",
              "      <td>681550</td>\n",
              "      <td>NaN</td>\n",
              "      <td>NaN</td>\n",
              "      <td>Maze Run VR</td>\n",
              "      <td>4.99</td>\n",
              "      <td>True</td>\n",
              "      <td>NaN</td>\n",
              "      <td>&lt;NA&gt;</td>\n",
              "    </tr>\n",
              "  </tbody>\n",
              "</table>\n",
              "<p>32133 rows × 8 columns</p>\n",
              "</div>"
            ],
            "text/plain": [
              "           id         publisher  \\\n",
              "0      761140         Kotoshiro   \n",
              "1      643980  Making Fun, Inc.   \n",
              "2      670290      Poolians.com   \n",
              "3      767400              彼岸领域   \n",
              "4      773570               NaN   \n",
              "...       ...               ...   \n",
              "32130  773640   Ghost_RUS Games   \n",
              "32131  733530            Sacada   \n",
              "32132  610660      Laush Studio   \n",
              "32133  658870          SIXNAILS   \n",
              "32134  681550               NaN   \n",
              "\n",
              "                                                  genres  \\\n",
              "0          [Action, Casual, Indie, Simulation, Strategy]   \n",
              "1                   [Free to Play, Indie, RPG, Strategy]   \n",
              "2      [Casual, Free to Play, Indie, Simulation, Sports]   \n",
              "3                            [Action, Adventure, Casual]   \n",
              "4                                                    NaN   \n",
              "...                                                  ...   \n",
              "32130              [Casual, Indie, Simulation, Strategy]   \n",
              "32131                          [Casual, Indie, Strategy]   \n",
              "32132                        [Indie, Racing, Simulation]   \n",
              "32133                                    [Casual, Indie]   \n",
              "32134                                                NaN   \n",
              "\n",
              "                       app_name  price early_access                 developer  \\\n",
              "0           Lost Summoner Kitty   4.99        False                 Kotoshiro   \n",
              "1                     Ironbound   0.00        False          Secret Level SRL   \n",
              "2       Real Pool 3D - Poolians   0.00        False              Poolians.com   \n",
              "3                       弹炸人2222   0.99        False                      彼岸领域   \n",
              "4                 Log Challenge   2.99        False                       NaN   \n",
              "...                         ...    ...          ...                       ...   \n",
              "32130            Colony On Mars   1.99        False        Nikita \"Ghost_RUS\"   \n",
              "32131  LOGistICAL: South Africa   4.99        False                    Sacada   \n",
              "32132             Russian Roads   1.99        False  Laush Dmitriy Sergeevich   \n",
              "32133       EXIT 2 - Directions   4.99        False             xropi,stev3ns   \n",
              "32134               Maze Run VR   4.99         True                       NaN   \n",
              "\n",
              "       annio_lanzamiento  \n",
              "0                   2018  \n",
              "1                   2018  \n",
              "2                   2017  \n",
              "3                   2017  \n",
              "4                   <NA>  \n",
              "...                  ...  \n",
              "32130               2018  \n",
              "32131               2018  \n",
              "32132               2018  \n",
              "32133               2017  \n",
              "32134               <NA>  \n",
              "\n",
              "[32133 rows x 8 columns]"
            ]
          },
          "execution_count": 60,
          "metadata": {},
          "output_type": "execute_result"
        }
      ],
      "source": [
        "#convertimos los valores que podemos identificar como precios de partida\n",
        "df_juegos[\"price\"] = df_juegos[\"price\"].replace(\"Starting at $499.00\", 499.00)\n",
        "df_juegos[\"price\"] = df_juegos[\"price\"].replace(\"Starting at $449.00\", 449.00)\n",
        "\n",
        "# convertimos la columna \"price\" a tipo de dato numérico y manejamos los valores\n",
        "#no numéricos como 0\n",
        "df_juegos[\"price\"] = pd.to_numeric(df_juegos[\"price\"], errors=\"coerce\").fillna(0)\n",
        "\n",
        "# visualizamos df_juegos\n",
        "df_juegos\n"
      ]
    },
    {
      "cell_type": "markdown",
      "metadata": {
        "id": "UreiHBHy_-_K"
      },
      "source": [
        "Exploramos de nuevo los valores unicos de price para ver si necesitamos más cambios"
      ]
    },
    {
      "cell_type": "code",
      "execution_count": 61,
      "metadata": {
        "colab": {
          "base_uri": "https://localhost:8080/"
        },
        "id": "t6GXyUg3dOBI",
        "outputId": "d68dab51-71ae-46b2-f896-7da5b63d4527"
      },
      "outputs": [
        {
          "data": {
            "text/plain": [
              "array([4.9900e+00, 0.0000e+00, 9.9000e-01, 2.9900e+00, 3.9900e+00,\n",
              "       9.9900e+00, 1.8990e+01, 2.9990e+01, 1.0990e+01, 1.5900e+00,\n",
              "       1.4990e+01, 1.9900e+00, 5.9990e+01, 8.9900e+00, 6.9900e+00,\n",
              "       7.9900e+00, 3.9990e+01, 1.9990e+01, 7.4900e+00, 1.2990e+01,\n",
              "       5.9900e+00, 2.4900e+00, 1.5990e+01, 1.2500e+00, 2.4990e+01,\n",
              "       1.7990e+01, 6.1990e+01, 3.4900e+00, 1.1990e+01, 1.3990e+01,\n",
              "       3.4990e+01, 7.4760e+01, 1.4900e+00, 3.2990e+01, 9.9990e+01,\n",
              "       1.4950e+01, 6.9990e+01, 1.6990e+01, 7.9990e+01, 4.9990e+01,\n",
              "       5.0000e+00, 4.4990e+01, 1.3980e+01, 2.9960e+01, 1.1999e+02,\n",
              "       1.0999e+02, 1.4999e+02, 7.7171e+02, 2.1990e+01, 8.9990e+01,\n",
              "       9.8000e-01, 1.3992e+02, 4.2900e+00, 6.4990e+01, 5.4990e+01,\n",
              "       7.4990e+01, 8.9000e-01, 5.0000e-01, 2.9999e+02, 1.2900e+00,\n",
              "       3.0000e+00, 1.5000e+01, 5.4900e+00, 2.3990e+01, 4.9000e+01,\n",
              "       2.0990e+01, 1.0930e+01, 1.3900e+00, 3.6990e+01, 4.4900e+00,\n",
              "       2.0000e+00, 4.0000e+00, 9.0000e+00, 2.3499e+02, 1.9500e+00,\n",
              "       1.5000e+00, 1.9900e+02, 1.8900e+02, 6.6600e+00, 2.7990e+01,\n",
              "       1.0490e+01, 1.2999e+02, 1.7900e+02, 2.6990e+01, 3.9999e+02,\n",
              "       3.1990e+01, 3.9900e+02, 2.0000e+01, 4.0000e+01, 3.3300e+00,\n",
              "       1.9999e+02, 2.2990e+01, 3.2000e+02, 3.8850e+01, 7.1700e+01,\n",
              "       5.9950e+01, 9.9500e+02, 2.7490e+01, 3.3900e+00, 6.0000e+00,\n",
              "       1.9950e+01, 4.9999e+02, 1.6060e+01, 4.6800e+00, 1.3140e+02,\n",
              "       4.4980e+01, 2.0276e+02, 1.0000e+00, 2.3000e+00, 9.5000e-01,\n",
              "       1.7224e+02, 2.4999e+02, 2.9700e+00, 1.0960e+01, 1.0000e+01,\n",
              "       3.0000e+01, 2.6600e+00, 6.4800e+00, 1.9290e+01, 1.1150e+01,\n",
              "       1.8900e+01, 2.8900e+00, 9.9000e+01, 8.7940e+01, 5.9900e+02,\n",
              "       8.9800e+00, 9.6900e+00, 4.9000e-01, 9.9800e+00, 9.9500e+00,\n",
              "       7.0000e+00, 4.9900e+02, 4.4900e+02, 1.2890e+01, 6.4900e+00,\n",
              "       1.8700e+00, 4.2990e+01, 4.1990e+01, 2.8999e+02, 2.3960e+01,\n",
              "       5.6500e+00, 1.2000e+01, 1.3370e+01, 1.8996e+02, 1.2499e+02,\n",
              "       1.9980e+01, 1.6091e+02])"
            ]
          },
          "execution_count": 61,
          "metadata": {},
          "output_type": "execute_result"
        }
      ],
      "source": [
        "df_juegos[\"price\"].unique()"
      ]
    },
    {
      "cell_type": "markdown",
      "metadata": {},
      "source": [
        "No parece haber ya valores faltantes"
      ]
    },
    {
      "cell_type": "markdown",
      "metadata": {
        "id": "2Xd0ePvzAHyS"
      },
      "source": [
        "## **8 Poner etiqueta \"sin dato\" a columnas string con NAs**"
      ]
    },
    {
      "cell_type": "markdown",
      "metadata": {
        "id": "uegXTclAX5ru"
      },
      "source": [
        "Por otro lado, como probablemente después necesitemos que las columnas con NA tengan \"una etiqueta\"(para que sirvan a algunos analises del EDA) vamos a llenar esas columnas con \"Sin dato\". Recordemos que, del apartado donde vimos el porcentaje de Nas, sabemos que las columnas que tienen este tipo de valor (y que además son string) son: id, publisher, genres, app_name, tags, reviews_url, developer."
      ]
    },
    {
      "cell_type": "code",
      "execution_count": 62,
      "metadata": {
        "colab": {
          "base_uri": "https://localhost:8080/"
        },
        "id": "9VIWSSLqZhWW",
        "outputId": "4815c701-8a76-4d33-f210-2ddea1105ee9"
      },
      "outputs": [
        {
          "name": "stdout",
          "output_type": "stream",
          "text": [
            "id                   0.0\n",
            "publisher            0.0\n",
            "genres               0.0\n",
            "app_name             0.0\n",
            "price                0.0\n",
            "early_access         0.0\n",
            "developer            0.0\n",
            "annio_lanzamiento    0.0\n",
            "dtype: float64\n"
          ]
        }
      ],
      "source": [
        "# Lista de columnas a procesar\n",
        "columnas_a_procesar = [\"id\", \"publisher\", \"genres\", \"app_name\", \"developer\", \"annio_lanzamiento\"]\n",
        "# Convertir \"annio_lanzamiento\" a string\n",
        "df_juegos[\"annio_lanzamiento\"] = df_juegos[\"annio_lanzamiento\"].astype(str)\n",
        "\n",
        "# Reemplazar NaN, <NA>, y None con \"Sin dato\" en las columnas especificadas\n",
        "reemplazos = {\n",
        "    np.nan: \"Sin dato\",\n",
        "    pd.NA: \"Sin dato\",\n",
        "    None: \"Sin dato\",\n",
        "}\n",
        "df_juegos[columnas_a_procesar] = df_juegos[columnas_a_procesar].replace(reemplazos)\n",
        "\n",
        "# Calcular el porcentaje de valores nulos\n",
        "porcentaje_nulos = df_juegos.isna().mean() * 100\n",
        "print(porcentaje_nulos)\n"
      ]
    },
    {
      "cell_type": "markdown",
      "metadata": {
        "id": "32j3agwsAOpq"
      },
      "source": [
        "## **9. Tratamiento de la columna \"genres\"**\n",
        "**Desagregar el género de las filas donde está como una lista**"
      ]
    },
    {
      "cell_type": "markdown",
      "metadata": {
        "id": "YHsPjLsObb1m"
      },
      "source": [
        "Ahora, como vimos hace rato, la columna género tiene en algunas filas una lista, hay que hacer que cada elemento de esa lista se asocie con un id y la información especifica, es decir, hay que desagruparla. Por lo anterior, se van a duplicar los ids para diferentes generos."
      ]
    },
    {
      "cell_type": "code",
      "execution_count": 63,
      "metadata": {
        "colab": {
          "base_uri": "https://localhost:8080/",
          "height": 423
        },
        "id": "87zioPPnboGF",
        "outputId": "bb36139c-0fd8-41ee-cae8-5e5f2afae261"
      },
      "outputs": [
        {
          "data": {
            "text/html": [
              "<div>\n",
              "<style scoped>\n",
              "    .dataframe tbody tr th:only-of-type {\n",
              "        vertical-align: middle;\n",
              "    }\n",
              "\n",
              "    .dataframe tbody tr th {\n",
              "        vertical-align: top;\n",
              "    }\n",
              "\n",
              "    .dataframe thead th {\n",
              "        text-align: right;\n",
              "    }\n",
              "</style>\n",
              "<table border=\"1\" class=\"dataframe\">\n",
              "  <thead>\n",
              "    <tr style=\"text-align: right;\">\n",
              "      <th></th>\n",
              "      <th>id</th>\n",
              "      <th>publisher</th>\n",
              "      <th>genres</th>\n",
              "      <th>app_name</th>\n",
              "      <th>price</th>\n",
              "      <th>early_access</th>\n",
              "      <th>developer</th>\n",
              "      <th>annio_lanzamiento</th>\n",
              "    </tr>\n",
              "  </thead>\n",
              "  <tbody>\n",
              "    <tr>\n",
              "      <th>0</th>\n",
              "      <td>761140</td>\n",
              "      <td>Kotoshiro</td>\n",
              "      <td>Action</td>\n",
              "      <td>Lost Summoner Kitty</td>\n",
              "      <td>4.99</td>\n",
              "      <td>False</td>\n",
              "      <td>Kotoshiro</td>\n",
              "      <td>2018</td>\n",
              "    </tr>\n",
              "    <tr>\n",
              "      <th>0</th>\n",
              "      <td>761140</td>\n",
              "      <td>Kotoshiro</td>\n",
              "      <td>Casual</td>\n",
              "      <td>Lost Summoner Kitty</td>\n",
              "      <td>4.99</td>\n",
              "      <td>False</td>\n",
              "      <td>Kotoshiro</td>\n",
              "      <td>2018</td>\n",
              "    </tr>\n",
              "    <tr>\n",
              "      <th>0</th>\n",
              "      <td>761140</td>\n",
              "      <td>Kotoshiro</td>\n",
              "      <td>Indie</td>\n",
              "      <td>Lost Summoner Kitty</td>\n",
              "      <td>4.99</td>\n",
              "      <td>False</td>\n",
              "      <td>Kotoshiro</td>\n",
              "      <td>2018</td>\n",
              "    </tr>\n",
              "    <tr>\n",
              "      <th>0</th>\n",
              "      <td>761140</td>\n",
              "      <td>Kotoshiro</td>\n",
              "      <td>Simulation</td>\n",
              "      <td>Lost Summoner Kitty</td>\n",
              "      <td>4.99</td>\n",
              "      <td>False</td>\n",
              "      <td>Kotoshiro</td>\n",
              "      <td>2018</td>\n",
              "    </tr>\n",
              "    <tr>\n",
              "      <th>0</th>\n",
              "      <td>761140</td>\n",
              "      <td>Kotoshiro</td>\n",
              "      <td>Strategy</td>\n",
              "      <td>Lost Summoner Kitty</td>\n",
              "      <td>4.99</td>\n",
              "      <td>False</td>\n",
              "      <td>Kotoshiro</td>\n",
              "      <td>2018</td>\n",
              "    </tr>\n",
              "    <tr>\n",
              "      <th>...</th>\n",
              "      <td>...</td>\n",
              "      <td>...</td>\n",
              "      <td>...</td>\n",
              "      <td>...</td>\n",
              "      <td>...</td>\n",
              "      <td>...</td>\n",
              "      <td>...</td>\n",
              "      <td>...</td>\n",
              "    </tr>\n",
              "    <tr>\n",
              "      <th>32132</th>\n",
              "      <td>610660</td>\n",
              "      <td>Laush Studio</td>\n",
              "      <td>Racing</td>\n",
              "      <td>Russian Roads</td>\n",
              "      <td>1.99</td>\n",
              "      <td>False</td>\n",
              "      <td>Laush Dmitriy Sergeevich</td>\n",
              "      <td>2018</td>\n",
              "    </tr>\n",
              "    <tr>\n",
              "      <th>32132</th>\n",
              "      <td>610660</td>\n",
              "      <td>Laush Studio</td>\n",
              "      <td>Simulation</td>\n",
              "      <td>Russian Roads</td>\n",
              "      <td>1.99</td>\n",
              "      <td>False</td>\n",
              "      <td>Laush Dmitriy Sergeevich</td>\n",
              "      <td>2018</td>\n",
              "    </tr>\n",
              "    <tr>\n",
              "      <th>32133</th>\n",
              "      <td>658870</td>\n",
              "      <td>SIXNAILS</td>\n",
              "      <td>Casual</td>\n",
              "      <td>EXIT 2 - Directions</td>\n",
              "      <td>4.99</td>\n",
              "      <td>False</td>\n",
              "      <td>xropi,stev3ns</td>\n",
              "      <td>2017</td>\n",
              "    </tr>\n",
              "    <tr>\n",
              "      <th>32133</th>\n",
              "      <td>658870</td>\n",
              "      <td>SIXNAILS</td>\n",
              "      <td>Indie</td>\n",
              "      <td>EXIT 2 - Directions</td>\n",
              "      <td>4.99</td>\n",
              "      <td>False</td>\n",
              "      <td>xropi,stev3ns</td>\n",
              "      <td>2017</td>\n",
              "    </tr>\n",
              "    <tr>\n",
              "      <th>32134</th>\n",
              "      <td>681550</td>\n",
              "      <td>Sin dato</td>\n",
              "      <td>Sin dato</td>\n",
              "      <td>Maze Run VR</td>\n",
              "      <td>4.99</td>\n",
              "      <td>True</td>\n",
              "      <td>Sin dato</td>\n",
              "      <td>&lt;NA&gt;</td>\n",
              "    </tr>\n",
              "  </tbody>\n",
              "</table>\n",
              "<p>74835 rows × 8 columns</p>\n",
              "</div>"
            ],
            "text/plain": [
              "           id     publisher      genres             app_name  price  \\\n",
              "0      761140     Kotoshiro      Action  Lost Summoner Kitty   4.99   \n",
              "0      761140     Kotoshiro      Casual  Lost Summoner Kitty   4.99   \n",
              "0      761140     Kotoshiro       Indie  Lost Summoner Kitty   4.99   \n",
              "0      761140     Kotoshiro  Simulation  Lost Summoner Kitty   4.99   \n",
              "0      761140     Kotoshiro    Strategy  Lost Summoner Kitty   4.99   \n",
              "...       ...           ...         ...                  ...    ...   \n",
              "32132  610660  Laush Studio      Racing        Russian Roads   1.99   \n",
              "32132  610660  Laush Studio  Simulation        Russian Roads   1.99   \n",
              "32133  658870      SIXNAILS      Casual  EXIT 2 - Directions   4.99   \n",
              "32133  658870      SIXNAILS       Indie  EXIT 2 - Directions   4.99   \n",
              "32134  681550      Sin dato    Sin dato          Maze Run VR   4.99   \n",
              "\n",
              "      early_access                 developer annio_lanzamiento  \n",
              "0            False                 Kotoshiro              2018  \n",
              "0            False                 Kotoshiro              2018  \n",
              "0            False                 Kotoshiro              2018  \n",
              "0            False                 Kotoshiro              2018  \n",
              "0            False                 Kotoshiro              2018  \n",
              "...            ...                       ...               ...  \n",
              "32132        False  Laush Dmitriy Sergeevich              2018  \n",
              "32132        False  Laush Dmitriy Sergeevich              2018  \n",
              "32133        False             xropi,stev3ns              2017  \n",
              "32133        False             xropi,stev3ns              2017  \n",
              "32134         True                  Sin dato              <NA>  \n",
              "\n",
              "[74835 rows x 8 columns]"
            ]
          },
          "execution_count": 63,
          "metadata": {},
          "output_type": "execute_result"
        }
      ],
      "source": [
        "# \"desempaquetamos\" la columna\n",
        "df_juegos = df_juegos.explode(\"genres\")\n",
        "\n",
        "#tratamos sus respectivos valores perdidos\n",
        "df_juegos = df_juegos.dropna(subset=[\"genres\"])\n",
        "\n",
        "## visualizamos cómo quedó la columna\n",
        "df_juegos"
      ]
    },
    {
      "cell_type": "markdown",
      "metadata": {
        "id": "YtsHe883cgRe"
      },
      "source": [
        "Vamos a ver ahora los valores unicos para genre. Por si allí se nos hubiera colado algún dato Na o de otro tipo. Podemos observar que no y que las categorías parecen ser correctas"
      ]
    },
    {
      "cell_type": "code",
      "execution_count": 64,
      "metadata": {
        "colab": {
          "base_uri": "https://localhost:8080/"
        },
        "id": "Lg805nubcjJl",
        "outputId": "5b436a7b-dcbd-4937-fd93-4dee23abe72f"
      },
      "outputs": [
        {
          "data": {
            "text/plain": [
              "array(['Action', 'Casual', 'Indie', 'Simulation', 'Strategy',\n",
              "       'Free to Play', 'RPG', 'Sports', 'Adventure', 'Sin dato', 'Racing',\n",
              "       'Early Access', 'Massively Multiplayer',\n",
              "       'Animation &amp; Modeling', 'Video Production', 'Utilities',\n",
              "       'Web Publishing', 'Education', 'Software Training',\n",
              "       'Design &amp; Illustration', 'Audio Production', 'Photo Editing',\n",
              "       'Accounting'], dtype=object)"
            ]
          },
          "execution_count": 64,
          "metadata": {},
          "output_type": "execute_result"
        }
      ],
      "source": [
        "df_juegos[\"genres\"].unique()"
      ]
    },
    {
      "cell_type": "markdown",
      "metadata": {},
      "source": [
        "## **10. Tratamiento de la columna developer**"
      ]
    },
    {
      "cell_type": "markdown",
      "metadata": {},
      "source": [
        "veamos la frecuencia de los valores unicos para la columna developer"
      ]
    },
    {
      "cell_type": "code",
      "execution_count": 65,
      "metadata": {},
      "outputs": [
        {
          "name": "stdout",
          "output_type": "stream",
          "text": [
            "Desarrolladores únicos: developer\n",
            "Sin dato                      3478\n",
            "Ubisoft - San Francisco       2516\n",
            "SmiteWorks USA, LLC           2364\n",
            "DL Softworks                   495\n",
            "Ronimo Games                   379\n",
            "Paradox Development Studio     311\n",
            "Musopia                        285\n",
            "Arcane Raise                   266\n",
            "Dovetail Games                 256\n",
            "Choice of Games                248\n",
            "Boogygames Studios             236\n",
            "KOEI TECMO GAMES CO., LTD.     233\n",
            "Milestone S.r.l.               211\n",
            "Magic Pixel Kft.               207\n",
            "Capcom                         176\n",
            "Warfare Studios                160\n",
            "Aldorlea Games                 150\n",
            "GameUS Inc.                    150\n",
            "SCS Software                   144\n",
            "Llama Software                 141\n",
            "Name: count, dtype: int64\n"
          ]
        }
      ],
      "source": [
        "valores_uniq_develop = df_juegos['developer'].value_counts().head(20)\n",
        "print(f\"Desarrolladores únicos: {valores_uniq_develop}\")"
      ]
    },
    {
      "cell_type": "markdown",
      "metadata": {},
      "source": [
        "Es probable que la columna developer no se encuentre estandarizada en todas sus filas. Vamos a convertir los nombres a minuscula, a eliminar espacios que no se necesiten "
      ]
    },
    {
      "cell_type": "code",
      "execution_count": 66,
      "metadata": {},
      "outputs": [],
      "source": [
        "# si el nombre es una cadena procede a la normalización\n",
        "df_juegos[\"developer\"] = df_juegos[\"developer\"].apply(lambda name: re.sub(r\"\\s+\", \" \", re.sub(r\"[^a-zA-Z\\s]\", \"\", name.lower().strip())) if isinstance(name, str) else name)\n"
      ]
    },
    {
      "cell_type": "markdown",
      "metadata": {
        "id": "VCcG_vClAU8y"
      },
      "source": [
        "## **11. Visualización final de los tipos de dato por columna**\n",
        "\n"
      ]
    },
    {
      "cell_type": "markdown",
      "metadata": {},
      "source": [
        "Veamos qué tipo de dato contienen las columnas hasta el momento"
      ]
    },
    {
      "cell_type": "code",
      "execution_count": 67,
      "metadata": {
        "colab": {
          "base_uri": "https://localhost:8080/"
        },
        "id": "3ypjxhlayTbc",
        "outputId": "ee69b404-4eda-4e30-92c2-662bc01498e0"
      },
      "outputs": [
        {
          "name": "stdout",
          "output_type": "stream",
          "text": [
            "Columna: id\n",
            "Tipo de dato: <class 'str'>\n",
            "Primeros valores: ['761140', '761140', '761140', '761140', '761140']\n",
            "\n",
            "\n",
            "Columna: publisher\n",
            "Tipo de dato: <class 'str'>\n",
            "Primeros valores: ['Kotoshiro', 'Kotoshiro', 'Kotoshiro', 'Kotoshiro', 'Kotoshiro']\n",
            "\n",
            "\n",
            "Columna: genres\n",
            "Tipo de dato: <class 'str'>\n",
            "Primeros valores: ['Action', 'Casual', 'Indie', 'Simulation', 'Strategy']\n",
            "\n",
            "\n",
            "Columna: app_name\n",
            "Tipo de dato: <class 'str'>\n",
            "Primeros valores: ['Lost Summoner Kitty', 'Lost Summoner Kitty', 'Lost Summoner Kitty', 'Lost Summoner Kitty', 'Lost Summoner Kitty']\n",
            "\n",
            "\n",
            "Columna: price\n",
            "Tipo de dato: <class 'numpy.float64'>\n",
            "Primeros valores: [4.99, 4.99, 4.99, 4.99, 4.99]\n",
            "\n",
            "\n",
            "Columna: early_access\n",
            "Tipo de dato: <class 'bool'>\n",
            "Primeros valores: [False, False, False, False, False]\n",
            "\n",
            "\n",
            "Columna: developer\n",
            "Tipo de dato: <class 'str'>\n",
            "Primeros valores: ['kotoshiro', 'kotoshiro', 'kotoshiro', 'kotoshiro', 'kotoshiro']\n",
            "\n",
            "\n",
            "Columna: annio_lanzamiento\n",
            "Tipo de dato: <class 'str'>\n",
            "Primeros valores: ['2018', '2018', '2018', '2018', '2018']\n",
            "\n",
            "\n"
          ]
        }
      ],
      "source": [
        "resumen_columnas = df_juegos.apply(lambda x: {\"tipo_dato\": type(x.iloc[0]), \"primeros_valores\": x.iloc[:5].tolist()})\n",
        "\n",
        "# Mostrar el resumen\n",
        "for columna, resumen in resumen_columnas.items():\n",
        "    print(f\"Columna: {columna}\")\n",
        "    print(f\"Tipo de dato: {resumen['tipo_dato']}\")\n",
        "    print(f\"Primeros valores: {resumen['primeros_valores']}\")\n",
        "    print(\"\\n\")"
      ]
    },
    {
      "cell_type": "code",
      "execution_count": 68,
      "metadata": {
        "colab": {
          "base_uri": "https://localhost:8080/",
          "height": 423
        },
        "id": "VE0-yezLeI4T",
        "outputId": "52374d28-d40a-4249-dd24-e72dbfdaab4a"
      },
      "outputs": [
        {
          "data": {
            "text/html": [
              "<div>\n",
              "<style scoped>\n",
              "    .dataframe tbody tr th:only-of-type {\n",
              "        vertical-align: middle;\n",
              "    }\n",
              "\n",
              "    .dataframe tbody tr th {\n",
              "        vertical-align: top;\n",
              "    }\n",
              "\n",
              "    .dataframe thead th {\n",
              "        text-align: right;\n",
              "    }\n",
              "</style>\n",
              "<table border=\"1\" class=\"dataframe\">\n",
              "  <thead>\n",
              "    <tr style=\"text-align: right;\">\n",
              "      <th></th>\n",
              "      <th>id</th>\n",
              "      <th>publisher</th>\n",
              "      <th>genres</th>\n",
              "      <th>app_name</th>\n",
              "      <th>price</th>\n",
              "      <th>early_access</th>\n",
              "      <th>developer</th>\n",
              "      <th>annio_lanzamiento</th>\n",
              "    </tr>\n",
              "  </thead>\n",
              "  <tbody>\n",
              "    <tr>\n",
              "      <th>0</th>\n",
              "      <td>761140</td>\n",
              "      <td>Kotoshiro</td>\n",
              "      <td>Action</td>\n",
              "      <td>Lost Summoner Kitty</td>\n",
              "      <td>4.99</td>\n",
              "      <td>False</td>\n",
              "      <td>kotoshiro</td>\n",
              "      <td>2018</td>\n",
              "    </tr>\n",
              "    <tr>\n",
              "      <th>0</th>\n",
              "      <td>761140</td>\n",
              "      <td>Kotoshiro</td>\n",
              "      <td>Casual</td>\n",
              "      <td>Lost Summoner Kitty</td>\n",
              "      <td>4.99</td>\n",
              "      <td>False</td>\n",
              "      <td>kotoshiro</td>\n",
              "      <td>2018</td>\n",
              "    </tr>\n",
              "    <tr>\n",
              "      <th>0</th>\n",
              "      <td>761140</td>\n",
              "      <td>Kotoshiro</td>\n",
              "      <td>Indie</td>\n",
              "      <td>Lost Summoner Kitty</td>\n",
              "      <td>4.99</td>\n",
              "      <td>False</td>\n",
              "      <td>kotoshiro</td>\n",
              "      <td>2018</td>\n",
              "    </tr>\n",
              "    <tr>\n",
              "      <th>0</th>\n",
              "      <td>761140</td>\n",
              "      <td>Kotoshiro</td>\n",
              "      <td>Simulation</td>\n",
              "      <td>Lost Summoner Kitty</td>\n",
              "      <td>4.99</td>\n",
              "      <td>False</td>\n",
              "      <td>kotoshiro</td>\n",
              "      <td>2018</td>\n",
              "    </tr>\n",
              "    <tr>\n",
              "      <th>0</th>\n",
              "      <td>761140</td>\n",
              "      <td>Kotoshiro</td>\n",
              "      <td>Strategy</td>\n",
              "      <td>Lost Summoner Kitty</td>\n",
              "      <td>4.99</td>\n",
              "      <td>False</td>\n",
              "      <td>kotoshiro</td>\n",
              "      <td>2018</td>\n",
              "    </tr>\n",
              "    <tr>\n",
              "      <th>...</th>\n",
              "      <td>...</td>\n",
              "      <td>...</td>\n",
              "      <td>...</td>\n",
              "      <td>...</td>\n",
              "      <td>...</td>\n",
              "      <td>...</td>\n",
              "      <td>...</td>\n",
              "      <td>...</td>\n",
              "    </tr>\n",
              "    <tr>\n",
              "      <th>32132</th>\n",
              "      <td>610660</td>\n",
              "      <td>Laush Studio</td>\n",
              "      <td>Racing</td>\n",
              "      <td>Russian Roads</td>\n",
              "      <td>1.99</td>\n",
              "      <td>False</td>\n",
              "      <td>laush dmitriy sergeevich</td>\n",
              "      <td>2018</td>\n",
              "    </tr>\n",
              "    <tr>\n",
              "      <th>32132</th>\n",
              "      <td>610660</td>\n",
              "      <td>Laush Studio</td>\n",
              "      <td>Simulation</td>\n",
              "      <td>Russian Roads</td>\n",
              "      <td>1.99</td>\n",
              "      <td>False</td>\n",
              "      <td>laush dmitriy sergeevich</td>\n",
              "      <td>2018</td>\n",
              "    </tr>\n",
              "    <tr>\n",
              "      <th>32133</th>\n",
              "      <td>658870</td>\n",
              "      <td>SIXNAILS</td>\n",
              "      <td>Casual</td>\n",
              "      <td>EXIT 2 - Directions</td>\n",
              "      <td>4.99</td>\n",
              "      <td>False</td>\n",
              "      <td>xropistevns</td>\n",
              "      <td>2017</td>\n",
              "    </tr>\n",
              "    <tr>\n",
              "      <th>32133</th>\n",
              "      <td>658870</td>\n",
              "      <td>SIXNAILS</td>\n",
              "      <td>Indie</td>\n",
              "      <td>EXIT 2 - Directions</td>\n",
              "      <td>4.99</td>\n",
              "      <td>False</td>\n",
              "      <td>xropistevns</td>\n",
              "      <td>2017</td>\n",
              "    </tr>\n",
              "    <tr>\n",
              "      <th>32134</th>\n",
              "      <td>681550</td>\n",
              "      <td>Sin dato</td>\n",
              "      <td>Sin dato</td>\n",
              "      <td>Maze Run VR</td>\n",
              "      <td>4.99</td>\n",
              "      <td>True</td>\n",
              "      <td>sin dato</td>\n",
              "      <td>&lt;NA&gt;</td>\n",
              "    </tr>\n",
              "  </tbody>\n",
              "</table>\n",
              "<p>74835 rows × 8 columns</p>\n",
              "</div>"
            ],
            "text/plain": [
              "           id     publisher      genres             app_name  price  \\\n",
              "0      761140     Kotoshiro      Action  Lost Summoner Kitty   4.99   \n",
              "0      761140     Kotoshiro      Casual  Lost Summoner Kitty   4.99   \n",
              "0      761140     Kotoshiro       Indie  Lost Summoner Kitty   4.99   \n",
              "0      761140     Kotoshiro  Simulation  Lost Summoner Kitty   4.99   \n",
              "0      761140     Kotoshiro    Strategy  Lost Summoner Kitty   4.99   \n",
              "...       ...           ...         ...                  ...    ...   \n",
              "32132  610660  Laush Studio      Racing        Russian Roads   1.99   \n",
              "32132  610660  Laush Studio  Simulation        Russian Roads   1.99   \n",
              "32133  658870      SIXNAILS      Casual  EXIT 2 - Directions   4.99   \n",
              "32133  658870      SIXNAILS       Indie  EXIT 2 - Directions   4.99   \n",
              "32134  681550      Sin dato    Sin dato          Maze Run VR   4.99   \n",
              "\n",
              "      early_access                 developer annio_lanzamiento  \n",
              "0            False                 kotoshiro              2018  \n",
              "0            False                 kotoshiro              2018  \n",
              "0            False                 kotoshiro              2018  \n",
              "0            False                 kotoshiro              2018  \n",
              "0            False                 kotoshiro              2018  \n",
              "...            ...                       ...               ...  \n",
              "32132        False  laush dmitriy sergeevich              2018  \n",
              "32132        False  laush dmitriy sergeevich              2018  \n",
              "32133        False               xropistevns              2017  \n",
              "32133        False               xropistevns              2017  \n",
              "32134         True                  sin dato              <NA>  \n",
              "\n",
              "[74835 rows x 8 columns]"
            ]
          },
          "execution_count": 68,
          "metadata": {},
          "output_type": "execute_result"
        }
      ],
      "source": [
        "df_juegos"
      ]
    },
    {
      "cell_type": "markdown",
      "metadata": {
        "id": "kvK8RwFwergz"
      },
      "source": [
        "renombrar id a item_id y annio_lanzamiento a year, como en el ipynb etl 2\n",
        "\n",
        "\n"
      ]
    },
    {
      "cell_type": "code",
      "execution_count": 69,
      "metadata": {
        "id": "u4Bhnr47fLyq"
      },
      "outputs": [],
      "source": [
        "df_juegos.rename(columns={\"id\": \"item_id\", \"annio_lanzamiento\": \"year\"}, inplace=True)\n"
      ]
    },
    {
      "cell_type": "code",
      "execution_count": 70,
      "metadata": {
        "colab": {
          "base_uri": "https://localhost:8080/",
          "height": 423
        },
        "id": "GCKhIAxzfNdK",
        "outputId": "a19a6b30-58cf-45f8-deb5-3fa199f617b7"
      },
      "outputs": [
        {
          "data": {
            "text/html": [
              "<div>\n",
              "<style scoped>\n",
              "    .dataframe tbody tr th:only-of-type {\n",
              "        vertical-align: middle;\n",
              "    }\n",
              "\n",
              "    .dataframe tbody tr th {\n",
              "        vertical-align: top;\n",
              "    }\n",
              "\n",
              "    .dataframe thead th {\n",
              "        text-align: right;\n",
              "    }\n",
              "</style>\n",
              "<table border=\"1\" class=\"dataframe\">\n",
              "  <thead>\n",
              "    <tr style=\"text-align: right;\">\n",
              "      <th></th>\n",
              "      <th>item_id</th>\n",
              "      <th>publisher</th>\n",
              "      <th>genres</th>\n",
              "      <th>app_name</th>\n",
              "      <th>price</th>\n",
              "      <th>early_access</th>\n",
              "      <th>developer</th>\n",
              "      <th>year</th>\n",
              "    </tr>\n",
              "  </thead>\n",
              "  <tbody>\n",
              "    <tr>\n",
              "      <th>0</th>\n",
              "      <td>761140</td>\n",
              "      <td>Kotoshiro</td>\n",
              "      <td>Action</td>\n",
              "      <td>Lost Summoner Kitty</td>\n",
              "      <td>4.99</td>\n",
              "      <td>False</td>\n",
              "      <td>kotoshiro</td>\n",
              "      <td>2018</td>\n",
              "    </tr>\n",
              "    <tr>\n",
              "      <th>0</th>\n",
              "      <td>761140</td>\n",
              "      <td>Kotoshiro</td>\n",
              "      <td>Casual</td>\n",
              "      <td>Lost Summoner Kitty</td>\n",
              "      <td>4.99</td>\n",
              "      <td>False</td>\n",
              "      <td>kotoshiro</td>\n",
              "      <td>2018</td>\n",
              "    </tr>\n",
              "    <tr>\n",
              "      <th>0</th>\n",
              "      <td>761140</td>\n",
              "      <td>Kotoshiro</td>\n",
              "      <td>Indie</td>\n",
              "      <td>Lost Summoner Kitty</td>\n",
              "      <td>4.99</td>\n",
              "      <td>False</td>\n",
              "      <td>kotoshiro</td>\n",
              "      <td>2018</td>\n",
              "    </tr>\n",
              "    <tr>\n",
              "      <th>0</th>\n",
              "      <td>761140</td>\n",
              "      <td>Kotoshiro</td>\n",
              "      <td>Simulation</td>\n",
              "      <td>Lost Summoner Kitty</td>\n",
              "      <td>4.99</td>\n",
              "      <td>False</td>\n",
              "      <td>kotoshiro</td>\n",
              "      <td>2018</td>\n",
              "    </tr>\n",
              "    <tr>\n",
              "      <th>0</th>\n",
              "      <td>761140</td>\n",
              "      <td>Kotoshiro</td>\n",
              "      <td>Strategy</td>\n",
              "      <td>Lost Summoner Kitty</td>\n",
              "      <td>4.99</td>\n",
              "      <td>False</td>\n",
              "      <td>kotoshiro</td>\n",
              "      <td>2018</td>\n",
              "    </tr>\n",
              "    <tr>\n",
              "      <th>...</th>\n",
              "      <td>...</td>\n",
              "      <td>...</td>\n",
              "      <td>...</td>\n",
              "      <td>...</td>\n",
              "      <td>...</td>\n",
              "      <td>...</td>\n",
              "      <td>...</td>\n",
              "      <td>...</td>\n",
              "    </tr>\n",
              "    <tr>\n",
              "      <th>32132</th>\n",
              "      <td>610660</td>\n",
              "      <td>Laush Studio</td>\n",
              "      <td>Racing</td>\n",
              "      <td>Russian Roads</td>\n",
              "      <td>1.99</td>\n",
              "      <td>False</td>\n",
              "      <td>laush dmitriy sergeevich</td>\n",
              "      <td>2018</td>\n",
              "    </tr>\n",
              "    <tr>\n",
              "      <th>32132</th>\n",
              "      <td>610660</td>\n",
              "      <td>Laush Studio</td>\n",
              "      <td>Simulation</td>\n",
              "      <td>Russian Roads</td>\n",
              "      <td>1.99</td>\n",
              "      <td>False</td>\n",
              "      <td>laush dmitriy sergeevich</td>\n",
              "      <td>2018</td>\n",
              "    </tr>\n",
              "    <tr>\n",
              "      <th>32133</th>\n",
              "      <td>658870</td>\n",
              "      <td>SIXNAILS</td>\n",
              "      <td>Casual</td>\n",
              "      <td>EXIT 2 - Directions</td>\n",
              "      <td>4.99</td>\n",
              "      <td>False</td>\n",
              "      <td>xropistevns</td>\n",
              "      <td>2017</td>\n",
              "    </tr>\n",
              "    <tr>\n",
              "      <th>32133</th>\n",
              "      <td>658870</td>\n",
              "      <td>SIXNAILS</td>\n",
              "      <td>Indie</td>\n",
              "      <td>EXIT 2 - Directions</td>\n",
              "      <td>4.99</td>\n",
              "      <td>False</td>\n",
              "      <td>xropistevns</td>\n",
              "      <td>2017</td>\n",
              "    </tr>\n",
              "    <tr>\n",
              "      <th>32134</th>\n",
              "      <td>681550</td>\n",
              "      <td>Sin dato</td>\n",
              "      <td>Sin dato</td>\n",
              "      <td>Maze Run VR</td>\n",
              "      <td>4.99</td>\n",
              "      <td>True</td>\n",
              "      <td>sin dato</td>\n",
              "      <td>&lt;NA&gt;</td>\n",
              "    </tr>\n",
              "  </tbody>\n",
              "</table>\n",
              "<p>74835 rows × 8 columns</p>\n",
              "</div>"
            ],
            "text/plain": [
              "      item_id     publisher      genres             app_name  price  \\\n",
              "0      761140     Kotoshiro      Action  Lost Summoner Kitty   4.99   \n",
              "0      761140     Kotoshiro      Casual  Lost Summoner Kitty   4.99   \n",
              "0      761140     Kotoshiro       Indie  Lost Summoner Kitty   4.99   \n",
              "0      761140     Kotoshiro  Simulation  Lost Summoner Kitty   4.99   \n",
              "0      761140     Kotoshiro    Strategy  Lost Summoner Kitty   4.99   \n",
              "...       ...           ...         ...                  ...    ...   \n",
              "32132  610660  Laush Studio      Racing        Russian Roads   1.99   \n",
              "32132  610660  Laush Studio  Simulation        Russian Roads   1.99   \n",
              "32133  658870      SIXNAILS      Casual  EXIT 2 - Directions   4.99   \n",
              "32133  658870      SIXNAILS       Indie  EXIT 2 - Directions   4.99   \n",
              "32134  681550      Sin dato    Sin dato          Maze Run VR   4.99   \n",
              "\n",
              "      early_access                 developer  year  \n",
              "0            False                 kotoshiro  2018  \n",
              "0            False                 kotoshiro  2018  \n",
              "0            False                 kotoshiro  2018  \n",
              "0            False                 kotoshiro  2018  \n",
              "0            False                 kotoshiro  2018  \n",
              "...            ...                       ...   ...  \n",
              "32132        False  laush dmitriy sergeevich  2018  \n",
              "32132        False  laush dmitriy sergeevich  2018  \n",
              "32133        False               xropistevns  2017  \n",
              "32133        False               xropistevns  2017  \n",
              "32134         True                  sin dato  <NA>  \n",
              "\n",
              "[74835 rows x 8 columns]"
            ]
          },
          "execution_count": 70,
          "metadata": {},
          "output_type": "execute_result"
        }
      ],
      "source": [
        "df_juegos"
      ]
    },
    {
      "cell_type": "markdown",
      "metadata": {},
      "source": [
        "## **12. últimos ajustes**"
      ]
    },
    {
      "cell_type": "markdown",
      "metadata": {},
      "source": [
        "busqueda de NAs pendientes"
      ]
    },
    {
      "cell_type": "code",
      "execution_count": 71,
      "metadata": {},
      "outputs": [
        {
          "data": {
            "text/html": [
              "<div>\n",
              "<style scoped>\n",
              "    .dataframe tbody tr th:only-of-type {\n",
              "        vertical-align: middle;\n",
              "    }\n",
              "\n",
              "    .dataframe tbody tr th {\n",
              "        vertical-align: top;\n",
              "    }\n",
              "\n",
              "    .dataframe thead th {\n",
              "        text-align: right;\n",
              "    }\n",
              "</style>\n",
              "<table border=\"1\" class=\"dataframe\">\n",
              "  <thead>\n",
              "    <tr style=\"text-align: right;\">\n",
              "      <th></th>\n",
              "      <th>item_id</th>\n",
              "      <th>publisher</th>\n",
              "      <th>genres</th>\n",
              "      <th>app_name</th>\n",
              "      <th>price</th>\n",
              "      <th>early_access</th>\n",
              "      <th>developer</th>\n",
              "      <th>year</th>\n",
              "    </tr>\n",
              "  </thead>\n",
              "  <tbody>\n",
              "    <tr>\n",
              "      <th>3</th>\n",
              "      <td>767400</td>\n",
              "      <td>彼岸领域</td>\n",
              "      <td>Action</td>\n",
              "      <td>弹炸人2222</td>\n",
              "      <td>0.99</td>\n",
              "      <td>False</td>\n",
              "      <td></td>\n",
              "      <td>2017</td>\n",
              "    </tr>\n",
              "    <tr>\n",
              "      <th>3</th>\n",
              "      <td>767400</td>\n",
              "      <td>彼岸领域</td>\n",
              "      <td>Adventure</td>\n",
              "      <td>弹炸人2222</td>\n",
              "      <td>0.99</td>\n",
              "      <td>False</td>\n",
              "      <td></td>\n",
              "      <td>2017</td>\n",
              "    </tr>\n",
              "    <tr>\n",
              "      <th>3</th>\n",
              "      <td>767400</td>\n",
              "      <td>彼岸领域</td>\n",
              "      <td>Casual</td>\n",
              "      <td>弹炸人2222</td>\n",
              "      <td>0.99</td>\n",
              "      <td>False</td>\n",
              "      <td></td>\n",
              "      <td>2017</td>\n",
              "    </tr>\n",
              "    <tr>\n",
              "      <th>4</th>\n",
              "      <td>773570</td>\n",
              "      <td>Sin dato</td>\n",
              "      <td>Sin dato</td>\n",
              "      <td>Log Challenge</td>\n",
              "      <td>2.99</td>\n",
              "      <td>False</td>\n",
              "      <td>sin dato</td>\n",
              "      <td>&lt;NA&gt;</td>\n",
              "    </tr>\n",
              "    <tr>\n",
              "      <th>10</th>\n",
              "      <td>768570</td>\n",
              "      <td>Qucheza</td>\n",
              "      <td>Action</td>\n",
              "      <td>Uncanny Islands</td>\n",
              "      <td>0.00</td>\n",
              "      <td>True</td>\n",
              "      <td>qucheza</td>\n",
              "      <td>&lt;NA&gt;</td>\n",
              "    </tr>\n",
              "    <tr>\n",
              "      <th>...</th>\n",
              "      <td>...</td>\n",
              "      <td>...</td>\n",
              "      <td>...</td>\n",
              "      <td>...</td>\n",
              "      <td>...</td>\n",
              "      <td>...</td>\n",
              "      <td>...</td>\n",
              "      <td>...</td>\n",
              "    </tr>\n",
              "    <tr>\n",
              "      <th>32100</th>\n",
              "      <td>754350</td>\n",
              "      <td>杭州分浪网络科技有限公司</td>\n",
              "      <td>Free to Play</td>\n",
              "      <td>忍者村大战2</td>\n",
              "      <td>0.00</td>\n",
              "      <td>False</td>\n",
              "      <td></td>\n",
              "      <td>2018</td>\n",
              "    </tr>\n",
              "    <tr>\n",
              "      <th>32100</th>\n",
              "      <td>754350</td>\n",
              "      <td>杭州分浪网络科技有限公司</td>\n",
              "      <td>Massively Multiplayer</td>\n",
              "      <td>忍者村大战2</td>\n",
              "      <td>0.00</td>\n",
              "      <td>False</td>\n",
              "      <td></td>\n",
              "      <td>2018</td>\n",
              "    </tr>\n",
              "    <tr>\n",
              "      <th>32100</th>\n",
              "      <td>754350</td>\n",
              "      <td>杭州分浪网络科技有限公司</td>\n",
              "      <td>RPG</td>\n",
              "      <td>忍者村大战2</td>\n",
              "      <td>0.00</td>\n",
              "      <td>False</td>\n",
              "      <td></td>\n",
              "      <td>2018</td>\n",
              "    </tr>\n",
              "    <tr>\n",
              "      <th>32100</th>\n",
              "      <td>754350</td>\n",
              "      <td>杭州分浪网络科技有限公司</td>\n",
              "      <td>Strategy</td>\n",
              "      <td>忍者村大战2</td>\n",
              "      <td>0.00</td>\n",
              "      <td>False</td>\n",
              "      <td></td>\n",
              "      <td>2018</td>\n",
              "    </tr>\n",
              "    <tr>\n",
              "      <th>32134</th>\n",
              "      <td>681550</td>\n",
              "      <td>Sin dato</td>\n",
              "      <td>Sin dato</td>\n",
              "      <td>Maze Run VR</td>\n",
              "      <td>4.99</td>\n",
              "      <td>True</td>\n",
              "      <td>sin dato</td>\n",
              "      <td>&lt;NA&gt;</td>\n",
              "    </tr>\n",
              "  </tbody>\n",
              "</table>\n",
              "<p>2581 rows × 8 columns</p>\n",
              "</div>"
            ],
            "text/plain": [
              "      item_id     publisher                 genres         app_name  price  \\\n",
              "3      767400          彼岸领域                 Action          弹炸人2222   0.99   \n",
              "3      767400          彼岸领域              Adventure          弹炸人2222   0.99   \n",
              "3      767400          彼岸领域                 Casual          弹炸人2222   0.99   \n",
              "4      773570      Sin dato               Sin dato    Log Challenge   2.99   \n",
              "10     768570       Qucheza                 Action  Uncanny Islands   0.00   \n",
              "...       ...           ...                    ...              ...    ...   \n",
              "32100  754350  杭州分浪网络科技有限公司           Free to Play           忍者村大战2   0.00   \n",
              "32100  754350  杭州分浪网络科技有限公司  Massively Multiplayer           忍者村大战2   0.00   \n",
              "32100  754350  杭州分浪网络科技有限公司                    RPG           忍者村大战2   0.00   \n",
              "32100  754350  杭州分浪网络科技有限公司               Strategy           忍者村大战2   0.00   \n",
              "32134  681550      Sin dato               Sin dato      Maze Run VR   4.99   \n",
              "\n",
              "      early_access developer  year  \n",
              "3            False            2017  \n",
              "3            False            2017  \n",
              "3            False            2017  \n",
              "4            False  sin dato  <NA>  \n",
              "10            True   qucheza  <NA>  \n",
              "...            ...       ...   ...  \n",
              "32100        False            2018  \n",
              "32100        False            2018  \n",
              "32100        False            2018  \n",
              "32100        False            2018  \n",
              "32134         True  sin dato  <NA>  \n",
              "\n",
              "[2581 rows x 8 columns]"
            ]
          },
          "execution_count": 71,
          "metadata": {},
          "output_type": "execute_result"
        }
      ],
      "source": [
        "# Se ve que year tiene na con el formato <NA>, hay que quitarlos con una función, vamos a ver si hay en otras\n",
        "# columnas otras formas de NA que se hayan pasado desapercibidas\n",
        "# Establecemos las presentaciones posibles de valores nulos como cadenas\n",
        "representaciones_nulos = [\"<NA>\", \"None\", \"NA\", \"<na>\", \"none\", \"na\", \"N/A\", \"n.a.\", \"n.a\", \"N/A/\", \"missing\", \"null\", \"\"]\n",
        "\n",
        "# creamos una máscara que identifique las filas con alguna representación de valor nulo que pusimos arriba\n",
        "mask_nulos = df_juegos.apply(lambda col: col.astype(str).isin(representaciones_nulos)).any(axis=1)\n",
        "\n",
        "# Filtrar y mostrar las filas que contienen alguna representación de valor nulo\n",
        "filas_nulos_cadena = df_juegos[mask_nulos]\n",
        "filas_nulos_cadena\n"
      ]
    },
    {
      "cell_type": "code",
      "execution_count": 72,
      "metadata": {},
      "outputs": [
        {
          "data": {
            "text/html": [
              "<div>\n",
              "<style scoped>\n",
              "    .dataframe tbody tr th:only-of-type {\n",
              "        vertical-align: middle;\n",
              "    }\n",
              "\n",
              "    .dataframe tbody tr th {\n",
              "        vertical-align: top;\n",
              "    }\n",
              "\n",
              "    .dataframe thead th {\n",
              "        text-align: right;\n",
              "    }\n",
              "</style>\n",
              "<table border=\"1\" class=\"dataframe\">\n",
              "  <thead>\n",
              "    <tr style=\"text-align: right;\">\n",
              "      <th></th>\n",
              "      <th>item_id</th>\n",
              "      <th>publisher</th>\n",
              "      <th>genres</th>\n",
              "      <th>app_name</th>\n",
              "      <th>price</th>\n",
              "      <th>early_access</th>\n",
              "      <th>developer</th>\n",
              "      <th>year</th>\n",
              "    </tr>\n",
              "  </thead>\n",
              "  <tbody>\n",
              "    <tr>\n",
              "      <th>3</th>\n",
              "      <td>767400</td>\n",
              "      <td>彼岸领域</td>\n",
              "      <td>Action</td>\n",
              "      <td>弹炸人2222</td>\n",
              "      <td>0.99</td>\n",
              "      <td>False</td>\n",
              "      <td></td>\n",
              "      <td>2017</td>\n",
              "    </tr>\n",
              "    <tr>\n",
              "      <th>3</th>\n",
              "      <td>767400</td>\n",
              "      <td>彼岸领域</td>\n",
              "      <td>Adventure</td>\n",
              "      <td>弹炸人2222</td>\n",
              "      <td>0.99</td>\n",
              "      <td>False</td>\n",
              "      <td></td>\n",
              "      <td>2017</td>\n",
              "    </tr>\n",
              "    <tr>\n",
              "      <th>3</th>\n",
              "      <td>767400</td>\n",
              "      <td>彼岸领域</td>\n",
              "      <td>Casual</td>\n",
              "      <td>弹炸人2222</td>\n",
              "      <td>0.99</td>\n",
              "      <td>False</td>\n",
              "      <td></td>\n",
              "      <td>2017</td>\n",
              "    </tr>\n",
              "    <tr>\n",
              "      <th>4</th>\n",
              "      <td>773570</td>\n",
              "      <td>Sin dato</td>\n",
              "      <td>Sin dato</td>\n",
              "      <td>Log Challenge</td>\n",
              "      <td>2.99</td>\n",
              "      <td>False</td>\n",
              "      <td>sin dato</td>\n",
              "      <td>&lt;NA&gt;</td>\n",
              "    </tr>\n",
              "    <tr>\n",
              "      <th>10</th>\n",
              "      <td>768570</td>\n",
              "      <td>Qucheza</td>\n",
              "      <td>Action</td>\n",
              "      <td>Uncanny Islands</td>\n",
              "      <td>0.00</td>\n",
              "      <td>True</td>\n",
              "      <td>qucheza</td>\n",
              "      <td>&lt;NA&gt;</td>\n",
              "    </tr>\n",
              "    <tr>\n",
              "      <th>...</th>\n",
              "      <td>...</td>\n",
              "      <td>...</td>\n",
              "      <td>...</td>\n",
              "      <td>...</td>\n",
              "      <td>...</td>\n",
              "      <td>...</td>\n",
              "      <td>...</td>\n",
              "      <td>...</td>\n",
              "    </tr>\n",
              "    <tr>\n",
              "      <th>32118</th>\n",
              "      <td>775640</td>\n",
              "      <td>Sin dato</td>\n",
              "      <td>Sin dato</td>\n",
              "      <td>Robotpencil Presents: Exercise: Brushwork</td>\n",
              "      <td>3.99</td>\n",
              "      <td>False</td>\n",
              "      <td>sin dato</td>\n",
              "      <td>2018</td>\n",
              "    </tr>\n",
              "    <tr>\n",
              "      <th>32119</th>\n",
              "      <td>777930</td>\n",
              "      <td>Sin dato</td>\n",
              "      <td>Sin dato</td>\n",
              "      <td>Robotpencil Presents: Creative Composition</td>\n",
              "      <td>3.99</td>\n",
              "      <td>False</td>\n",
              "      <td>sin dato</td>\n",
              "      <td>2018</td>\n",
              "    </tr>\n",
              "    <tr>\n",
              "      <th>32120</th>\n",
              "      <td>775370</td>\n",
              "      <td>Sin dato</td>\n",
              "      <td>Sin dato</td>\n",
              "      <td>The Gamble House</td>\n",
              "      <td>4.99</td>\n",
              "      <td>False</td>\n",
              "      <td>sin dato</td>\n",
              "      <td>2016</td>\n",
              "    </tr>\n",
              "    <tr>\n",
              "      <th>32121</th>\n",
              "      <td>777950</td>\n",
              "      <td>Sin dato</td>\n",
              "      <td>Sin dato</td>\n",
              "      <td>Kalen Chock Presents: 2017 Free Tutorial</td>\n",
              "      <td>0.00</td>\n",
              "      <td>False</td>\n",
              "      <td>sin dato</td>\n",
              "      <td>2018</td>\n",
              "    </tr>\n",
              "    <tr>\n",
              "      <th>32134</th>\n",
              "      <td>681550</td>\n",
              "      <td>Sin dato</td>\n",
              "      <td>Sin dato</td>\n",
              "      <td>Maze Run VR</td>\n",
              "      <td>4.99</td>\n",
              "      <td>True</td>\n",
              "      <td>sin dato</td>\n",
              "      <td>&lt;NA&gt;</td>\n",
              "    </tr>\n",
              "  </tbody>\n",
              "</table>\n",
              "<p>4011 rows × 8 columns</p>\n",
              "</div>"
            ],
            "text/plain": [
              "      item_id publisher     genres  \\\n",
              "3      767400      彼岸领域     Action   \n",
              "3      767400      彼岸领域  Adventure   \n",
              "3      767400      彼岸领域     Casual   \n",
              "4      773570  Sin dato   Sin dato   \n",
              "10     768570   Qucheza     Action   \n",
              "...       ...       ...        ...   \n",
              "32118  775640  Sin dato   Sin dato   \n",
              "32119  777930  Sin dato   Sin dato   \n",
              "32120  775370  Sin dato   Sin dato   \n",
              "32121  777950  Sin dato   Sin dato   \n",
              "32134  681550  Sin dato   Sin dato   \n",
              "\n",
              "                                         app_name  price early_access  \\\n",
              "3                                         弹炸人2222   0.99        False   \n",
              "3                                         弹炸人2222   0.99        False   \n",
              "3                                         弹炸人2222   0.99        False   \n",
              "4                                   Log Challenge   2.99        False   \n",
              "10                                Uncanny Islands   0.00         True   \n",
              "...                                           ...    ...          ...   \n",
              "32118   Robotpencil Presents: Exercise: Brushwork   3.99        False   \n",
              "32119  Robotpencil Presents: Creative Composition   3.99        False   \n",
              "32120                            The Gamble House   4.99        False   \n",
              "32121    Kalen Chock Presents: 2017 Free Tutorial   0.00        False   \n",
              "32134                                 Maze Run VR   4.99         True   \n",
              "\n",
              "      developer  year  \n",
              "3                2017  \n",
              "3                2017  \n",
              "3                2017  \n",
              "4      sin dato  <NA>  \n",
              "10      qucheza  <NA>  \n",
              "...         ...   ...  \n",
              "32118  sin dato  2018  \n",
              "32119  sin dato  2018  \n",
              "32120  sin dato  2016  \n",
              "32121  sin dato  2018  \n",
              "32134  sin dato  <NA>  \n",
              "\n",
              "[4011 rows x 8 columns]"
            ]
          },
          "execution_count": 72,
          "metadata": {},
          "output_type": "execute_result"
        }
      ],
      "source": [
        "# Representaciones posibles de valores nulos como cadenas, tambien de valores vacios. \n",
        "# Esto ultimo porque estandarizamos developer después de cambiar a \"Sin dato\"\n",
        "representaciones_nulos = [\"<NA>\", \"None\", \"NA\", \"<na>\", \"none\", \"na\", \"N/A\", \"n.a.\", \"n.a\", \"N/A/\", \"missing\", \"null\", \"sin dato\", \"\"]\n",
        "\n",
        "# Crear una máscara que identifique las filas con alguna representación de valor nulo\n",
        "mask_nulos = df_juegos.apply(lambda col: col.astype(str).isin(representaciones_nulos)).any(axis=1)\n",
        "\n",
        "# Filtrar y mostrar las filas que contienen alguna representación de valor nulo\n",
        "filas_nulos_cadena = df_juegos[mask_nulos]\n",
        "filas_nulos_cadena"
      ]
    },
    {
      "cell_type": "markdown",
      "metadata": {},
      "source": [
        "eliminamos esos valores"
      ]
    },
    {
      "cell_type": "code",
      "execution_count": 73,
      "metadata": {},
      "outputs": [],
      "source": [
        "representaciones_nulos = [\"<NA>\", \"None\", \"NA\", \"<na>\", \"none\", \"na\", \"N/A\", \"n.a.\", \"n.a\", \"N/A/\", \"missing\", \"null\", \"sin dato\", \"\"]\n",
        "\n",
        "# Reemplazar todas las representaciones de valores nulos por \"Sin dato\"\n",
        "df_juegos.replace(representaciones_nulos, \"Sin dato\", inplace=True)\n"
      ]
    },
    {
      "cell_type": "markdown",
      "metadata": {},
      "source": [
        "comprobamos que se han eliminado"
      ]
    },
    {
      "cell_type": "code",
      "execution_count": 74,
      "metadata": {},
      "outputs": [
        {
          "data": {
            "text/html": [
              "<div>\n",
              "<style scoped>\n",
              "    .dataframe tbody tr th:only-of-type {\n",
              "        vertical-align: middle;\n",
              "    }\n",
              "\n",
              "    .dataframe tbody tr th {\n",
              "        vertical-align: top;\n",
              "    }\n",
              "\n",
              "    .dataframe thead th {\n",
              "        text-align: right;\n",
              "    }\n",
              "</style>\n",
              "<table border=\"1\" class=\"dataframe\">\n",
              "  <thead>\n",
              "    <tr style=\"text-align: right;\">\n",
              "      <th></th>\n",
              "      <th>item_id</th>\n",
              "      <th>publisher</th>\n",
              "      <th>genres</th>\n",
              "      <th>app_name</th>\n",
              "      <th>price</th>\n",
              "      <th>early_access</th>\n",
              "      <th>developer</th>\n",
              "      <th>year</th>\n",
              "    </tr>\n",
              "  </thead>\n",
              "  <tbody>\n",
              "  </tbody>\n",
              "</table>\n",
              "</div>"
            ],
            "text/plain": [
              "Empty DataFrame\n",
              "Columns: [item_id, publisher, genres, app_name, price, early_access, developer, year]\n",
              "Index: []"
            ]
          },
          "execution_count": 74,
          "metadata": {},
          "output_type": "execute_result"
        }
      ],
      "source": [
        "# Representaciones posibles de valores nulos como cadenas, tambien de valores vacios. \n",
        "# Esto ultimo porque estandarizamos developer después de cambiar a \"Sin dato\"\n",
        "representaciones_nulos = [\"<NA>\", \"None\", \"NA\", \"<na>\", \"none\", \"na\", \"N/A\", \"n.a.\", \"n.a\", \"N/A/\", \"missing\", \"null\", \"sin dato\", \"\"]\n",
        "\n",
        "# Crear una máscara que identifique las filas con alguna representación de valor nulo\n",
        "mask_nulos = df_juegos.apply(lambda col: col.astype(str).isin(representaciones_nulos)).any(axis=1)\n",
        "\n",
        "# Filtrar y mostrar las filas que contienen alguna representación de valor nulo\n",
        "filas_nulos_cadena = df_juegos[mask_nulos]\n",
        "filas_nulos_cadena"
      ]
    },
    {
      "cell_type": "markdown",
      "metadata": {},
      "source": [
        "comprobamos que a nivel de df no se detectan valores nulos"
      ]
    },
    {
      "cell_type": "code",
      "execution_count": 75,
      "metadata": {},
      "outputs": [
        {
          "name": "stdout",
          "output_type": "stream",
          "text": [
            "<class 'pandas.core.frame.DataFrame'>\n",
            "Index: 74835 entries, 0 to 32134\n",
            "Data columns (total 8 columns):\n",
            " #   Column        Non-Null Count  Dtype  \n",
            "---  ------        --------------  -----  \n",
            " 0   item_id       74835 non-null  object \n",
            " 1   publisher     74835 non-null  object \n",
            " 2   genres        74835 non-null  object \n",
            " 3   app_name      74835 non-null  object \n",
            " 4   price         74835 non-null  float64\n",
            " 5   early_access  74835 non-null  bool   \n",
            " 6   developer     74835 non-null  object \n",
            " 7   year          74835 non-null  object \n",
            "dtypes: bool(1), float64(1), object(6)\n",
            "memory usage: 4.6+ MB\n"
          ]
        }
      ],
      "source": [
        "df_juegos.info()"
      ]
    },
    {
      "cell_type": "markdown",
      "metadata": {},
      "source": [
        "FINALMENTE YA NO HAY NADA DE VALORES NULOS DE LOS QUE SE UBICAN COMO CADENAS, NI DE LOS QUE SE UBICAN POR LA FUNCION"
      ]
    },
    {
      "cell_type": "markdown",
      "metadata": {
        "id": "QNB60kGyAtvb"
      },
      "source": [
        "## **13. Exportar DF curado**"
      ]
    },
    {
      "cell_type": "markdown",
      "metadata": {
        "id": "Ga2FGhd29DK6"
      },
      "source": [
        "Ya revisado lo anterior el df está limpio. Se exporta ahora. Para ahorrar espacio lo guardamos en parquet\n"
      ]
    },
    {
      "cell_type": "code",
      "execution_count": 76,
      "metadata": {},
      "outputs": [
        {
          "name": "stderr",
          "output_type": "stream",
          "text": [
            "c:\\Users\\Legion 5 3060\\.conda\\envs\\SoyHenryProyectconda\\lib\\site-packages\\pyarrow\\pandas_compat.py:373: FutureWarning: is_sparse is deprecated and will be removed in a future version. Check `isinstance(dtype, pd.SparseDtype)` instead.\n",
            "  if _pandas_api.is_sparse(col):\n"
          ]
        }
      ],
      "source": [
        "df_juegos.to_parquet(\"bases/steam_games_curado.parquet\")"
      ]
    },
    {
      "cell_type": "markdown",
      "metadata": {},
      "source": [
        "## **14. Importar df curado**"
      ]
    },
    {
      "cell_type": "code",
      "execution_count": 77,
      "metadata": {},
      "outputs": [],
      "source": [
        "ruta_archivo_parquet = \"bases/steam_games_curado.parquet\"\n",
        "\n",
        "# Importar el archivo Parquet como un DataFrame\n",
        "df_parquet = pd.read_parquet(ruta_archivo_parquet)"
      ]
    },
    {
      "cell_type": "markdown",
      "metadata": {
        "id": "6glYlQ1MvnH1"
      },
      "source": [
        "probamos que funciona bien la importacion. No deben reaparecer valores nulos"
      ]
    },
    {
      "cell_type": "code",
      "execution_count": 78,
      "metadata": {},
      "outputs": [
        {
          "name": "stdout",
          "output_type": "stream",
          "text": [
            "<class 'pandas.core.frame.DataFrame'>\n",
            "Index: 74835 entries, 0 to 32134\n",
            "Data columns (total 8 columns):\n",
            " #   Column        Non-Null Count  Dtype  \n",
            "---  ------        --------------  -----  \n",
            " 0   item_id       74835 non-null  object \n",
            " 1   publisher     74835 non-null  object \n",
            " 2   genres        74835 non-null  object \n",
            " 3   app_name      74835 non-null  object \n",
            " 4   price         74835 non-null  float64\n",
            " 5   early_access  74835 non-null  bool   \n",
            " 6   developer     74835 non-null  object \n",
            " 7   year          74835 non-null  object \n",
            "dtypes: bool(1), float64(1), object(6)\n",
            "memory usage: 4.6+ MB\n",
            "None\n"
          ]
        }
      ],
      "source": [
        "print(df_parquet.info())"
      ]
    },
    {
      "cell_type": "markdown",
      "metadata": {},
      "source": [
        "Importa correctamente, no aparecen valores nulos tal y como fue guardada la base.  "
      ]
    }
  ],
  "metadata": {
    "colab": {
      "provenance": []
    },
    "kernelspec": {
      "display_name": "Python 3",
      "name": "python3"
    },
    "language_info": {
      "codemirror_mode": {
        "name": "ipython",
        "version": 3
      },
      "file_extension": ".py",
      "mimetype": "text/x-python",
      "name": "python",
      "nbconvert_exporter": "python",
      "pygments_lexer": "ipython3",
      "version": "3.9.18"
    }
  },
  "nbformat": 4,
  "nbformat_minor": 0
}
