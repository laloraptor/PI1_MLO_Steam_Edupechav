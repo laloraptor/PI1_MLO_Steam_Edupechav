{
 "cells": [
  {
   "cell_type": "markdown",
   "metadata": {},
   "source": [
    "# **EPC. FUNCION MODELO DE RECOMENDACION ITEM SIMI**"
   ]
  },
  {
   "cell_type": "code",
   "execution_count": 1,
   "metadata": {},
   "outputs": [],
   "source": [
    "import pandas as pd\n",
    "import pyarrow.parquet as pq"
   ]
  },
  {
   "cell_type": "code",
   "execution_count": 2,
   "metadata": {},
   "outputs": [],
   "source": [
    "ruta_archivo_item_simi = 'bases/item_simi_df.parquet'\n",
    "df_item_simi = pd.read_parquet(ruta_archivo_item_simi)"
   ]
  },
  {
   "cell_type": "code",
   "execution_count": 3,
   "metadata": {},
   "outputs": [],
   "source": [
    "# Importar la matriz de similitud desde el archivo Parquet\n",
    "ruta_archivo_item_simi = 'bases/item_simi_df.parquet'\n",
    "df_item_simi = pq.read_table(ruta_archivo_item_simi).to_pandas()\n",
    "\n"
   ]
  },
  {
   "cell_type": "markdown",
   "metadata": {},
   "source": [
    "## 1. FUNCION"
   ]
  },
  {
   "cell_type": "markdown",
   "metadata": {},
   "source": [
    "SIN GENERO"
   ]
  },
  {
   "cell_type": "code",
   "execution_count": 4,
   "metadata": {},
   "outputs": [],
   "source": [
    "def recomendacion_juego(nombre_juego):\n",
    "    \n",
    "    # Obtener la fila correspondiente al juego ingresado\n",
    "    juego_row = df_item_simi.loc[nombre_juego]\n",
    "\n",
    "    # Ordenar los índices de los juegos según la similitud (de mayor a menor)\n",
    "    juegos_similares_indices = juego_row.argsort()[::-1]\n",
    "\n",
    "    # Seleccionar los primeros 5 juegos más similares (excluyendo el propio juego)\n",
    "    top_5_juegos = juegos_similares_indices[1:6]\n",
    "\n",
    "    # Obtener nombres de los juegos recomendados\n",
    "    juegos_recomendados_dict = {f\"Juego {i+1}\": juego for i, juego in enumerate(df_item_simi.index[top_5_juegos])}\n",
    "\n",
    "    return juegos_recomendados_dict\n",
    "\n"
   ]
  },
  {
   "cell_type": "code",
   "execution_count": 5,
   "metadata": {},
   "outputs": [
    {
     "data": {
      "text/plain": [
       "{'Juego 1': 'Killing Floor 2',\n",
       " 'Juego 2': \"Brothers in Arms: Hell's Highway\",\n",
       " 'Juego 3': 'Call of Duty: World at War',\n",
       " 'Juego 4': 'Serious Sam Classic: The Second Encounter',\n",
       " 'Juego 5': 'Unreal Gold'}"
      ]
     },
     "execution_count": 5,
     "metadata": {},
     "output_type": "execute_result"
    }
   ],
   "source": [
    "# Ejemplo de uso:\n",
    "recomendaciones_juegos = recomendacion_juego(\"Killing Floor\")\n",
    "\n",
    "# Visualizar las recomendaciones\n",
    "\n",
    "recomendaciones_juegos"
   ]
  },
  {
   "cell_type": "markdown",
   "metadata": {},
   "source": []
  }
 ],
 "metadata": {
  "kernelspec": {
   "display_name": "SoyHenryProyectconda",
   "language": "python",
   "name": "python3"
  },
  "language_info": {
   "codemirror_mode": {
    "name": "ipython",
    "version": 3
   },
   "file_extension": ".py",
   "mimetype": "text/x-python",
   "name": "python",
   "nbconvert_exporter": "python",
   "pygments_lexer": "ipython3",
   "version": "3.9.18"
  }
 },
 "nbformat": 4,
 "nbformat_minor": 2
}
