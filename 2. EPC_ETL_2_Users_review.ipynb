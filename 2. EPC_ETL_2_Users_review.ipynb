{
  "cells": [
    {
      "cell_type": "markdown",
      "metadata": {
        "id": "LIt5FMhKgDh_"
      },
      "source": [
        "# **EDUARDO PEREZ CHAVARRIA. FT17**\n",
        "## Proyecto individual\n",
        "### ETL 2. Archivo a analizar:  Users_review"
      ]
    },
    {
      "cell_type": "code",
      "execution_count": 1,
      "metadata": {
        "id": "IkTXkPmbWlzG"
      },
      "outputs": [],
      "source": [
        "import pandas as pd\n",
        "import gzip\n",
        "import ast\n",
        "import re\n",
        "# Restaurar la configuración predeterminada de pandas para la visualización\n",
        "pd.reset_option('display.max_columns')\n",
        "pd.reset_option('display.max_rows')\n"
      ]
    },
    {
      "cell_type": "markdown",
      "metadata": {
        "id": "CkPq5vs_EKAY"
      },
      "source": [
        "## **1. Carga de archivo \"user_reviews\"**"
      ]
    },
    {
      "cell_type": "code",
      "execution_count": 2,
      "metadata": {
        "colab": {
          "base_uri": "https://localhost:8080/",
          "height": 423
        },
        "id": "jxR9xmvCB3Mz",
        "outputId": "6037eb74-7e32-404c-df13-a74378889188"
      },
      "outputs": [
        {
          "data": {
            "text/html": [
              "<div>\n",
              "<style scoped>\n",
              "    .dataframe tbody tr th:only-of-type {\n",
              "        vertical-align: middle;\n",
              "    }\n",
              "\n",
              "    .dataframe tbody tr th {\n",
              "        vertical-align: top;\n",
              "    }\n",
              "\n",
              "    .dataframe thead th {\n",
              "        text-align: right;\n",
              "    }\n",
              "</style>\n",
              "<table border=\"1\" class=\"dataframe\">\n",
              "  <thead>\n",
              "    <tr style=\"text-align: right;\">\n",
              "      <th></th>\n",
              "      <th>user_id</th>\n",
              "      <th>user_url</th>\n",
              "      <th>reviews</th>\n",
              "    </tr>\n",
              "  </thead>\n",
              "  <tbody>\n",
              "    <tr>\n",
              "      <th>0</th>\n",
              "      <td>76561197970982479</td>\n",
              "      <td>http://steamcommunity.com/profiles/76561197970...</td>\n",
              "      <td>[{'funny': '', 'posted': 'Posted November 5, 2...</td>\n",
              "    </tr>\n",
              "    <tr>\n",
              "      <th>1</th>\n",
              "      <td>js41637</td>\n",
              "      <td>http://steamcommunity.com/id/js41637</td>\n",
              "      <td>[{'funny': '', 'posted': 'Posted June 24, 2014...</td>\n",
              "    </tr>\n",
              "    <tr>\n",
              "      <th>2</th>\n",
              "      <td>evcentric</td>\n",
              "      <td>http://steamcommunity.com/id/evcentric</td>\n",
              "      <td>[{'funny': '', 'posted': 'Posted February 3.',...</td>\n",
              "    </tr>\n",
              "    <tr>\n",
              "      <th>3</th>\n",
              "      <td>doctr</td>\n",
              "      <td>http://steamcommunity.com/id/doctr</td>\n",
              "      <td>[{'funny': '', 'posted': 'Posted October 14, 2...</td>\n",
              "    </tr>\n",
              "    <tr>\n",
              "      <th>4</th>\n",
              "      <td>maplemage</td>\n",
              "      <td>http://steamcommunity.com/id/maplemage</td>\n",
              "      <td>[{'funny': '3 people found this review funny',...</td>\n",
              "    </tr>\n",
              "    <tr>\n",
              "      <th>...</th>\n",
              "      <td>...</td>\n",
              "      <td>...</td>\n",
              "      <td>...</td>\n",
              "    </tr>\n",
              "    <tr>\n",
              "      <th>25794</th>\n",
              "      <td>76561198306599751</td>\n",
              "      <td>http://steamcommunity.com/profiles/76561198306...</td>\n",
              "      <td>[{'funny': '', 'posted': 'Posted May 31.', 'la...</td>\n",
              "    </tr>\n",
              "    <tr>\n",
              "      <th>25795</th>\n",
              "      <td>Ghoustik</td>\n",
              "      <td>http://steamcommunity.com/id/Ghoustik</td>\n",
              "      <td>[{'funny': '', 'posted': 'Posted June 17.', 'l...</td>\n",
              "    </tr>\n",
              "    <tr>\n",
              "      <th>25796</th>\n",
              "      <td>76561198310819422</td>\n",
              "      <td>http://steamcommunity.com/profiles/76561198310...</td>\n",
              "      <td>[{'funny': '1 person found this review funny',...</td>\n",
              "    </tr>\n",
              "    <tr>\n",
              "      <th>25797</th>\n",
              "      <td>76561198312638244</td>\n",
              "      <td>http://steamcommunity.com/profiles/76561198312...</td>\n",
              "      <td>[{'funny': '', 'posted': 'Posted July 21.', 'l...</td>\n",
              "    </tr>\n",
              "    <tr>\n",
              "      <th>25798</th>\n",
              "      <td>LydiaMorley</td>\n",
              "      <td>http://steamcommunity.com/id/LydiaMorley</td>\n",
              "      <td>[{'funny': '1 person found this review funny',...</td>\n",
              "    </tr>\n",
              "  </tbody>\n",
              "</table>\n",
              "<p>25799 rows × 3 columns</p>\n",
              "</div>"
            ],
            "text/plain": [
              "                 user_id                                           user_url  \\\n",
              "0      76561197970982479  http://steamcommunity.com/profiles/76561197970...   \n",
              "1                js41637               http://steamcommunity.com/id/js41637   \n",
              "2              evcentric             http://steamcommunity.com/id/evcentric   \n",
              "3                  doctr                 http://steamcommunity.com/id/doctr   \n",
              "4              maplemage             http://steamcommunity.com/id/maplemage   \n",
              "...                  ...                                                ...   \n",
              "25794  76561198306599751  http://steamcommunity.com/profiles/76561198306...   \n",
              "25795           Ghoustik              http://steamcommunity.com/id/Ghoustik   \n",
              "25796  76561198310819422  http://steamcommunity.com/profiles/76561198310...   \n",
              "25797  76561198312638244  http://steamcommunity.com/profiles/76561198312...   \n",
              "25798        LydiaMorley           http://steamcommunity.com/id/LydiaMorley   \n",
              "\n",
              "                                                 reviews  \n",
              "0      [{'funny': '', 'posted': 'Posted November 5, 2...  \n",
              "1      [{'funny': '', 'posted': 'Posted June 24, 2014...  \n",
              "2      [{'funny': '', 'posted': 'Posted February 3.',...  \n",
              "3      [{'funny': '', 'posted': 'Posted October 14, 2...  \n",
              "4      [{'funny': '3 people found this review funny',...  \n",
              "...                                                  ...  \n",
              "25794  [{'funny': '', 'posted': 'Posted May 31.', 'la...  \n",
              "25795  [{'funny': '', 'posted': 'Posted June 17.', 'l...  \n",
              "25796  [{'funny': '1 person found this review funny',...  \n",
              "25797  [{'funny': '', 'posted': 'Posted July 21.', 'l...  \n",
              "25798  [{'funny': '1 person found this review funny',...  \n",
              "\n",
              "[25799 rows x 3 columns]"
            ]
          },
          "execution_count": 2,
          "metadata": {},
          "output_type": "execute_result"
        }
      ],
      "source": [
        "# Establecemos la ruta a la base de datos.\n",
        "file_path = \"bases/user_reviews.json.gz\"\n",
        "\n",
        "# Creamos una lista para almacenar las filas como diccionarios.\n",
        "filas_review = []\n",
        "\n",
        "# Tiene formato gz, entonces descomprimimos primero y cargamos datos en diccionario.\n",
        "with gzip.open(file_path, \"rt\", encoding=\"utf-8\") as file:\n",
        "    for line in file:\n",
        "        # Utilizamos ast.literal_eval en lugar de json.loads\n",
        "        data = ast.literal_eval(line)\n",
        "        filas_review.append(data)\n",
        "\n",
        "# Convertimos la lista de datos en un DataFrame.\n",
        "df_usrev = pd.DataFrame(filas_review)\n",
        "\n",
        "# Muestra el DataFrame.\n",
        "df_usrev\n",
        "\n"
      ]
    },
    {
      "cell_type": "markdown",
      "metadata": {
        "id": "9PB76Q_uEJRg"
      },
      "source": [
        "## **2.Exploración de valores nulos (df_usrev original)**"
      ]
    },
    {
      "cell_type": "markdown",
      "metadata": {
        "id": "eQ_FBC3RCaUs"
      },
      "source": [
        "Exploramos el porcentaje de nulos en las columnas"
      ]
    },
    {
      "cell_type": "code",
      "execution_count": 3,
      "metadata": {
        "colab": {
          "base_uri": "https://localhost:8080/"
        },
        "id": "t07-8i3zEXWv",
        "outputId": "d4aeb8ad-1938-4083-988e-fe055eb7ea31"
      },
      "outputs": [
        {
          "name": "stdout",
          "output_type": "stream",
          "text": [
            "user_id     0.0\n",
            "user_url    0.0\n",
            "reviews     0.0\n",
            "dtype: float64\n"
          ]
        }
      ],
      "source": [
        "porcentaje_nulos = df_usrev.isna().mean() * 100\n",
        "print(porcentaje_nulos)"
      ]
    },
    {
      "cell_type": "markdown",
      "metadata": {
        "id": "tpSKzlhlE5n_"
      },
      "source": [
        "## **3. Verificamos duplicados**"
      ]
    },
    {
      "cell_type": "code",
      "execution_count": 4,
      "metadata": {
        "colab": {
          "base_uri": "https://localhost:8080/",
          "height": 442
        },
        "id": "PwE-fzYGE80g",
        "outputId": "f601c464-bb6e-4cdd-cbde-868632f00142"
      },
      "outputs": [
        {
          "name": "stdout",
          "output_type": "stream",
          "text": [
            "filas duplicadas por id\n"
          ]
        },
        {
          "data": {
            "text/html": [
              "<div>\n",
              "<style scoped>\n",
              "    .dataframe tbody tr th:only-of-type {\n",
              "        vertical-align: middle;\n",
              "    }\n",
              "\n",
              "    .dataframe tbody tr th {\n",
              "        vertical-align: top;\n",
              "    }\n",
              "\n",
              "    .dataframe thead th {\n",
              "        text-align: right;\n",
              "    }\n",
              "</style>\n",
              "<table border=\"1\" class=\"dataframe\">\n",
              "  <thead>\n",
              "    <tr style=\"text-align: right;\">\n",
              "      <th></th>\n",
              "      <th>user_id</th>\n",
              "      <th>user_url</th>\n",
              "      <th>reviews</th>\n",
              "    </tr>\n",
              "  </thead>\n",
              "  <tbody>\n",
              "    <tr>\n",
              "      <th>9</th>\n",
              "      <td>76561198156664158</td>\n",
              "      <td>http://steamcommunity.com/profiles/76561198156...</td>\n",
              "      <td>[{'funny': '', 'posted': 'Posted June 16.', 'l...</td>\n",
              "    </tr>\n",
              "    <tr>\n",
              "      <th>50</th>\n",
              "      <td>Rivtex</td>\n",
              "      <td>http://steamcommunity.com/id/Rivtex</td>\n",
              "      <td>[{'funny': '', 'posted': 'Posted December 23, ...</td>\n",
              "    </tr>\n",
              "    <tr>\n",
              "      <th>83</th>\n",
              "      <td>76561198094224872</td>\n",
              "      <td>http://steamcommunity.com/profiles/76561198094...</td>\n",
              "      <td>[]</td>\n",
              "    </tr>\n",
              "    <tr>\n",
              "      <th>119</th>\n",
              "      <td>DieMadchenschanderin</td>\n",
              "      <td>http://steamcommunity.com/id/DieMadchenschanderin</td>\n",
              "      <td>[{'funny': '', 'posted': 'Posted August 29, 20...</td>\n",
              "    </tr>\n",
              "    <tr>\n",
              "      <th>147</th>\n",
              "      <td>relesprit</td>\n",
              "      <td>http://steamcommunity.com/id/relesprit</td>\n",
              "      <td>[{'funny': '', 'posted': 'Posted December 27, ...</td>\n",
              "    </tr>\n",
              "    <tr>\n",
              "      <th>...</th>\n",
              "      <td>...</td>\n",
              "      <td>...</td>\n",
              "      <td>...</td>\n",
              "    </tr>\n",
              "    <tr>\n",
              "      <th>17819</th>\n",
              "      <td>76561198076474887</td>\n",
              "      <td>http://steamcommunity.com/profiles/76561198076...</td>\n",
              "      <td>[{'funny': '', 'posted': 'Posted April 12.', '...</td>\n",
              "    </tr>\n",
              "    <tr>\n",
              "      <th>17916</th>\n",
              "      <td>yolofaceguy</td>\n",
              "      <td>http://steamcommunity.com/id/yolofaceguy</td>\n",
              "      <td>[{'funny': '', 'posted': 'Posted October 31, 2...</td>\n",
              "    </tr>\n",
              "    <tr>\n",
              "      <th>18028</th>\n",
              "      <td>76561198075591109</td>\n",
              "      <td>http://steamcommunity.com/profiles/76561198075...</td>\n",
              "      <td>[{'funny': '', 'posted': 'Posted December 26, ...</td>\n",
              "    </tr>\n",
              "    <tr>\n",
              "      <th>18234</th>\n",
              "      <td>76561198092022514</td>\n",
              "      <td>http://steamcommunity.com/profiles/76561198092...</td>\n",
              "      <td>[{'funny': '', 'posted': 'Posted July 3.', 'la...</td>\n",
              "    </tr>\n",
              "    <tr>\n",
              "      <th>18309</th>\n",
              "      <td>SuchGayMuchWow</td>\n",
              "      <td>http://steamcommunity.com/id/SuchGayMuchWow</td>\n",
              "      <td>[{'funny': '', 'posted': 'Posted July 18, 2015...</td>\n",
              "    </tr>\n",
              "  </tbody>\n",
              "</table>\n",
              "<p>623 rows × 3 columns</p>\n",
              "</div>"
            ],
            "text/plain": [
              "                    user_id  \\\n",
              "9         76561198156664158   \n",
              "50                   Rivtex   \n",
              "83        76561198094224872   \n",
              "119    DieMadchenschanderin   \n",
              "147               relesprit   \n",
              "...                     ...   \n",
              "17819     76561198076474887   \n",
              "17916           yolofaceguy   \n",
              "18028     76561198075591109   \n",
              "18234     76561198092022514   \n",
              "18309        SuchGayMuchWow   \n",
              "\n",
              "                                                user_url  \\\n",
              "9      http://steamcommunity.com/profiles/76561198156...   \n",
              "50                   http://steamcommunity.com/id/Rivtex   \n",
              "83     http://steamcommunity.com/profiles/76561198094...   \n",
              "119    http://steamcommunity.com/id/DieMadchenschanderin   \n",
              "147               http://steamcommunity.com/id/relesprit   \n",
              "...                                                  ...   \n",
              "17819  http://steamcommunity.com/profiles/76561198076...   \n",
              "17916           http://steamcommunity.com/id/yolofaceguy   \n",
              "18028  http://steamcommunity.com/profiles/76561198075...   \n",
              "18234  http://steamcommunity.com/profiles/76561198092...   \n",
              "18309        http://steamcommunity.com/id/SuchGayMuchWow   \n",
              "\n",
              "                                                 reviews  \n",
              "9      [{'funny': '', 'posted': 'Posted June 16.', 'l...  \n",
              "50     [{'funny': '', 'posted': 'Posted December 23, ...  \n",
              "83                                                    []  \n",
              "119    [{'funny': '', 'posted': 'Posted August 29, 20...  \n",
              "147    [{'funny': '', 'posted': 'Posted December 27, ...  \n",
              "...                                                  ...  \n",
              "17819  [{'funny': '', 'posted': 'Posted April 12.', '...  \n",
              "17916  [{'funny': '', 'posted': 'Posted October 31, 2...  \n",
              "18028  [{'funny': '', 'posted': 'Posted December 26, ...  \n",
              "18234  [{'funny': '', 'posted': 'Posted July 3.', 'la...  \n",
              "18309  [{'funny': '', 'posted': 'Posted July 18, 2015...  \n",
              "\n",
              "[623 rows x 3 columns]"
            ]
          },
          "execution_count": 4,
          "metadata": {},
          "output_type": "execute_result"
        }
      ],
      "source": [
        "duplicados_por_id = (lambda df, columna: df[df.duplicated(subset=columna, keep=False)])(df_usrev, \"user_id\")\n",
        "\n",
        "# Mostrar resultados\n",
        "print(\"filas duplicadas por id\")\n",
        "duplicados_por_id"
      ]
    },
    {
      "cell_type": "markdown",
      "metadata": {
        "id": "Q8nKa512JI4X"
      },
      "source": [
        "Se observa una cantidad importante de duplicados. Vamos a identificar si las reviews de esos users id duplicados son identicas."
      ]
    },
    {
      "cell_type": "code",
      "execution_count": 5,
      "metadata": {
        "colab": {
          "base_uri": "https://localhost:8080/"
        },
        "id": "fj8zT_yjGNzP",
        "outputId": "1662997e-2d9a-46b1-8c03-07ee4606edd2"
      },
      "outputs": [
        {
          "name": "stdout",
          "output_type": "stream",
          "text": [
            "Total de duplicados: 314\n",
            "Duplicados con revisiones idénticas: 313\n",
            "Duplicados con revisiones diferentes: 1\n",
            "Índices de filas con revisiones diferentes:\n",
            "[9027]\n"
          ]
        }
      ],
      "source": [
        "def obtener_info_reviews(df, columna_id, columna_reviews):\n",
        "    # Filtrar solo duplicados\n",
        "    duplicados = df[df.duplicated(subset=columna_id, keep=False)]\n",
        "\n",
        "    # Contadores\n",
        "    duplicados_totales = 0\n",
        "    identicos = 0\n",
        "    diferentes = 0\n",
        "\n",
        "    # Lista para almacenar los índices de revisiones diferentes\n",
        "    indices_reviews_diferentes = []\n",
        "\n",
        "    # Crear un diccionario para almacenar las revisiones por user_id\n",
        "    reviews_por_id = {}\n",
        "\n",
        "    # Iterar sobre las filas duplicadas\n",
        "    for index, row in duplicados.iterrows():\n",
        "        user_id = row[columna_id]\n",
        "        review = row[columna_reviews]\n",
        "\n",
        "        # Si el user_id ya está en el diccionario, comparar las revisiones\n",
        "        if user_id in reviews_por_id:\n",
        "            duplicados_totales += 1\n",
        "            if reviews_por_id[user_id] == review:\n",
        "                identicos += 1\n",
        "            else:\n",
        "                diferentes += 1\n",
        "                indices_reviews_diferentes.append(index)\n",
        "        else:\n",
        "            reviews_por_id[user_id] = review\n",
        "\n",
        "    # Imprimir resultados\n",
        "    print(f\"Total de duplicados: {duplicados_totales}\")\n",
        "    print(f\"Duplicados con revisiones idénticas: {identicos}\")\n",
        "    print(f\"Duplicados con revisiones diferentes: {diferentes}\")\n",
        "\n",
        "    return indices_reviews_diferentes\n",
        "\n",
        "indices_reviews_diferentes = obtener_info_reviews(df_usrev, \"user_id\", \"reviews\")\n",
        "\n",
        "\n",
        "print(\"Índices de filas con revisiones diferentes:\")\n",
        "print(indices_reviews_diferentes)\n"
      ]
    },
    {
      "cell_type": "markdown",
      "metadata": {
        "id": "KKKIoN8WKQgG"
      },
      "source": [
        "debido a que todos, salvo uno, son identicos, nos quedaremos solamente con el primer user_id que se encuentre."
      ]
    },
    {
      "cell_type": "code",
      "execution_count": 6,
      "metadata": {
        "id": "pQDo-AO0HRGo"
      },
      "outputs": [],
      "source": [
        "def eliminar_duplicados(df, columna_id):\n",
        "    # Eliminar duplicados manteniendo solo la primera aparición\n",
        "    df_sin_duplicados = df.drop_duplicates(subset=columna_id, keep='first')\n",
        "\n",
        "    return df_sin_duplicados\n",
        "\n",
        "\n",
        "df_usrev = eliminar_duplicados(df_usrev, \"user_id\")\n"
      ]
    },
    {
      "cell_type": "markdown",
      "metadata": {
        "id": "AWZGkWTZKqTv"
      },
      "source": [
        "Comprobamos que no hay ya duplicados"
      ]
    },
    {
      "cell_type": "code",
      "execution_count": 7,
      "metadata": {
        "colab": {
          "base_uri": "https://localhost:8080/"
        },
        "id": "vEsKIKIbHc4H",
        "outputId": "a36fecc1-c4e6-45ae-d65a-7280334bd55f"
      },
      "outputs": [
        {
          "name": "stdout",
          "output_type": "stream",
          "text": [
            "Total de duplicados: 0\n",
            "Duplicados con revisiones idénticas: 0\n",
            "Duplicados con revisiones diferentes: 0\n"
          ]
        }
      ],
      "source": [
        "indices_reviews_diferentes = obtener_info_reviews(df_usrev, \"user_id\", \"reviews\")"
      ]
    },
    {
      "cell_type": "markdown",
      "metadata": {
        "id": "2sYX6nAeEiDP"
      },
      "source": [
        "##**4. Exploramos el tipo de datos que tienen las columnas**"
      ]
    },
    {
      "cell_type": "code",
      "execution_count": 8,
      "metadata": {
        "colab": {
          "base_uri": "https://localhost:8080/"
        },
        "id": "QndwQxXrEWqg",
        "outputId": "e6bfd17d-54ba-4eae-f0df-8fd5726f9920"
      },
      "outputs": [
        {
          "name": "stdout",
          "output_type": "stream",
          "text": [
            "Columna: user_id\n",
            "Tipo de dato: <class 'str'>\n",
            "Primeros valores: ['76561197970982479', 'js41637', 'evcentric', 'doctr', 'maplemage']\n",
            "\n",
            "\n",
            "Columna: user_url\n",
            "Tipo de dato: <class 'str'>\n",
            "Primeros valores: ['http://steamcommunity.com/profiles/76561197970982479', 'http://steamcommunity.com/id/js41637', 'http://steamcommunity.com/id/evcentric', 'http://steamcommunity.com/id/doctr', 'http://steamcommunity.com/id/maplemage']\n",
            "\n",
            "\n",
            "Columna: reviews\n",
            "Tipo de dato: <class 'list'>\n",
            "Primeros valores: [[{'funny': '', 'posted': 'Posted November 5, 2011.', 'last_edited': '', 'item_id': '1250', 'helpful': 'No ratings yet', 'recommend': True, 'review': 'Simple yet with great replayability. In my opinion does \"zombie\" hordes and team work better than left 4 dead plus has a global leveling system. Alot of down to earth \"zombie\" splattering fun for the whole family. Amazed this sort of FPS is so rare.'}, {'funny': '', 'posted': 'Posted July 15, 2011.', 'last_edited': '', 'item_id': '22200', 'helpful': 'No ratings yet', 'recommend': True, 'review': \"It's unique and worth a playthrough.\"}, {'funny': '', 'posted': 'Posted April 21, 2011.', 'last_edited': '', 'item_id': '43110', 'helpful': 'No ratings yet', 'recommend': True, 'review': 'Great atmosphere. The gunplay can be a bit chunky at times but at the end of the day this game is definitely worth it and I hope they do a sequel...so buy the game so I get a sequel!'}], [{'funny': '', 'posted': 'Posted June 24, 2014.', 'last_edited': '', 'item_id': '251610', 'helpful': '15 of 20 people (75%) found this review helpful', 'recommend': True, 'review': 'I know what you think when you see this title \"Barbie Dreamhouse Party\" but do not be intimidated by it\\'s title, this is easily one of my GOTYs. You don\\'t get any of that cliche game mechanics that all the latest games have, this is simply good core gameplay. Yes, you can\\'t 360 noscope your friends, but what you can do is show them up with your bad ♥♥♥ dance moves and put them to shame as you show them what true fashion and color combinations are.I know this game says for kids but, this is easily for any age range and any age will have a blast playing this.8/8'}, {'funny': '', 'posted': 'Posted September 8, 2013.', 'last_edited': '', 'item_id': '227300', 'helpful': '0 of 1 people (0%) found this review helpful', 'recommend': True, 'review': \"For a simple (it's actually not all that simple but it can be!) truck driving Simulator, it is quite a fun and relaxing game. Playing on simple (or easy?) its just the basic WASD keys for driving but (if you want) the game can be much harder and realistic with having to manually change gears, much harder turning, etc. And reversing in this game is a ♥♥♥♥♥, as I imagine it would be with an actual truck. Luckily, you don't have to reverse park it but you get extra points if you do cause it is bloody hard. But this is suprisingly a nice truck driving game and I had a bit of fun with it.\"}, {'funny': '', 'posted': 'Posted November 29, 2013.', 'last_edited': '', 'item_id': '239030', 'helpful': '1 of 4 people (25%) found this review helpful', 'recommend': True, 'review': 'Very fun little game to play when your bored or as a time passer. Very gud. Do Recommend. pls buy'}], [{'funny': '', 'posted': 'Posted February 3.', 'last_edited': '', 'item_id': '248820', 'helpful': 'No ratings yet', 'recommend': True, 'review': \"A suitably punishing roguelike platformer.  Winning feels good.  Progressive unlocks mean a good slog ending in failure doesn't feel like a waste.\"}, {'funny': '', 'posted': 'Posted December 4, 2015.', 'last_edited': 'Last edited December 5, 2015.', 'item_id': '370360', 'helpful': 'No ratings yet', 'recommend': True, 'review': '\"Run for fun? What the hell kind of fun is that?\"'}, {'funny': '', 'posted': 'Posted November 3, 2014.', 'last_edited': '', 'item_id': '237930', 'helpful': 'No ratings yet', 'recommend': True, 'review': 'Elegant integration of gameplay, story, world development and aesthetic.'}, {'funny': '', 'posted': 'Posted October 15, 2014.', 'last_edited': '', 'item_id': '263360', 'helpful': 'No ratings yet', 'recommend': True, 'review': 'Random drops and random quests, with stat points.  Animation style reminiscent of the era before the Voodoo card.'}, {'funny': '', 'posted': 'Posted October 15, 2014.', 'last_edited': '', 'item_id': '107200', 'helpful': 'No ratings yet', 'recommend': True, 'review': 'Fun balance of tactics and strategy.  Potential for very rewarding battles on smaller maps.  Can become a bit of a grind on larger maps (>200 stars).'}, {'funny': '', 'posted': 'Posted October 15, 2014.', 'last_edited': '', 'item_id': '224500', 'helpful': 'No ratings yet', 'recommend': True, 'review': 'Fun world builder, with plenty of option of how you want challenge served to you.  Gnome pathing sometimes frustrating if you expand very very quickly.'}], [{'funny': '', 'posted': 'Posted October 14, 2013.', 'last_edited': '', 'item_id': '250320', 'helpful': '2 of 2 people (100%) found this review helpful', 'recommend': True, 'review': 'This game... is so fun. The fight sequences have been improved from walking dead. It also includes more of a Sam and Max puzzle solving (some of it in the first episode) and walking dead. The game also gets even more better if you have read the Fables comic books, which are without a doubt, very good. The music is also superb and fit the scenarios very well.'}, {'funny': '', 'posted': 'Posted July 28, 2012.', 'last_edited': '', 'item_id': '20920', 'helpful': '1 of 1 people (100%) found this review helpful', 'recommend': True, 'review': \"Really Really Really Great Game, very good story, im in chapter 1 atm and i think its great. You get a really early link with characters. No need to play the first game, its nicely wrapped up for you in a five minute video. FYI beware of the sex scenes :P, nudity does happen in the game and it shows you actually having sex, so try not to play with your parents around if your near a point in the story. Also you will need a good rig/comp to play on high. Don't even try running the game on Ultra unless you have mulitiple GPU's (Graphics card) and ram and a good processor. All in all good game :D\"}, {'funny': '', 'posted': 'Posted June 2, 2012.', 'last_edited': '', 'item_id': '204100', 'helpful': '1 of 1 people (100%) found this review helpful', 'recommend': True, 'review': 'Just buy it already. Great Story, Great Multiplayer and good fan service. Just awesome game. Just using shootdodge and bullet time makes you feel like a badass. Also, its better if you get the max payne story recapped or replay the first two but its not necessary.'}, {'funny': '', 'posted': 'Posted June 29, 2014.', 'last_edited': '', 'item_id': '224600', 'helpful': '1 of 2 people (50%) found this review helpful', 'recommend': True, 'review': 'It was a great game from what I played, right now I need to find the actual download.'}, {'funny': '', 'posted': 'Posted November 22, 2012.', 'last_edited': '', 'item_id': '207610', 'helpful': 'No ratings yet', 'recommend': True, 'review': \"The ending to this game is.... ♥♥♥♥♥♥♥.... Just buy it, you'll be invested, im automatically preordering season two of the walking dead game.\"}, {'funny': '', 'posted': 'Posted February 23, 2012.', 'last_edited': '', 'item_id': '108710', 'helpful': 'No ratings yet', 'recommend': True, 'review': 'Alan wake is a really good game, the light effects are pretty awesome and this game is so good, it paid back remedy their promotion and conversion fees in the first two days on steam. Its awesome :D. Remedy can still make video games, even if its not Max Payne. It is also very character driven.'}], [{'funny': '3 people found this review funny', 'posted': 'Posted April 15, 2014.', 'last_edited': '', 'item_id': '211420', 'helpful': '35 of 43 people (81%) found this review helpful', 'recommend': True, 'review': 'Git gud'}, {'funny': '1 person found this review funny', 'posted': 'Posted December 23, 2013.', 'last_edited': '', 'item_id': '211820', 'helpful': '12 of 16 people (75%) found this review helpful', 'recommend': True, 'review': \"It's like Terraria, you play for 9 hours straight, get endgame armour then stop playing until the next update.\"}, {'funny': '2 people found this review funny', 'posted': 'Posted March 14, 2014.', 'last_edited': '', 'item_id': '730', 'helpful': '5 of 5 people (100%) found this review helpful', 'recommend': True, 'review': 'Hold shift to win, Hold CTRL to lose.'}, {'funny': '', 'posted': 'Posted July 11, 2013.', 'last_edited': '', 'item_id': '204300', 'helpful': 'No ratings yet', 'recommend': True, 'review': \"OH YES, THIS GAME IS THE BEST, THEY ADD STUFF LIKE NEW CHARACTERS, AND LIKE A NEW MAP ONCE A YEAR, IT'S SO AWESOME, OH YES, IT'S SO AWESOMENAUTS, YES, YES, I'M GOOD AT THIS, YES, YES, GOOD, I'M GOOD, YES, GOOD, YOU ARE BAD, IM GOOD, YES, TOO GOOD, YES, IM NOT BAD, YES, GOOD.\"}]]\n",
            "\n",
            "\n"
          ]
        }
      ],
      "source": [
        "resumen_tipos_columnas = df_usrev.apply(lambda x: {\"tipo_dato\": type(x.iloc[0]), \"primeros_valores\": x.iloc[:5].tolist()})\n",
        "\n",
        "# Mostrar el resumen\n",
        "for columna, resumen in resumen_tipos_columnas.items():\n",
        "    print(f\"Columna: {columna}\")\n",
        "    print(f\"Tipo de dato: {resumen['tipo_dato']}\")\n",
        "    print(f\"Primeros valores: {resumen['primeros_valores']}\")\n",
        "    print(\"\\n\")\n"
      ]
    },
    {
      "cell_type": "markdown",
      "metadata": {
        "id": "Z36YkjqHC_9E"
      },
      "source": [
        "##**5. Desaniadamos la columna de las reviews y obtenemos el df para trabajar**"
      ]
    },
    {
      "cell_type": "markdown",
      "metadata": {
        "id": "9u_0F2KJCvhj"
      },
      "source": [
        "Observamos que las reviews se encuentran anidadas, así que las convertimos en filas, de tal modo que se duplique la información del user_id y de user_url para cada item_id al que se hizo review"
      ]
    },
    {
      "cell_type": "code",
      "execution_count": 9,
      "metadata": {
        "colab": {
          "base_uri": "https://localhost:8080/",
          "height": 1000
        },
        "id": "eh0YYvxM8igs",
        "outputId": "e5f77d7c-bc99-4742-c25b-1e9397b7d0ae"
      },
      "outputs": [
        {
          "data": {
            "text/html": [
              "<div>\n",
              "<style scoped>\n",
              "    .dataframe tbody tr th:only-of-type {\n",
              "        vertical-align: middle;\n",
              "    }\n",
              "\n",
              "    .dataframe tbody tr th {\n",
              "        vertical-align: top;\n",
              "    }\n",
              "\n",
              "    .dataframe thead th {\n",
              "        text-align: right;\n",
              "    }\n",
              "</style>\n",
              "<table border=\"1\" class=\"dataframe\">\n",
              "  <thead>\n",
              "    <tr style=\"text-align: right;\">\n",
              "      <th></th>\n",
              "      <th>user_id</th>\n",
              "      <th>user_url</th>\n",
              "      <th>funny</th>\n",
              "      <th>posted</th>\n",
              "      <th>last_edited</th>\n",
              "      <th>item_id</th>\n",
              "      <th>helpful</th>\n",
              "      <th>recommend</th>\n",
              "      <th>review</th>\n",
              "      <th>0</th>\n",
              "    </tr>\n",
              "  </thead>\n",
              "  <tbody>\n",
              "    <tr>\n",
              "      <th>0</th>\n",
              "      <td>76561197970982479</td>\n",
              "      <td>http://steamcommunity.com/profiles/76561197970...</td>\n",
              "      <td></td>\n",
              "      <td>Posted November 5, 2011.</td>\n",
              "      <td></td>\n",
              "      <td>1250</td>\n",
              "      <td>No ratings yet</td>\n",
              "      <td>True</td>\n",
              "      <td>Simple yet with great replayability. In my opi...</td>\n",
              "      <td>NaN</td>\n",
              "    </tr>\n",
              "    <tr>\n",
              "      <th>0</th>\n",
              "      <td>76561197970982479</td>\n",
              "      <td>http://steamcommunity.com/profiles/76561197970...</td>\n",
              "      <td></td>\n",
              "      <td>Posted July 15, 2011.</td>\n",
              "      <td></td>\n",
              "      <td>22200</td>\n",
              "      <td>No ratings yet</td>\n",
              "      <td>True</td>\n",
              "      <td>It's unique and worth a playthrough.</td>\n",
              "      <td>NaN</td>\n",
              "    </tr>\n",
              "    <tr>\n",
              "      <th>0</th>\n",
              "      <td>76561197970982479</td>\n",
              "      <td>http://steamcommunity.com/profiles/76561197970...</td>\n",
              "      <td></td>\n",
              "      <td>Posted April 21, 2011.</td>\n",
              "      <td></td>\n",
              "      <td>43110</td>\n",
              "      <td>No ratings yet</td>\n",
              "      <td>True</td>\n",
              "      <td>Great atmosphere. The gunplay can be a bit chu...</td>\n",
              "      <td>NaN</td>\n",
              "    </tr>\n",
              "    <tr>\n",
              "      <th>1</th>\n",
              "      <td>js41637</td>\n",
              "      <td>http://steamcommunity.com/id/js41637</td>\n",
              "      <td></td>\n",
              "      <td>Posted June 24, 2014.</td>\n",
              "      <td></td>\n",
              "      <td>251610</td>\n",
              "      <td>15 of 20 people (75%) found this review helpful</td>\n",
              "      <td>True</td>\n",
              "      <td>I know what you think when you see this title ...</td>\n",
              "      <td>NaN</td>\n",
              "    </tr>\n",
              "    <tr>\n",
              "      <th>1</th>\n",
              "      <td>js41637</td>\n",
              "      <td>http://steamcommunity.com/id/js41637</td>\n",
              "      <td></td>\n",
              "      <td>Posted September 8, 2013.</td>\n",
              "      <td></td>\n",
              "      <td>227300</td>\n",
              "      <td>0 of 1 people (0%) found this review helpful</td>\n",
              "      <td>True</td>\n",
              "      <td>For a simple (it's actually not all that simpl...</td>\n",
              "      <td>NaN</td>\n",
              "    </tr>\n",
              "    <tr>\n",
              "      <th>...</th>\n",
              "      <td>...</td>\n",
              "      <td>...</td>\n",
              "      <td>...</td>\n",
              "      <td>...</td>\n",
              "      <td>...</td>\n",
              "      <td>...</td>\n",
              "      <td>...</td>\n",
              "      <td>...</td>\n",
              "      <td>...</td>\n",
              "      <td>...</td>\n",
              "    </tr>\n",
              "    <tr>\n",
              "      <th>25797</th>\n",
              "      <td>76561198312638244</td>\n",
              "      <td>http://steamcommunity.com/profiles/76561198312...</td>\n",
              "      <td></td>\n",
              "      <td>Posted July 10.</td>\n",
              "      <td></td>\n",
              "      <td>70</td>\n",
              "      <td>No ratings yet</td>\n",
              "      <td>True</td>\n",
              "      <td>a must have classic from steam definitely wort...</td>\n",
              "      <td>NaN</td>\n",
              "    </tr>\n",
              "    <tr>\n",
              "      <th>25797</th>\n",
              "      <td>76561198312638244</td>\n",
              "      <td>http://steamcommunity.com/profiles/76561198312...</td>\n",
              "      <td></td>\n",
              "      <td>Posted July 8.</td>\n",
              "      <td></td>\n",
              "      <td>362890</td>\n",
              "      <td>No ratings yet</td>\n",
              "      <td>True</td>\n",
              "      <td>this game is a perfect remake of the original ...</td>\n",
              "      <td>NaN</td>\n",
              "    </tr>\n",
              "    <tr>\n",
              "      <th>25798</th>\n",
              "      <td>LydiaMorley</td>\n",
              "      <td>http://steamcommunity.com/id/LydiaMorley</td>\n",
              "      <td>1 person found this review funny</td>\n",
              "      <td>Posted July 3.</td>\n",
              "      <td></td>\n",
              "      <td>273110</td>\n",
              "      <td>1 of 2 people (50%) found this review helpful</td>\n",
              "      <td>True</td>\n",
              "      <td>had so much fun plaing this and collecting res...</td>\n",
              "      <td>NaN</td>\n",
              "    </tr>\n",
              "    <tr>\n",
              "      <th>25798</th>\n",
              "      <td>LydiaMorley</td>\n",
              "      <td>http://steamcommunity.com/id/LydiaMorley</td>\n",
              "      <td></td>\n",
              "      <td>Posted July 20.</td>\n",
              "      <td></td>\n",
              "      <td>730</td>\n",
              "      <td>No ratings yet</td>\n",
              "      <td>True</td>\n",
              "      <td>:D</td>\n",
              "      <td>NaN</td>\n",
              "    </tr>\n",
              "    <tr>\n",
              "      <th>25798</th>\n",
              "      <td>LydiaMorley</td>\n",
              "      <td>http://steamcommunity.com/id/LydiaMorley</td>\n",
              "      <td></td>\n",
              "      <td>Posted July 2.</td>\n",
              "      <td></td>\n",
              "      <td>440</td>\n",
              "      <td>No ratings yet</td>\n",
              "      <td>True</td>\n",
              "      <td>so much fun :D</td>\n",
              "      <td>NaN</td>\n",
              "    </tr>\n",
              "  </tbody>\n",
              "</table>\n",
              "<p>58458 rows × 10 columns</p>\n",
              "</div>"
            ],
            "text/plain": [
              "                 user_id                                           user_url  \\\n",
              "0      76561197970982479  http://steamcommunity.com/profiles/76561197970...   \n",
              "0      76561197970982479  http://steamcommunity.com/profiles/76561197970...   \n",
              "0      76561197970982479  http://steamcommunity.com/profiles/76561197970...   \n",
              "1                js41637               http://steamcommunity.com/id/js41637   \n",
              "1                js41637               http://steamcommunity.com/id/js41637   \n",
              "...                  ...                                                ...   \n",
              "25797  76561198312638244  http://steamcommunity.com/profiles/76561198312...   \n",
              "25797  76561198312638244  http://steamcommunity.com/profiles/76561198312...   \n",
              "25798        LydiaMorley           http://steamcommunity.com/id/LydiaMorley   \n",
              "25798        LydiaMorley           http://steamcommunity.com/id/LydiaMorley   \n",
              "25798        LydiaMorley           http://steamcommunity.com/id/LydiaMorley   \n",
              "\n",
              "                                  funny                     posted  \\\n",
              "0                                         Posted November 5, 2011.   \n",
              "0                                            Posted July 15, 2011.   \n",
              "0                                           Posted April 21, 2011.   \n",
              "1                                            Posted June 24, 2014.   \n",
              "1                                        Posted September 8, 2013.   \n",
              "...                                 ...                        ...   \n",
              "25797                                              Posted July 10.   \n",
              "25797                                               Posted July 8.   \n",
              "25798  1 person found this review funny             Posted July 3.   \n",
              "25798                                              Posted July 20.   \n",
              "25798                                               Posted July 2.   \n",
              "\n",
              "      last_edited item_id                                          helpful  \\\n",
              "0                    1250                                   No ratings yet   \n",
              "0                   22200                                   No ratings yet   \n",
              "0                   43110                                   No ratings yet   \n",
              "1                  251610  15 of 20 people (75%) found this review helpful   \n",
              "1                  227300     0 of 1 people (0%) found this review helpful   \n",
              "...           ...     ...                                              ...   \n",
              "25797                  70                                   No ratings yet   \n",
              "25797              362890                                   No ratings yet   \n",
              "25798              273110    1 of 2 people (50%) found this review helpful   \n",
              "25798                 730                                   No ratings yet   \n",
              "25798                 440                                   No ratings yet   \n",
              "\n",
              "      recommend                                             review   0  \n",
              "0          True  Simple yet with great replayability. In my opi... NaN  \n",
              "0          True               It's unique and worth a playthrough. NaN  \n",
              "0          True  Great atmosphere. The gunplay can be a bit chu... NaN  \n",
              "1          True  I know what you think when you see this title ... NaN  \n",
              "1          True  For a simple (it's actually not all that simpl... NaN  \n",
              "...         ...                                                ...  ..  \n",
              "25797      True  a must have classic from steam definitely wort... NaN  \n",
              "25797      True  this game is a perfect remake of the original ... NaN  \n",
              "25798      True  had so much fun plaing this and collecting res... NaN  \n",
              "25798      True                                                 :D NaN  \n",
              "25798      True                                     so much fun :D NaN  \n",
              "\n",
              "[58458 rows x 10 columns]"
            ]
          },
          "execution_count": 9,
          "metadata": {},
          "output_type": "execute_result"
        }
      ],
      "source": [
        "dfreviewsOpen = df_usrev.explode('reviews')\n",
        "df_expandido_long = pd.concat([dfreviewsOpen.drop(['reviews'], axis=1), dfreviewsOpen['reviews'].apply(pd.Series)], axis=1)\n",
        "df_expandido_long"
      ]
    },
    {
      "cell_type": "markdown",
      "metadata": {
        "id": "vbIyTw9bWNJv"
      },
      "source": [
        "Eliminar los df secundarios y dejar unicamente df_usrev con los cambios hechos"
      ]
    },
    {
      "cell_type": "code",
      "execution_count": 10,
      "metadata": {
        "colab": {
          "base_uri": "https://localhost:8080/"
        },
        "id": "Z-d-AhXqXYau",
        "outputId": "1a426312-fb4b-4fc2-dbe2-9500a00dfedc"
      },
      "outputs": [
        {
          "name": "stdout",
          "output_type": "stream",
          "text": [
            "                 user_id                                           user_url  \\\n",
            "0      76561197970982479  http://steamcommunity.com/profiles/76561197970...   \n",
            "0      76561197970982479  http://steamcommunity.com/profiles/76561197970...   \n",
            "0      76561197970982479  http://steamcommunity.com/profiles/76561197970...   \n",
            "1                js41637               http://steamcommunity.com/id/js41637   \n",
            "1                js41637               http://steamcommunity.com/id/js41637   \n",
            "...                  ...                                                ...   \n",
            "25797  76561198312638244  http://steamcommunity.com/profiles/76561198312...   \n",
            "25797  76561198312638244  http://steamcommunity.com/profiles/76561198312...   \n",
            "25798        LydiaMorley           http://steamcommunity.com/id/LydiaMorley   \n",
            "25798        LydiaMorley           http://steamcommunity.com/id/LydiaMorley   \n",
            "25798        LydiaMorley           http://steamcommunity.com/id/LydiaMorley   \n",
            "\n",
            "                                  funny                     posted  \\\n",
            "0                                         Posted November 5, 2011.   \n",
            "0                                            Posted July 15, 2011.   \n",
            "0                                           Posted April 21, 2011.   \n",
            "1                                            Posted June 24, 2014.   \n",
            "1                                        Posted September 8, 2013.   \n",
            "...                                 ...                        ...   \n",
            "25797                                              Posted July 10.   \n",
            "25797                                               Posted July 8.   \n",
            "25798  1 person found this review funny             Posted July 3.   \n",
            "25798                                              Posted July 20.   \n",
            "25798                                               Posted July 2.   \n",
            "\n",
            "      last_edited item_id                                          helpful  \\\n",
            "0                    1250                                   No ratings yet   \n",
            "0                   22200                                   No ratings yet   \n",
            "0                   43110                                   No ratings yet   \n",
            "1                  251610  15 of 20 people (75%) found this review helpful   \n",
            "1                  227300     0 of 1 people (0%) found this review helpful   \n",
            "...           ...     ...                                              ...   \n",
            "25797                  70                                   No ratings yet   \n",
            "25797              362890                                   No ratings yet   \n",
            "25798              273110    1 of 2 people (50%) found this review helpful   \n",
            "25798                 730                                   No ratings yet   \n",
            "25798                 440                                   No ratings yet   \n",
            "\n",
            "      recommend                                             review  \n",
            "0          True  Simple yet with great replayability. In my opi...  \n",
            "0          True               It's unique and worth a playthrough.  \n",
            "0          True  Great atmosphere. The gunplay can be a bit chu...  \n",
            "1          True  I know what you think when you see this title ...  \n",
            "1          True  For a simple (it's actually not all that simpl...  \n",
            "...         ...                                                ...  \n",
            "25797      True  a must have classic from steam definitely wort...  \n",
            "25797      True  this game is a perfect remake of the original ...  \n",
            "25798      True  had so much fun plaing this and collecting res...  \n",
            "25798      True                                                 :D  \n",
            "25798      True                                     so much fun :D  \n",
            "\n",
            "[58458 rows x 9 columns]\n"
          ]
        }
      ],
      "source": [
        "# Elimina el DataFrame existente si ya existe\n",
        "if \"df_usrev\" in globals():\n",
        "    del df_usrev\n",
        "\n",
        "# Lista de columnas a conservar\n",
        "columnas_a_utilizar = [\"user_id\",\t\"user_url\",\t\"funny\",\t\"posted\",\t\"last_edited\",\t\"item_id\",\t\"helpful\",\t\"recommend\",\t\"review\"]\n",
        "\n",
        "# Crea el nuevo DataFrame df_usrev\n",
        "df_usrev = df_expandido_long[columnas_a_utilizar].copy()\n",
        "\n",
        "# Muestra el nuevo DataFrame df_usrev\n",
        "print(df_usrev)\n",
        "\n",
        "# Elimina el DataFrame existente si ya existe\n",
        "if \"dfreviewsOpen\" in globals():\n",
        "    del dfreviewsOpen\n",
        "# Elimina el DataFrame existente si ya existe\n",
        "if \"df_expandido_long\" in globals():\n",
        "    del df_expandido_long\n"
      ]
    },
    {
      "cell_type": "markdown",
      "metadata": {
        "id": "2ykoFabADVwz"
      },
      "source": [
        "##**6. Obtener información general sobre las columnas y los tipos de datos del df desanidado\"**"
      ]
    },
    {
      "cell_type": "markdown",
      "metadata": {
        "id": "HbRsyq9I50J0"
      },
      "source": [
        "Vamos a obtener informacion general sobre el nuevo df, y sus valores unicos"
      ]
    },
    {
      "cell_type": "code",
      "execution_count": 11,
      "metadata": {
        "colab": {
          "base_uri": "https://localhost:8080/"
        },
        "id": "xlKGAX033fKd",
        "outputId": "5f90d119-11d2-41ec-89e1-0d2d5d8ea018"
      },
      "outputs": [
        {
          "name": "stdout",
          "output_type": "stream",
          "text": [
            "\n",
            "Resumen para la columna: user_id\n",
            "Tipo de dato: object\n",
            "Primeros valores: ['76561197970982479', '76561197970982479', '76561197970982479', 'js41637', 'js41637']\n",
            "\n",
            "Valores únicos y su frecuencia:\n",
            "user_id\n",
            "DeadNiggaStorage     10\n",
            "flatwhite            10\n",
            "76561198038741062    10\n",
            "jefftequilla         10\n",
            "76561198091682568    10\n",
            "                     ..\n",
            "76561198081938549     1\n",
            "76561198085470909     1\n",
            "76561198085144241     1\n",
            "mastrix8              1\n",
            "76561198071781219     1\n",
            "Name: count, Length: 25485, dtype: int64\n",
            "\n",
            "Resumen para la columna: user_url\n",
            "Tipo de dato: object\n",
            "Primeros valores: ['http://steamcommunity.com/profiles/76561197970982479', 'http://steamcommunity.com/profiles/76561197970982479', 'http://steamcommunity.com/profiles/76561197970982479', 'http://steamcommunity.com/id/js41637', 'http://steamcommunity.com/id/js41637']\n",
            "\n",
            "Valores únicos y su frecuencia:\n",
            "user_url\n",
            "http://steamcommunity.com/id/DeadNiggaStorage           10\n",
            "http://steamcommunity.com/id/flatwhite                  10\n",
            "http://steamcommunity.com/profiles/76561198038741062    10\n",
            "http://steamcommunity.com/id/jefftequilla               10\n",
            "http://steamcommunity.com/profiles/76561198091682568    10\n",
            "                                                        ..\n",
            "http://steamcommunity.com/profiles/76561198081938549     1\n",
            "http://steamcommunity.com/profiles/76561198085470909     1\n",
            "http://steamcommunity.com/profiles/76561198085144241     1\n",
            "http://steamcommunity.com/id/mastrix8                    1\n",
            "http://steamcommunity.com/profiles/76561198071781219     1\n",
            "Name: count, Length: 25485, dtype: int64\n",
            "\n",
            "Resumen para la columna: funny\n",
            "Tipo de dato: object\n",
            "Primeros valores: ['', '', '', '', '']\n",
            "\n",
            "Valores únicos y su frecuencia:\n",
            "funny\n",
            "                                        50420\n",
            "1 person found this review funny         5083\n",
            "2 people found this review funny         1213\n",
            "3 people found this review funny          488\n",
            "4 people found this review funny          263\n",
            "                                        ...  \n",
            "58 people found this review funny           1\n",
            "405 people found this review funny          1\n",
            "105 people found this review funny          1\n",
            "1,130 people found this review funny        1\n",
            "825 people found this review funny          1\n",
            "Name: count, Length: 186, dtype: int64\n",
            "\n",
            "Resumen para la columna: posted\n",
            "Tipo de dato: object\n",
            "Primeros valores: ['Posted November 5, 2011.', 'Posted July 15, 2011.', 'Posted April 21, 2011.', 'Posted June 24, 2014.', 'Posted September 8, 2013.']\n",
            "\n",
            "Valores únicos y su frecuencia:\n",
            "posted\n",
            "Posted June 21, 2014.        220\n",
            "Posted June 20, 2014.        192\n",
            "Posted June 23, 2014.        171\n",
            "Posted June 27, 2014.        171\n",
            "Posted December 26, 2013.    169\n",
            "                            ... \n",
            "Posted March 25, 2011.         1\n",
            "Posted November 16, 2011.      1\n",
            "Posted May 28, 2011.           1\n",
            "Posted February 1, 2012.       1\n",
            "Posted November 3, 2012.       1\n",
            "Name: count, Length: 1906, dtype: int64\n",
            "\n",
            "Resumen para la columna: last_edited\n",
            "Tipo de dato: object\n",
            "Primeros valores: ['', '', '', '', '']\n",
            "\n",
            "Valores únicos y su frecuencia:\n",
            "last_edited\n",
            "                                  52393\n",
            "Last edited November 25, 2013.       99\n",
            "Last edited October 17, 2015.        18\n",
            "Last edited July 25, 2015.           17\n",
            "Last edited April 12.                16\n",
            "                                  ...  \n",
            "Last edited August 24, 2015.          1\n",
            "Last edited April 9, 2014.            1\n",
            "Last edited May 18, 2015.             1\n",
            "Last edited January 14, 2014.         1\n",
            "Last edited August 15, 2014.          1\n",
            "Name: count, Length: 1015, dtype: int64\n",
            "\n",
            "Resumen para la columna: item_id\n",
            "Tipo de dato: object\n",
            "Primeros valores: ['1250', '22200', '43110', '251610', '227300']\n",
            "\n",
            "Valores únicos y su frecuencia:\n",
            "item_id\n",
            "730       3708\n",
            "440       3694\n",
            "4000      1704\n",
            "570       1544\n",
            "218620    1113\n",
            "          ... \n",
            "33100        1\n",
            "312720       1\n",
            "449980       1\n",
            "32770        1\n",
            "431510       1\n",
            "Name: count, Length: 3682, dtype: int64\n",
            "\n",
            "Resumen para la columna: helpful\n",
            "Tipo de dato: object\n",
            "Primeros valores: ['No ratings yet', 'No ratings yet', 'No ratings yet', '15 of 20 people (75%) found this review helpful', '0 of 1 people (0%) found this review helpful']\n",
            "\n",
            "Valores únicos y su frecuencia:\n",
            "helpful\n",
            "No ratings yet                                       29731\n",
            "1 of 1 people (100%) found this review helpful        6645\n",
            "0 of 1 people (0%) found this review helpful          3953\n",
            "1 of 2 people (50%) found this review helpful         2459\n",
            "2 of 2 people (100%) found this review helpful        1853\n",
            "                                                     ...  \n",
            "64 of 80 people (80%) found this review helpful          1\n",
            "158 of 165 people (96%) found this review helpful        1\n",
            "73 of 96 people (76%) found this review helpful          1\n",
            "12 of 31 people (39%) found this review helpful          1\n",
            "24 of 34 people (71%) found this review helpful          1\n",
            "Name: count, Length: 1344, dtype: int64\n",
            "\n",
            "Resumen para la columna: recommend\n",
            "Tipo de dato: object\n",
            "Primeros valores: [True, True, True, True, True]\n",
            "\n",
            "Valores únicos y su frecuencia:\n",
            "recommend\n",
            "True     51691\n",
            "False     6739\n",
            "Name: count, dtype: int64\n",
            "\n",
            "Resumen para la columna: review\n",
            "Tipo de dato: object\n",
            "Primeros valores: ['Simple yet with great replayability. In my opinion does \"zombie\" hordes and team work better than left 4 dead plus has a global leveling system. Alot of down to earth \"zombie\" splattering fun for the whole family. Amazed this sort of FPS is so rare.', \"It's unique and worth a playthrough.\", 'Great atmosphere. The gunplay can be a bit chunky at times but at the end of the day this game is definitely worth it and I hope they do a sequel...so buy the game so I get a sequel!', 'I know what you think when you see this title \"Barbie Dreamhouse Party\" but do not be intimidated by it\\'s title, this is easily one of my GOTYs. You don\\'t get any of that cliche game mechanics that all the latest games have, this is simply good core gameplay. Yes, you can\\'t 360 noscope your friends, but what you can do is show them up with your bad ♥♥♥ dance moves and put them to shame as you show them what true fashion and color combinations are.I know this game says for kids but, this is easily for any age range and any age will have a blast playing this.8/8', \"For a simple (it's actually not all that simple but it can be!) truck driving Simulator, it is quite a fun and relaxing game. Playing on simple (or easy?) its just the basic WASD keys for driving but (if you want) the game can be much harder and realistic with having to manually change gears, much harder turning, etc. And reversing in this game is a ♥♥♥♥♥, as I imagine it would be with an actual truck. Luckily, you don't have to reverse park it but you get extra points if you do cause it is bloody hard. But this is suprisingly a nice truck driving game and I had a bit of fun with it.\"]\n",
            "\n",
            "Valores únicos y su frecuencia:\n",
            "review\n",
            "good game                                                                                                                                                                             98\n",
            "good                                                                                                                                                                                  97\n",
            "great game                                                                                                                                                                            81\n",
            "10/10                                                                                                                                                                                 74\n",
            "yes                                                                                                                                                                                   48\n",
            "                                                                                                                                                                                      ..\n",
            "I'm so startled.9/10 needs more ghosts                                                                                                                                                 1\n",
            "Herba flerpa, derp derp heby glerb shrubbery, flerp derp huffa gurb!                                                                                                                   1\n",
            "Beat some guy with a shovel, handcuffed him, bandaged him so he wouldnt bleed out and gave him the book \"The Raven\" to read as he roamed the countryside.  10/10 would beat again.     1\n",
            "You like roguelikes? You like challenges? You like being killed by a giant ♥♥♥♥ing worm made of fire? Buy this game.                                                                   1\n",
            "so much fun :D                                                                                                                                                                         1\n",
            "Name: count, Length: 55312, dtype: int64\n"
          ]
        }
      ],
      "source": [
        "for columna in df_usrev.columns:\n",
        "    unique_values_count = df_usrev[columna].value_counts()\n",
        "\n",
        "    # Imprimir el resumen para cada columna\n",
        "    print(f\"\\nResumen para la columna: {columna}\")\n",
        "    print(f\"Tipo de dato: {df_usrev[columna].dtype}\")\n",
        "    print(f\"Primeros valores: {df_usrev[columna].head().tolist()}\")\n",
        "    print(\"\\nValores únicos y su frecuencia:\")\n",
        "    print(unique_values_count)\n"
      ]
    },
    {
      "cell_type": "markdown",
      "metadata": {
        "id": "lPeIYiItAfXV"
      },
      "source": [
        "## **7. Exploración de valores nulos df desanidado\"**"
      ]
    },
    {
      "cell_type": "markdown",
      "metadata": {
        "id": "ZfIWeHIt_wq8"
      },
      "source": [
        "Se observa que la mayor cantidad de datos en funny y last_edited son vacios. Por lo cual sería buena idea eliminar esas columnas. También los primeros valores son ' ', vamos a cambiar esos valores por NA y luego contarlos para tomar una decisión"
      ]
    },
    {
      "cell_type": "code",
      "execution_count": 12,
      "metadata": {
        "id": "IWFsB7HvAXHr"
      },
      "outputs": [],
      "source": [
        "#Remplazamos los vacios con Nas\n",
        "df_usrev.replace('', None, inplace=True)"
      ]
    },
    {
      "cell_type": "code",
      "execution_count": 13,
      "metadata": {
        "colab": {
          "base_uri": "https://localhost:8080/"
        },
        "id": "keQidfw4WR4m",
        "outputId": "3f83c354-8804-4615-b0ac-c4cebca71992"
      },
      "outputs": [
        {
          "name": "stdout",
          "output_type": "stream",
          "text": [
            "       Columna  Porcentaje NaN\n",
            "0      user_id        0.000000\n",
            "1     user_url        0.000000\n",
            "2        funny       86.297855\n",
            "3       posted        0.047898\n",
            "4  last_edited       89.672928\n",
            "5      item_id        0.047898\n",
            "6      helpful        0.047898\n",
            "7    recommend        0.047898\n",
            "8       review        0.099217\n"
          ]
        }
      ],
      "source": [
        "# Cuenta la cantidad de NaN en cada columna\n",
        "nan_counts = df_usrev.isna().sum()\n",
        "\n",
        "# Calcula el porcentaje de NaN en cada columna\n",
        "nan_percentages = (nan_counts / len(df_usrev)) * 100\n",
        "\n",
        "# Crea un DataFrame con los resultados\n",
        "nan_table = pd.DataFrame({\"Columna\": nan_counts.index, \"Porcentaje NaN\": nan_percentages.values})\n",
        "\n",
        "\n",
        "# Muestra la tabla\n",
        "print(nan_table)\n",
        "\n"
      ]
    },
    {
      "cell_type": "markdown",
      "metadata": {
        "id": "aiKH7ErHAubk"
      },
      "source": [
        "primero eliminamos funny y last_edited, como recien se mencionó."
      ]
    },
    {
      "cell_type": "code",
      "execution_count": 14,
      "metadata": {
        "id": "0c97EAftA8Ol"
      },
      "outputs": [],
      "source": [
        "df_usrev = df_usrev.drop(['funny', 'last_edited'], axis=1)"
      ]
    },
    {
      "cell_type": "markdown",
      "metadata": {
        "id": "Ps3IRnGfed8T"
      },
      "source": [
        "Ahora, como la cantindad de faltantes es identica en las \"posted\", \"item_id\", \"helpful\", \"recommend\", \"review\" (aqui no es identica pero hay a la par de los demas) se infiere que cuando hay Na en una de ellas hay NANs en las demás, entonces vamos a borrar aquellos registros donde estas columnas tienen todas NAs"
      ]
    },
    {
      "cell_type": "code",
      "execution_count": 15,
      "metadata": {
        "colab": {
          "base_uri": "https://localhost:8080/"
        },
        "id": "pBsDac7DfXUj",
        "outputId": "c754c1fd-6cde-4922-fab9-8d42b62a06ce"
      },
      "outputs": [
        {
          "name": "stdout",
          "output_type": "stream",
          "text": [
            "                 user_id                                           user_url  \\\n",
            "0      76561197970982479  http://steamcommunity.com/profiles/76561197970...   \n",
            "0      76561197970982479  http://steamcommunity.com/profiles/76561197970...   \n",
            "0      76561197970982479  http://steamcommunity.com/profiles/76561197970...   \n",
            "1                js41637               http://steamcommunity.com/id/js41637   \n",
            "1                js41637               http://steamcommunity.com/id/js41637   \n",
            "...                  ...                                                ...   \n",
            "25797  76561198312638244  http://steamcommunity.com/profiles/76561198312...   \n",
            "25797  76561198312638244  http://steamcommunity.com/profiles/76561198312...   \n",
            "25798        LydiaMorley           http://steamcommunity.com/id/LydiaMorley   \n",
            "25798        LydiaMorley           http://steamcommunity.com/id/LydiaMorley   \n",
            "25798        LydiaMorley           http://steamcommunity.com/id/LydiaMorley   \n",
            "\n",
            "                          posted item_id  \\\n",
            "0       Posted November 5, 2011.    1250   \n",
            "0          Posted July 15, 2011.   22200   \n",
            "0         Posted April 21, 2011.   43110   \n",
            "1          Posted June 24, 2014.  251610   \n",
            "1      Posted September 8, 2013.  227300   \n",
            "...                          ...     ...   \n",
            "25797            Posted July 10.      70   \n",
            "25797             Posted July 8.  362890   \n",
            "25798             Posted July 3.  273110   \n",
            "25798            Posted July 20.     730   \n",
            "25798             Posted July 2.     440   \n",
            "\n",
            "                                               helpful recommend  \\\n",
            "0                                       No ratings yet      True   \n",
            "0                                       No ratings yet      True   \n",
            "0                                       No ratings yet      True   \n",
            "1      15 of 20 people (75%) found this review helpful      True   \n",
            "1         0 of 1 people (0%) found this review helpful      True   \n",
            "...                                                ...       ...   \n",
            "25797                                   No ratings yet      True   \n",
            "25797                                   No ratings yet      True   \n",
            "25798    1 of 2 people (50%) found this review helpful      True   \n",
            "25798                                   No ratings yet      True   \n",
            "25798                                   No ratings yet      True   \n",
            "\n",
            "                                                  review  \n",
            "0      Simple yet with great replayability. In my opi...  \n",
            "0                   It's unique and worth a playthrough.  \n",
            "0      Great atmosphere. The gunplay can be a bit chu...  \n",
            "1      I know what you think when you see this title ...  \n",
            "1      For a simple (it's actually not all that simpl...  \n",
            "...                                                  ...  \n",
            "25797  a must have classic from steam definitely wort...  \n",
            "25797  this game is a perfect remake of the original ...  \n",
            "25798  had so much fun plaing this and collecting res...  \n",
            "25798                                                 :D  \n",
            "25798                                     so much fun :D  \n",
            "\n",
            "[58430 rows x 7 columns]\n"
          ]
        }
      ],
      "source": [
        "columns_to_check = [\"posted\", \"item_id\", \"helpful\", \"recommend\", \"review\"]\n",
        "\n",
        "# Elimina filas donde todas las columnas seleccionadas son NaN\n",
        "df_usrev = df_usrev.dropna(subset=columns_to_check, how=\"all\")\n",
        "print(df_usrev)\n",
        "\n"
      ]
    },
    {
      "cell_type": "markdown",
      "metadata": {
        "id": "4o2Kl7bygLPH"
      },
      "source": [
        "volvemos a explorar los NANs. Debe haber aprox el 5% en reviews"
      ]
    },
    {
      "cell_type": "code",
      "execution_count": 16,
      "metadata": {
        "colab": {
          "base_uri": "https://localhost:8080/"
        },
        "id": "C-HPW6KBf7Cz",
        "outputId": "c032e8cb-e12b-4667-ee17-6064e6c06016"
      },
      "outputs": [
        {
          "name": "stdout",
          "output_type": "stream",
          "text": [
            "     Columna  Porcentaje NaN\n",
            "0    user_id        0.000000\n",
            "1   user_url        0.000000\n",
            "2     posted        0.000000\n",
            "3    item_id        0.000000\n",
            "4    helpful        0.000000\n",
            "5  recommend        0.000000\n",
            "6     review        0.051343\n"
          ]
        }
      ],
      "source": [
        "nan_counts = df_usrev.isna().sum()\n",
        "nan_percentages = (nan_counts / len(df_usrev)) * 100\n",
        "nan_table = pd.DataFrame({\"Columna\": nan_counts.index, \"Porcentaje NaN\": nan_percentages.values})\n",
        "print(nan_table)\n"
      ]
    },
    {
      "cell_type": "markdown",
      "metadata": {
        "id": "1X5J_OcwEeXt"
      },
      "source": [
        "eliminamos esos valores para obtener un df limpio de ese tipo de datos"
      ]
    },
    {
      "cell_type": "code",
      "execution_count": 17,
      "metadata": {
        "colab": {
          "base_uri": "https://localhost:8080/"
        },
        "id": "YLC57Di_FCvU",
        "outputId": "21f73124-18de-496e-cb12-e2a7b95a3bcd"
      },
      "outputs": [
        {
          "name": "stdout",
          "output_type": "stream",
          "text": [
            "     Columna  Porcentaje NaN\n",
            "0    user_id             0.0\n",
            "1   user_url             0.0\n",
            "2     posted             0.0\n",
            "3    item_id             0.0\n",
            "4    helpful             0.0\n",
            "5  recommend             0.0\n",
            "6     review             0.0\n"
          ]
        }
      ],
      "source": [
        "df_usrev = df_usrev.dropna(subset=[\"review\"])\n",
        "nan_counts = df_usrev.isna().sum()\n",
        "nan_percentages = (nan_counts / len(df_usrev)) * 100\n",
        "nan_table = pd.DataFrame({\"Columna\": nan_counts.index, \"Porcentaje NaN\": nan_percentages.values})\n",
        "print(nan_table)\n"
      ]
    },
    {
      "cell_type": "markdown",
      "metadata": {
        "id": "wbFQzD9wDycz"
      },
      "source": [
        "##**8. Procesar la columna con información sobre fecha\"**"
      ]
    },
    {
      "cell_type": "markdown",
      "metadata": {
        "id": "h-tnTF08Fbrk"
      },
      "source": [
        "observamos el df para ver si nos falta modificar algo de importancia. Se nota que la columna posted, que indica la fecha en que se publica la review, tiene un formato no estandar.  "
      ]
    },
    {
      "cell_type": "code",
      "execution_count": 18,
      "metadata": {
        "colab": {
          "base_uri": "https://localhost:8080/",
          "height": 597
        },
        "id": "YUHDV2dhFK-7",
        "outputId": "f47c2e7a-076c-43aa-9b31-c6d2460ed27a"
      },
      "outputs": [
        {
          "data": {
            "text/html": [
              "<div>\n",
              "<style scoped>\n",
              "    .dataframe tbody tr th:only-of-type {\n",
              "        vertical-align: middle;\n",
              "    }\n",
              "\n",
              "    .dataframe tbody tr th {\n",
              "        vertical-align: top;\n",
              "    }\n",
              "\n",
              "    .dataframe thead th {\n",
              "        text-align: right;\n",
              "    }\n",
              "</style>\n",
              "<table border=\"1\" class=\"dataframe\">\n",
              "  <thead>\n",
              "    <tr style=\"text-align: right;\">\n",
              "      <th></th>\n",
              "      <th>user_id</th>\n",
              "      <th>user_url</th>\n",
              "      <th>posted</th>\n",
              "      <th>item_id</th>\n",
              "      <th>helpful</th>\n",
              "      <th>recommend</th>\n",
              "      <th>review</th>\n",
              "    </tr>\n",
              "  </thead>\n",
              "  <tbody>\n",
              "    <tr>\n",
              "      <th>0</th>\n",
              "      <td>76561197970982479</td>\n",
              "      <td>http://steamcommunity.com/profiles/76561197970...</td>\n",
              "      <td>Posted November 5, 2011.</td>\n",
              "      <td>1250</td>\n",
              "      <td>No ratings yet</td>\n",
              "      <td>True</td>\n",
              "      <td>Simple yet with great replayability. In my opi...</td>\n",
              "    </tr>\n",
              "    <tr>\n",
              "      <th>0</th>\n",
              "      <td>76561197970982479</td>\n",
              "      <td>http://steamcommunity.com/profiles/76561197970...</td>\n",
              "      <td>Posted July 15, 2011.</td>\n",
              "      <td>22200</td>\n",
              "      <td>No ratings yet</td>\n",
              "      <td>True</td>\n",
              "      <td>It's unique and worth a playthrough.</td>\n",
              "    </tr>\n",
              "    <tr>\n",
              "      <th>0</th>\n",
              "      <td>76561197970982479</td>\n",
              "      <td>http://steamcommunity.com/profiles/76561197970...</td>\n",
              "      <td>Posted April 21, 2011.</td>\n",
              "      <td>43110</td>\n",
              "      <td>No ratings yet</td>\n",
              "      <td>True</td>\n",
              "      <td>Great atmosphere. The gunplay can be a bit chu...</td>\n",
              "    </tr>\n",
              "    <tr>\n",
              "      <th>1</th>\n",
              "      <td>js41637</td>\n",
              "      <td>http://steamcommunity.com/id/js41637</td>\n",
              "      <td>Posted June 24, 2014.</td>\n",
              "      <td>251610</td>\n",
              "      <td>15 of 20 people (75%) found this review helpful</td>\n",
              "      <td>True</td>\n",
              "      <td>I know what you think when you see this title ...</td>\n",
              "    </tr>\n",
              "    <tr>\n",
              "      <th>1</th>\n",
              "      <td>js41637</td>\n",
              "      <td>http://steamcommunity.com/id/js41637</td>\n",
              "      <td>Posted September 8, 2013.</td>\n",
              "      <td>227300</td>\n",
              "      <td>0 of 1 people (0%) found this review helpful</td>\n",
              "      <td>True</td>\n",
              "      <td>For a simple (it's actually not all that simpl...</td>\n",
              "    </tr>\n",
              "    <tr>\n",
              "      <th>...</th>\n",
              "      <td>...</td>\n",
              "      <td>...</td>\n",
              "      <td>...</td>\n",
              "      <td>...</td>\n",
              "      <td>...</td>\n",
              "      <td>...</td>\n",
              "      <td>...</td>\n",
              "    </tr>\n",
              "    <tr>\n",
              "      <th>25797</th>\n",
              "      <td>76561198312638244</td>\n",
              "      <td>http://steamcommunity.com/profiles/76561198312...</td>\n",
              "      <td>Posted July 10.</td>\n",
              "      <td>70</td>\n",
              "      <td>No ratings yet</td>\n",
              "      <td>True</td>\n",
              "      <td>a must have classic from steam definitely wort...</td>\n",
              "    </tr>\n",
              "    <tr>\n",
              "      <th>25797</th>\n",
              "      <td>76561198312638244</td>\n",
              "      <td>http://steamcommunity.com/profiles/76561198312...</td>\n",
              "      <td>Posted July 8.</td>\n",
              "      <td>362890</td>\n",
              "      <td>No ratings yet</td>\n",
              "      <td>True</td>\n",
              "      <td>this game is a perfect remake of the original ...</td>\n",
              "    </tr>\n",
              "    <tr>\n",
              "      <th>25798</th>\n",
              "      <td>LydiaMorley</td>\n",
              "      <td>http://steamcommunity.com/id/LydiaMorley</td>\n",
              "      <td>Posted July 3.</td>\n",
              "      <td>273110</td>\n",
              "      <td>1 of 2 people (50%) found this review helpful</td>\n",
              "      <td>True</td>\n",
              "      <td>had so much fun plaing this and collecting res...</td>\n",
              "    </tr>\n",
              "    <tr>\n",
              "      <th>25798</th>\n",
              "      <td>LydiaMorley</td>\n",
              "      <td>http://steamcommunity.com/id/LydiaMorley</td>\n",
              "      <td>Posted July 20.</td>\n",
              "      <td>730</td>\n",
              "      <td>No ratings yet</td>\n",
              "      <td>True</td>\n",
              "      <td>:D</td>\n",
              "    </tr>\n",
              "    <tr>\n",
              "      <th>25798</th>\n",
              "      <td>LydiaMorley</td>\n",
              "      <td>http://steamcommunity.com/id/LydiaMorley</td>\n",
              "      <td>Posted July 2.</td>\n",
              "      <td>440</td>\n",
              "      <td>No ratings yet</td>\n",
              "      <td>True</td>\n",
              "      <td>so much fun :D</td>\n",
              "    </tr>\n",
              "  </tbody>\n",
              "</table>\n",
              "<p>58400 rows × 7 columns</p>\n",
              "</div>"
            ],
            "text/plain": [
              "                 user_id                                           user_url  \\\n",
              "0      76561197970982479  http://steamcommunity.com/profiles/76561197970...   \n",
              "0      76561197970982479  http://steamcommunity.com/profiles/76561197970...   \n",
              "0      76561197970982479  http://steamcommunity.com/profiles/76561197970...   \n",
              "1                js41637               http://steamcommunity.com/id/js41637   \n",
              "1                js41637               http://steamcommunity.com/id/js41637   \n",
              "...                  ...                                                ...   \n",
              "25797  76561198312638244  http://steamcommunity.com/profiles/76561198312...   \n",
              "25797  76561198312638244  http://steamcommunity.com/profiles/76561198312...   \n",
              "25798        LydiaMorley           http://steamcommunity.com/id/LydiaMorley   \n",
              "25798        LydiaMorley           http://steamcommunity.com/id/LydiaMorley   \n",
              "25798        LydiaMorley           http://steamcommunity.com/id/LydiaMorley   \n",
              "\n",
              "                          posted item_id  \\\n",
              "0       Posted November 5, 2011.    1250   \n",
              "0          Posted July 15, 2011.   22200   \n",
              "0         Posted April 21, 2011.   43110   \n",
              "1          Posted June 24, 2014.  251610   \n",
              "1      Posted September 8, 2013.  227300   \n",
              "...                          ...     ...   \n",
              "25797            Posted July 10.      70   \n",
              "25797             Posted July 8.  362890   \n",
              "25798             Posted July 3.  273110   \n",
              "25798            Posted July 20.     730   \n",
              "25798             Posted July 2.     440   \n",
              "\n",
              "                                               helpful recommend  \\\n",
              "0                                       No ratings yet      True   \n",
              "0                                       No ratings yet      True   \n",
              "0                                       No ratings yet      True   \n",
              "1      15 of 20 people (75%) found this review helpful      True   \n",
              "1         0 of 1 people (0%) found this review helpful      True   \n",
              "...                                                ...       ...   \n",
              "25797                                   No ratings yet      True   \n",
              "25797                                   No ratings yet      True   \n",
              "25798    1 of 2 people (50%) found this review helpful      True   \n",
              "25798                                   No ratings yet      True   \n",
              "25798                                   No ratings yet      True   \n",
              "\n",
              "                                                  review  \n",
              "0      Simple yet with great replayability. In my opi...  \n",
              "0                   It's unique and worth a playthrough.  \n",
              "0      Great atmosphere. The gunplay can be a bit chu...  \n",
              "1      I know what you think when you see this title ...  \n",
              "1      For a simple (it's actually not all that simpl...  \n",
              "...                                                  ...  \n",
              "25797  a must have classic from steam definitely wort...  \n",
              "25797  this game is a perfect remake of the original ...  \n",
              "25798  had so much fun plaing this and collecting res...  \n",
              "25798                                                 :D  \n",
              "25798                                     so much fun :D  \n",
              "\n",
              "[58400 rows x 7 columns]"
            ]
          },
          "execution_count": 18,
          "metadata": {},
          "output_type": "execute_result"
        }
      ],
      "source": [
        "df_usrev"
      ]
    },
    {
      "cell_type": "markdown",
      "metadata": {
        "id": "zjdpWhsVIGKD"
      },
      "source": [
        "Esa columna la convertiremos a datetime, primero quitaremos el \"Posted\" con el que inician las filas. Para mantener las filas que no se puedan coerecionar y no perder informacion cambiaremos los NaNs por \"Sin dato\""
      ]
    },
    {
      "cell_type": "code",
      "execution_count": 19,
      "metadata": {
        "colab": {
          "base_uri": "https://localhost:8080/"
        },
        "id": "CyePeBQhI72c",
        "outputId": "63ffa65e-be77-44a9-9209-9bd471290dc6"
      },
      "outputs": [
        {
          "name": "stdout",
          "output_type": "stream",
          "text": [
            "Cantidad de valores nulos en 'posted' después de la conversión: 9929\n"
          ]
        }
      ],
      "source": [
        "# Eliminar \"Posted \" de las entradas en la columna 'posted'\n",
        "df_usrev[\"posted\"] = df_usrev[\"posted\"].str.replace(\"Posted \", \"\")\n",
        "\n",
        "# Convertir lo restante a fecha y manejar errores con 'coerce' para obtener NaN en caso de fallo\n",
        "df_usrev[\"posted\"] = pd.to_datetime(df_usrev[\"posted\"], dayfirst=True, errors=\"coerce\")\n",
        "\n",
        "# Contar la cantidad de valores nulos en 'posted'\n",
        "cantidad_nulos_en_posted = df_usrev[\"posted\"].isnull().sum()\n",
        "\n",
        "# Imprimir la cantidad de valores nulos\n",
        "print(\"Cantidad de valores nulos en 'posted' después de la conversión:\", cantidad_nulos_en_posted)\n"
      ]
    },
    {
      "cell_type": "markdown",
      "metadata": {
        "id": "iv3a1fc9NAwD"
      },
      "source": [
        "extremos el año de posted y creamos una nueva columna llamada \"year\" para almacenarlo"
      ]
    },
    {
      "cell_type": "code",
      "execution_count": 20,
      "metadata": {
        "id": "VplELQ3LPAxt"
      },
      "outputs": [],
      "source": [
        "df_usrev[\"year\"] = df_usrev[\"posted\"].dt.year.astype(\"object\")\n",
        "# Imputar valores NaN en la columna 'year' con \"Sin dato\"\n",
        "df_usrev['year'].fillna(\"Sin dato\", inplace=True)"
      ]
    },
    {
      "cell_type": "markdown",
      "metadata": {
        "id": "XBeoRFhyLUwE"
      },
      "source": [
        "Observamos antes que la cantidad de datos que se conviertieron en nulos es importante, casi un 15% del df. Son muchos como para perderlos. Podemos probar utilizar la media del año en que se publican. Antes veamos la frecuencia de los valores en \"year\"."
      ]
    },
    {
      "cell_type": "code",
      "execution_count": 21,
      "metadata": {
        "colab": {
          "base_uri": "https://localhost:8080/"
        },
        "id": "twH5q6WkUt7D",
        "outputId": "51b35e33-b5f5-458a-ca41-35277753d341"
      },
      "outputs": [
        {
          "name": "stdout",
          "output_type": "stream",
          "text": [
            "Frecuencia de los años:\n",
            "year\n",
            "2014.0      21821\n",
            "2015.0      18146\n",
            "Sin dato     9929\n",
            "2013.0       6707\n",
            "2012.0       1201\n",
            "2011.0        530\n",
            "2010.0         66\n",
            "Name: count, dtype: int64\n",
            "Estadísticas de Años (excluyendo 'Sin dato'):\n",
            "Media: 2014.148191702255\n",
            "Mediana: 2014.0\n",
            "Moda: 2014.0\n",
            "Error Estándar: 0.8426742164117421\n"
          ]
        }
      ],
      "source": [
        "frecuencia_anios = df_usrev['year'].value_counts()\n",
        "\n",
        "# Imprimir la frecuencia de los años\n",
        "print(\"Frecuencia de los años:\")\n",
        "print(frecuencia_anios)\n",
        "\n",
        "#crear df filtrado para calculo de estadisticos descriptivos\n",
        "df_usrev_filtered = df_usrev[df_usrev['year'] != 'Sin dato']\n",
        "\n",
        "# Calcular la media, mediana y moda (sin dato excluido)\n",
        "media_anios = df_usrev_filtered['year'].astype(float).mean()\n",
        "mediana_anios = df_usrev_filtered['year'].astype(float).median()\n",
        "moda_anios = df_usrev_filtered['year'].astype(float).mode()[0]\n",
        "\n",
        "# Calcular el error estándar\n",
        "error_estandar_anios = df_usrev_filtered['year'].astype(float).std()\n",
        "\n",
        "# Imprimir resultados\n",
        "print(\"Estadísticas de Años (excluyendo 'Sin dato'):\")\n",
        "print(f\"Media: {media_anios}\")\n",
        "print(f\"Mediana: {mediana_anios}\")\n",
        "print(f\"Moda: {moda_anios}\")\n",
        "print(f\"Error Estándar: {error_estandar_anios}\")"
      ]
    },
    {
      "cell_type": "markdown",
      "metadata": {
        "id": "1WwuewIsVciL"
      },
      "source": [
        "Como se puede notar. Hay muchos valores acumulados en 2014. Imputar valores en la media inflaria ese numero. Parece ser mejor optar por dejar \"Sin dato\" para que las casi 10k filas sirvan a otros analisis y excluirlas de calculos numericos cuando sea pertinente para la columna year."
      ]
    },
    {
      "cell_type": "markdown",
      "metadata": {
        "id": "5GkCkswoXxhr"
      },
      "source": [
        "## **9. modificaciones finales**"
      ]
    },
    {
      "cell_type": "markdown",
      "metadata": {
        "id": "2raSK_nUV9ds"
      },
      "source": [
        "veamos el df hasta el momento"
      ]
    },
    {
      "cell_type": "code",
      "execution_count": 22,
      "metadata": {
        "colab": {
          "base_uri": "https://localhost:8080/",
          "height": 649
        },
        "id": "Y4ys-0ZAV_ob",
        "outputId": "2956bd05-e125-42a7-fff1-0de056a3506e"
      },
      "outputs": [
        {
          "data": {
            "text/html": [
              "<div>\n",
              "<style scoped>\n",
              "    .dataframe tbody tr th:only-of-type {\n",
              "        vertical-align: middle;\n",
              "    }\n",
              "\n",
              "    .dataframe tbody tr th {\n",
              "        vertical-align: top;\n",
              "    }\n",
              "\n",
              "    .dataframe thead th {\n",
              "        text-align: right;\n",
              "    }\n",
              "</style>\n",
              "<table border=\"1\" class=\"dataframe\">\n",
              "  <thead>\n",
              "    <tr style=\"text-align: right;\">\n",
              "      <th></th>\n",
              "      <th>user_id</th>\n",
              "      <th>user_url</th>\n",
              "      <th>posted</th>\n",
              "      <th>item_id</th>\n",
              "      <th>helpful</th>\n",
              "      <th>recommend</th>\n",
              "      <th>review</th>\n",
              "      <th>year</th>\n",
              "    </tr>\n",
              "  </thead>\n",
              "  <tbody>\n",
              "    <tr>\n",
              "      <th>0</th>\n",
              "      <td>76561197970982479</td>\n",
              "      <td>http://steamcommunity.com/profiles/76561197970...</td>\n",
              "      <td>2011-11-05</td>\n",
              "      <td>1250</td>\n",
              "      <td>No ratings yet</td>\n",
              "      <td>True</td>\n",
              "      <td>Simple yet with great replayability. In my opi...</td>\n",
              "      <td>2011.0</td>\n",
              "    </tr>\n",
              "    <tr>\n",
              "      <th>0</th>\n",
              "      <td>76561197970982479</td>\n",
              "      <td>http://steamcommunity.com/profiles/76561197970...</td>\n",
              "      <td>2011-07-15</td>\n",
              "      <td>22200</td>\n",
              "      <td>No ratings yet</td>\n",
              "      <td>True</td>\n",
              "      <td>It's unique and worth a playthrough.</td>\n",
              "      <td>2011.0</td>\n",
              "    </tr>\n",
              "    <tr>\n",
              "      <th>0</th>\n",
              "      <td>76561197970982479</td>\n",
              "      <td>http://steamcommunity.com/profiles/76561197970...</td>\n",
              "      <td>2011-04-21</td>\n",
              "      <td>43110</td>\n",
              "      <td>No ratings yet</td>\n",
              "      <td>True</td>\n",
              "      <td>Great atmosphere. The gunplay can be a bit chu...</td>\n",
              "      <td>2011.0</td>\n",
              "    </tr>\n",
              "    <tr>\n",
              "      <th>1</th>\n",
              "      <td>js41637</td>\n",
              "      <td>http://steamcommunity.com/id/js41637</td>\n",
              "      <td>2014-06-24</td>\n",
              "      <td>251610</td>\n",
              "      <td>15 of 20 people (75%) found this review helpful</td>\n",
              "      <td>True</td>\n",
              "      <td>I know what you think when you see this title ...</td>\n",
              "      <td>2014.0</td>\n",
              "    </tr>\n",
              "    <tr>\n",
              "      <th>1</th>\n",
              "      <td>js41637</td>\n",
              "      <td>http://steamcommunity.com/id/js41637</td>\n",
              "      <td>2013-09-08</td>\n",
              "      <td>227300</td>\n",
              "      <td>0 of 1 people (0%) found this review helpful</td>\n",
              "      <td>True</td>\n",
              "      <td>For a simple (it's actually not all that simpl...</td>\n",
              "      <td>2013.0</td>\n",
              "    </tr>\n",
              "    <tr>\n",
              "      <th>...</th>\n",
              "      <td>...</td>\n",
              "      <td>...</td>\n",
              "      <td>...</td>\n",
              "      <td>...</td>\n",
              "      <td>...</td>\n",
              "      <td>...</td>\n",
              "      <td>...</td>\n",
              "      <td>...</td>\n",
              "    </tr>\n",
              "    <tr>\n",
              "      <th>25797</th>\n",
              "      <td>76561198312638244</td>\n",
              "      <td>http://steamcommunity.com/profiles/76561198312...</td>\n",
              "      <td>NaT</td>\n",
              "      <td>70</td>\n",
              "      <td>No ratings yet</td>\n",
              "      <td>True</td>\n",
              "      <td>a must have classic from steam definitely wort...</td>\n",
              "      <td>Sin dato</td>\n",
              "    </tr>\n",
              "    <tr>\n",
              "      <th>25797</th>\n",
              "      <td>76561198312638244</td>\n",
              "      <td>http://steamcommunity.com/profiles/76561198312...</td>\n",
              "      <td>NaT</td>\n",
              "      <td>362890</td>\n",
              "      <td>No ratings yet</td>\n",
              "      <td>True</td>\n",
              "      <td>this game is a perfect remake of the original ...</td>\n",
              "      <td>Sin dato</td>\n",
              "    </tr>\n",
              "    <tr>\n",
              "      <th>25798</th>\n",
              "      <td>LydiaMorley</td>\n",
              "      <td>http://steamcommunity.com/id/LydiaMorley</td>\n",
              "      <td>NaT</td>\n",
              "      <td>273110</td>\n",
              "      <td>1 of 2 people (50%) found this review helpful</td>\n",
              "      <td>True</td>\n",
              "      <td>had so much fun plaing this and collecting res...</td>\n",
              "      <td>Sin dato</td>\n",
              "    </tr>\n",
              "    <tr>\n",
              "      <th>25798</th>\n",
              "      <td>LydiaMorley</td>\n",
              "      <td>http://steamcommunity.com/id/LydiaMorley</td>\n",
              "      <td>NaT</td>\n",
              "      <td>730</td>\n",
              "      <td>No ratings yet</td>\n",
              "      <td>True</td>\n",
              "      <td>:D</td>\n",
              "      <td>Sin dato</td>\n",
              "    </tr>\n",
              "    <tr>\n",
              "      <th>25798</th>\n",
              "      <td>LydiaMorley</td>\n",
              "      <td>http://steamcommunity.com/id/LydiaMorley</td>\n",
              "      <td>NaT</td>\n",
              "      <td>440</td>\n",
              "      <td>No ratings yet</td>\n",
              "      <td>True</td>\n",
              "      <td>so much fun :D</td>\n",
              "      <td>Sin dato</td>\n",
              "    </tr>\n",
              "  </tbody>\n",
              "</table>\n",
              "<p>58400 rows × 8 columns</p>\n",
              "</div>"
            ],
            "text/plain": [
              "                 user_id                                           user_url  \\\n",
              "0      76561197970982479  http://steamcommunity.com/profiles/76561197970...   \n",
              "0      76561197970982479  http://steamcommunity.com/profiles/76561197970...   \n",
              "0      76561197970982479  http://steamcommunity.com/profiles/76561197970...   \n",
              "1                js41637               http://steamcommunity.com/id/js41637   \n",
              "1                js41637               http://steamcommunity.com/id/js41637   \n",
              "...                  ...                                                ...   \n",
              "25797  76561198312638244  http://steamcommunity.com/profiles/76561198312...   \n",
              "25797  76561198312638244  http://steamcommunity.com/profiles/76561198312...   \n",
              "25798        LydiaMorley           http://steamcommunity.com/id/LydiaMorley   \n",
              "25798        LydiaMorley           http://steamcommunity.com/id/LydiaMorley   \n",
              "25798        LydiaMorley           http://steamcommunity.com/id/LydiaMorley   \n",
              "\n",
              "          posted item_id                                          helpful  \\\n",
              "0     2011-11-05    1250                                   No ratings yet   \n",
              "0     2011-07-15   22200                                   No ratings yet   \n",
              "0     2011-04-21   43110                                   No ratings yet   \n",
              "1     2014-06-24  251610  15 of 20 people (75%) found this review helpful   \n",
              "1     2013-09-08  227300     0 of 1 people (0%) found this review helpful   \n",
              "...          ...     ...                                              ...   \n",
              "25797        NaT      70                                   No ratings yet   \n",
              "25797        NaT  362890                                   No ratings yet   \n",
              "25798        NaT  273110    1 of 2 people (50%) found this review helpful   \n",
              "25798        NaT     730                                   No ratings yet   \n",
              "25798        NaT     440                                   No ratings yet   \n",
              "\n",
              "      recommend                                             review      year  \n",
              "0          True  Simple yet with great replayability. In my opi...    2011.0  \n",
              "0          True               It's unique and worth a playthrough.    2011.0  \n",
              "0          True  Great atmosphere. The gunplay can be a bit chu...    2011.0  \n",
              "1          True  I know what you think when you see this title ...    2014.0  \n",
              "1          True  For a simple (it's actually not all that simpl...    2013.0  \n",
              "...         ...                                                ...       ...  \n",
              "25797      True  a must have classic from steam definitely wort...  Sin dato  \n",
              "25797      True  this game is a perfect remake of the original ...  Sin dato  \n",
              "25798      True  had so much fun plaing this and collecting res...  Sin dato  \n",
              "25798      True                                                 :D  Sin dato  \n",
              "25798      True                                     so much fun :D  Sin dato  \n",
              "\n",
              "[58400 rows x 8 columns]"
            ]
          },
          "execution_count": 22,
          "metadata": {},
          "output_type": "execute_result"
        }
      ],
      "source": [
        "df_usrev"
      ]
    },
    {
      "cell_type": "markdown",
      "metadata": {
        "id": "rM-1pcDfX3jr"
      },
      "source": [
        "Antes vimos que helpfull la mayoría de los usuarios no han vertido evaluaciones, podemos borrarla ya que no nos aporta mucha información. User_url tampoco parece ser necesario para las funciones o el modelo. En el caso de posted ocurre algo parecido una vez que se extrajo el año y está en year."
      ]
    },
    {
      "cell_type": "code",
      "execution_count": 23,
      "metadata": {
        "colab": {
          "base_uri": "https://localhost:8080/",
          "height": 423
        },
        "id": "f3wZtl9icYZr",
        "outputId": "029b3e13-0e50-4b13-f3c4-70d4d4603fdd"
      },
      "outputs": [
        {
          "data": {
            "text/html": [
              "<div>\n",
              "<style scoped>\n",
              "    .dataframe tbody tr th:only-of-type {\n",
              "        vertical-align: middle;\n",
              "    }\n",
              "\n",
              "    .dataframe tbody tr th {\n",
              "        vertical-align: top;\n",
              "    }\n",
              "\n",
              "    .dataframe thead th {\n",
              "        text-align: right;\n",
              "    }\n",
              "</style>\n",
              "<table border=\"1\" class=\"dataframe\">\n",
              "  <thead>\n",
              "    <tr style=\"text-align: right;\">\n",
              "      <th></th>\n",
              "      <th>user_id</th>\n",
              "      <th>item_id</th>\n",
              "      <th>recommend</th>\n",
              "      <th>review</th>\n",
              "      <th>year</th>\n",
              "    </tr>\n",
              "  </thead>\n",
              "  <tbody>\n",
              "    <tr>\n",
              "      <th>0</th>\n",
              "      <td>76561197970982479</td>\n",
              "      <td>1250</td>\n",
              "      <td>True</td>\n",
              "      <td>Simple yet with great replayability. In my opi...</td>\n",
              "      <td>2011.0</td>\n",
              "    </tr>\n",
              "    <tr>\n",
              "      <th>0</th>\n",
              "      <td>76561197970982479</td>\n",
              "      <td>22200</td>\n",
              "      <td>True</td>\n",
              "      <td>It's unique and worth a playthrough.</td>\n",
              "      <td>2011.0</td>\n",
              "    </tr>\n",
              "    <tr>\n",
              "      <th>0</th>\n",
              "      <td>76561197970982479</td>\n",
              "      <td>43110</td>\n",
              "      <td>True</td>\n",
              "      <td>Great atmosphere. The gunplay can be a bit chu...</td>\n",
              "      <td>2011.0</td>\n",
              "    </tr>\n",
              "    <tr>\n",
              "      <th>1</th>\n",
              "      <td>js41637</td>\n",
              "      <td>251610</td>\n",
              "      <td>True</td>\n",
              "      <td>I know what you think when you see this title ...</td>\n",
              "      <td>2014.0</td>\n",
              "    </tr>\n",
              "    <tr>\n",
              "      <th>1</th>\n",
              "      <td>js41637</td>\n",
              "      <td>227300</td>\n",
              "      <td>True</td>\n",
              "      <td>For a simple (it's actually not all that simpl...</td>\n",
              "      <td>2013.0</td>\n",
              "    </tr>\n",
              "    <tr>\n",
              "      <th>...</th>\n",
              "      <td>...</td>\n",
              "      <td>...</td>\n",
              "      <td>...</td>\n",
              "      <td>...</td>\n",
              "      <td>...</td>\n",
              "    </tr>\n",
              "    <tr>\n",
              "      <th>25797</th>\n",
              "      <td>76561198312638244</td>\n",
              "      <td>70</td>\n",
              "      <td>True</td>\n",
              "      <td>a must have classic from steam definitely wort...</td>\n",
              "      <td>Sin dato</td>\n",
              "    </tr>\n",
              "    <tr>\n",
              "      <th>25797</th>\n",
              "      <td>76561198312638244</td>\n",
              "      <td>362890</td>\n",
              "      <td>True</td>\n",
              "      <td>this game is a perfect remake of the original ...</td>\n",
              "      <td>Sin dato</td>\n",
              "    </tr>\n",
              "    <tr>\n",
              "      <th>25798</th>\n",
              "      <td>LydiaMorley</td>\n",
              "      <td>273110</td>\n",
              "      <td>True</td>\n",
              "      <td>had so much fun plaing this and collecting res...</td>\n",
              "      <td>Sin dato</td>\n",
              "    </tr>\n",
              "    <tr>\n",
              "      <th>25798</th>\n",
              "      <td>LydiaMorley</td>\n",
              "      <td>730</td>\n",
              "      <td>True</td>\n",
              "      <td>:D</td>\n",
              "      <td>Sin dato</td>\n",
              "    </tr>\n",
              "    <tr>\n",
              "      <th>25798</th>\n",
              "      <td>LydiaMorley</td>\n",
              "      <td>440</td>\n",
              "      <td>True</td>\n",
              "      <td>so much fun :D</td>\n",
              "      <td>Sin dato</td>\n",
              "    </tr>\n",
              "  </tbody>\n",
              "</table>\n",
              "<p>58400 rows × 5 columns</p>\n",
              "</div>"
            ],
            "text/plain": [
              "                 user_id item_id recommend  \\\n",
              "0      76561197970982479    1250      True   \n",
              "0      76561197970982479   22200      True   \n",
              "0      76561197970982479   43110      True   \n",
              "1                js41637  251610      True   \n",
              "1                js41637  227300      True   \n",
              "...                  ...     ...       ...   \n",
              "25797  76561198312638244      70      True   \n",
              "25797  76561198312638244  362890      True   \n",
              "25798        LydiaMorley  273110      True   \n",
              "25798        LydiaMorley     730      True   \n",
              "25798        LydiaMorley     440      True   \n",
              "\n",
              "                                                  review      year  \n",
              "0      Simple yet with great replayability. In my opi...    2011.0  \n",
              "0                   It's unique and worth a playthrough.    2011.0  \n",
              "0      Great atmosphere. The gunplay can be a bit chu...    2011.0  \n",
              "1      I know what you think when you see this title ...    2014.0  \n",
              "1      For a simple (it's actually not all that simpl...    2013.0  \n",
              "...                                                  ...       ...  \n",
              "25797  a must have classic from steam definitely wort...  Sin dato  \n",
              "25797  this game is a perfect remake of the original ...  Sin dato  \n",
              "25798  had so much fun plaing this and collecting res...  Sin dato  \n",
              "25798                                                 :D  Sin dato  \n",
              "25798                                     so much fun :D  Sin dato  \n",
              "\n",
              "[58400 rows x 5 columns]"
            ]
          },
          "execution_count": 23,
          "metadata": {},
          "output_type": "execute_result"
        }
      ],
      "source": [
        "# Lista de columnas a eliminar\n",
        "columnas_a_eliminar = [\"helpful\", \"user_url\", \"posted\"]\n",
        "\n",
        "# Eliminar las columnas en el DataFrame original\n",
        "df_usrev.drop(columnas_a_eliminar, axis=1, inplace=True)\n",
        "\n",
        "# Mostrar el DataFrame resultante\n",
        "df_usrev\n"
      ]
    },
    {
      "cell_type": "code",
      "execution_count": 24,
      "metadata": {
        "colab": {
          "base_uri": "https://localhost:8080/"
        },
        "id": "dlSAFesosvE1",
        "outputId": "09d7b4a1-1d88-4cf3-8359-730fa6825d6b"
      },
      "outputs": [
        {
          "name": "stdout",
          "output_type": "stream",
          "text": [
            "<class 'pandas.core.frame.DataFrame'>\n",
            "Index: 58400 entries, 0 to 25798\n",
            "Data columns (total 5 columns):\n",
            " #   Column     Non-Null Count  Dtype \n",
            "---  ------     --------------  ----- \n",
            " 0   user_id    58400 non-null  object\n",
            " 1   item_id    58400 non-null  object\n",
            " 2   recommend  58400 non-null  object\n",
            " 3   review     58400 non-null  object\n",
            " 4   year       58400 non-null  object\n",
            "dtypes: object(5)\n",
            "memory usage: 2.7+ MB\n",
            "None\n"
          ]
        }
      ],
      "source": [
        "print(df_usrev.info())"
      ]
    },
    {
      "cell_type": "markdown",
      "metadata": {},
      "source": [
        "guardamos la base"
      ]
    },
    {
      "cell_type": "code",
      "execution_count": 25,
      "metadata": {
        "colab": {
          "base_uri": "https://localhost:8080/"
        },
        "id": "Q0J7t_-tYPsL",
        "outputId": "36b0d4e0-a057-4479-fc65-41487ff6608d"
      },
      "outputs": [
        {
          "name": "stdout",
          "output_type": "stream",
          "text": [
            "Has guardado tu base:  bases/users_review_curado.csv\n"
          ]
        }
      ],
      "source": [
        "data_curado = 'bases/users_review_curado.csv'\n",
        "df_usrev.to_csv(data_curado, index=False, encoding='utf-8')\n",
        "\n",
        "print(f'Has guardado tu base:  {data_curado}')"
      ]
    },
    {
      "cell_type": "markdown",
      "metadata": {},
      "source": [
        "importamos"
      ]
    },
    {
      "cell_type": "code",
      "execution_count": 26,
      "metadata": {},
      "outputs": [
        {
          "name": "stdout",
          "output_type": "stream",
          "text": [
            "<class 'pandas.core.frame.DataFrame'>\n",
            "RangeIndex: 58400 entries, 0 to 58399\n",
            "Data columns (total 5 columns):\n",
            " #   Column     Non-Null Count  Dtype \n",
            "---  ------     --------------  ----- \n",
            " 0   user_id    58400 non-null  object\n",
            " 1   item_id    58400 non-null  int64 \n",
            " 2   recommend  58400 non-null  bool  \n",
            " 3   review     58400 non-null  object\n",
            " 4   year       58400 non-null  object\n",
            "dtypes: bool(1), int64(1), object(3)\n",
            "memory usage: 1.8+ MB\n",
            "None\n"
          ]
        }
      ],
      "source": [
        "data_curado = 'bases/users_review_curado.csv'\n",
        "\n",
        "# Importar el archivo CSV como DataFrame\n",
        "df_usrev_importado = pd.read_csv(data_curado, encoding='utf-8')\n",
        "\n",
        "# Mostrar información del DataFrame importado\n",
        "print(df_usrev_importado.info())"
      ]
    }
  ],
  "metadata": {
    "colab": {
      "provenance": []
    },
    "kernelspec": {
      "display_name": "Python 3",
      "name": "python3"
    },
    "language_info": {
      "codemirror_mode": {
        "name": "ipython",
        "version": 3
      },
      "file_extension": ".py",
      "mimetype": "text/x-python",
      "name": "python",
      "nbconvert_exporter": "python",
      "pygments_lexer": "ipython3",
      "version": "3.9.18"
    }
  },
  "nbformat": 4,
  "nbformat_minor": 0
}
